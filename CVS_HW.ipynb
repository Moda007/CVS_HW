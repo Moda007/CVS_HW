{
  "nbformat": 4,
  "nbformat_minor": 0,
  "metadata": {
    "colab": {
      "name": "CVS_HW.ipynb",
      "provenance": [],
      "collapsed_sections": [],
      "toc_visible": true
    },
    "kernelspec": {
      "name": "python3",
      "display_name": "Python 3"
    }
  },
  "cells": [
    {
      "cell_type": "markdown",
      "metadata": {
        "id": "Ul0rvDQ2ZtmZ",
        "colab_type": "text"
      },
      "source": [
        "# **Computer Vision Systems Homework**\n",
        "\n",
        "Hi all!\n",
        "\n",
        "In the spirit of #StayAtHome I tried to assemble a homework project without leaving the house. So, if this looks a little DIY, that's why. So without further ado:\n",
        "\n",
        "## **Welcome to Cactusville!**\n",
        "\n",
        "Cactusville is a small town populated by - you guessed correcty - cacti. Since it is a rapidly developing village, they are considering to use self-driving vehicles in their hometown. Your job as a computer vision maestro is to develop the required detection methods.\n",
        "\n",
        "## The setting\n",
        "\n",
        "Cactusville is quite unique in the sense that the entire surface of the town is covered in blue tablecloth. The exact colour and pattern of the cloth may vary slightly.\n",
        "\n",
        "By-and large there are 3 different objects of interest:\n",
        "\n",
        "* **Cacti:** These are the inhabitants of the village, so self-driving cars must be able to detect them to avoid hitting a cactus. Cacti have four basic sub-types: ***Happy***, ***Sad***, ***Angry*** and ***Evil***\n",
        "* **Vehicles:** These are other vechiles you should also avoid colliding with. There are 3 vehicles in Cactusville: An ***SUV***, a ***truck***, and an ***airplane***.\n",
        "* **Traffic Signs:** There are several signs placed all around the town, often multiple ones on a single stand. There are 55 different traffic sign classes, which are not listed here for the sake of brevity.\n",
        "\n",
        "## Tasks\n",
        "\n",
        "The people of Cactusville provided 4 videos for you to develop your algorithms with. Each video consists of several RGB and corresponding depth frames, which are found in the '*rgb*' and '*depth*' subfolders of the video. They are ordered numerically. The depth image is a single-channel, 16-bit image, where the pixel value is the distance of that pixel from the camera in **mm**.\n",
        "\n",
        "The videos also contain a **calibration.yaml** file, which contains the intrinsic parameters of the camera. These are the same for all videos used, so feel free to hardcode the important values into your program.\n",
        "\n",
        "Your team has to complete the following tasks:\n",
        "\n",
        "1.   **Traditional Vision:** Create an algorithm to accurately detect and classify the 3 objects of interest (Cactus, Vehicle, Traffic Sign). You don't have to determine the subclass at this point.\n",
        "2.   **Deep Learning:** Use a deep learning algorithm to classify traffic signs. The package provided includes a training and validation database of 32x32 RGB images.\n",
        "3.   **3D Vision:** Determine the 3D positions of the object of interest relative to the camera. Use the center of an object's bounding box to determine the position on the image.\n",
        "\n",
        "## Hardcore Tasks\n",
        "\n",
        "There are also 3 hardcore tasks for those who like challenges. These aren't particularly difficult, but they take more work and require you to go a little bit beyond the scope of the practicals.\n",
        "\n",
        "1.   **Traditional Vision:** Determine the subclasses of Cacti and Vehicles\n",
        "2.   **Deep Learning:** Of the 55 possible traffic signs, 3 are missing from the training and test datasets. ('*X - Priority*', '*X - Turn left*', '*X - Turn right*') As a result, the neural net trained in task 2 will not be able to classify them properly. Extend your neural network to classify these as well.\n",
        "3.   **3D Vision:** Determine the absolute pose (4x4 transformation matrix) of the camera as it moves throughout the video. You can safely assume that the pose in the first frame of every video is the identity matrix.\n",
        "\n",
        "## Evaluation and Score\n",
        "\n",
        "The basic package also contains annotations (correct answers) in the file **annotations.pickle** and a small python script **evaluate.py** you can use to measure the performance of your algorithm. \n",
        "\n",
        "Your homework score will be computed using the same script, albeit on 2 secret videos that you were not provided. The reason for this is to make sure that your algorithm works in new situations as well. The secret videos use the same 2 tablecloths and 3 vehicles, but the traffic signs and the cacti may be different. Not to mention the illumination.\n",
        "\n",
        "The tasks will be evaluated using the following metrics:\n",
        "\n",
        "* Task 1 - **Average Precision** (AP): This metric is simply the average of **Recall** (nCorrect / nObject) and **Precision** (nCorrect / nPrediction).\n",
        "* Tasks 1 HC, 2 and 2 HC - **Classification accuracy**\n",
        "* Tasks 3 and 3 HC - **RBF error**: This is simple the squared error between the prediction and the correct answer transformed by an RBF (Radial Basis Function) kernel. This means that a perfect answer has a score of 1, a bad answer will result in a score close to 0.\n",
        "\n",
        "### **Answer format**\n",
        "\n",
        "The evaluation function takes a single argument: A dictionary that containes your predictions. On the top level this dictionary should look like this:\n",
        "\n",
        "```python\n",
        "myAnswers = {\n",
        "    'video1/rgb/1.jpg' : <<Predictions for the image>>,\n",
        "    'video1/rgb/2.jpg' : <<Predictions for the image>>,\n",
        "    ...\n",
        "    'video4/rgb/10.jpg' : <<Predictions for the image>>,\n",
        "}\n",
        "```\n",
        "It is important that the dictionary key contains the video path, since two videos might have image files with the same name. Also, include all images from all videos in the file (even if you have no predictions), since the evaluation function will look for them! The order of the images does not matter.\n",
        "\n",
        "A prediction for a single image should also be a dictionary with the following format:\n",
        "```python\n",
        "myPred = {\n",
        "    'poses' : [t_11, t12_, t_13, t_14, ..., t_33, t_34],\n",
        "    'objects' : [obj_1, obj_2, ... obj_n]\n",
        "}\n",
        "```\n",
        "The key `poses` contains the first three rows of the transformation matrix (the fourth row is always `[0 0 0 1]`). The key `objects` is a list, each element containing a single object prediction. The order of predictions does not matter. A single object prediction is also a list, containing the following elements:\n",
        "```python\n",
        "myObjects = [u, v, w, h, classInd, subClassInd, x, y, z]\n",
        "```\n",
        "\n",
        "* `(u, v)` are the center coordinates of the object's bounding box, while `(w, h)` are the width and height parameters. All four are expected in pixels @640x480 resolution.\n",
        "* `(x, y, z)` are the 3D coordinates of the object relative to the camera. They are expected in **meters**.\n",
        "* `classInd` is the index of the object class in the list `className` (see below). It is between 0 and 2.\n",
        "* `subClassInd` is the index of the subclass in the appropriate list in `subclassNames` (again, see below). It is between [0-54] for traffic signs, [0-2] for vehicles and [0-3] for cacti.\n",
        "\n",
        "## Rules\n",
        "\n",
        "Here are some important rules and guidelines you have to follow:\n",
        "\n",
        "*   This work is to be done in groups of 3 or 4 people. You can do it with less if you feel confident, but not more.\n",
        "*   Forming/finding a group is your job. Once you have one, 1 person from the group shold write me a message on teams with the names and neptun codes of the members.\n",
        "*   If you can't find a group by Sunday, write me and I'll formulate groups with the remaining people.\n",
        "*   The deadline for the submission is Friday midnight on the 14th week. You can make a late submission until the next Sunday midnight.\n",
        "*   You can opt out of the homework. In this case you will beed to take the midterm exam. This will be done via teams video chat (oral exam). If you want to take this option, write me a message by Sunday.\n",
        "*   To pass the homework, you will have to submit a working solution for the 3 basic tasks. The quality of your predictions has to be significantly better than what is achievable by random guessing.\n",
        "\n",
        "### Offered final grade\n",
        "\n",
        "To qualify for the offered final grade (and to skip the exams), you have to complete at least one of the hardcore tasks. What this final grade will be depends on the quality of the predictions. \n",
        "\n",
        "I cannot specify the criteria exactly at this time, since I don't know how easy/hard this homework is yet. I will, however adhere to the following guidelines:\n",
        "\n",
        "*   I'm planning to offer Good (4) and Excellent (5) final grades.\n",
        "*   Those, who completed all 3 hardcore tasks with high quality are gonna get a 5\n",
        "*   Those, who completed at least 2 hardcore tasks with high quality are gonna get **at least** a 4\n",
        "*   'High quality' is undefined to create a situation in which teams compete\n",
        "*   Also, I want to avoid two situations: a., where the criterion is so hard that only a few people manage to get an offered grade; and b., where it is so easy that everyone gets one.\n",
        "*   My goal is that about 40-50% of all students would get an offered grade, 15-20% getting 5, and 25-30% getting 4. These goals are might change if way more people opt out of homework than I expect.\n",
        "\n",
        "### Ethics\n",
        "\n",
        "Copying entire solutions from online sources or each other is plagiarism, and it will be checked using automated tools. There are things that are perfectly okay, such as:\n",
        "*   Copying small snippets (a few lines) from the OpenCV/PyTorch tutorials or stackoverflow, etc.\n",
        "*   Appropriating code from the practicals (you can copy the entire thing), especially the deep learning one.\n",
        "*   Since what is okay and what isn't is a bit subjective, if you are unsure, ask me.\n",
        "\n",
        "## So, how should we do this?\n",
        "\n",
        "So, how can you do this homework, especially if you haven't done things like this before? Here are a few tips:\n",
        "\n",
        "### Environment\n",
        "\n",
        "For development IDE the easiest is to just use Google Colab. To do this you just have to solve the homework inside this notebook. This is the simplest solution, although it has one drawback: the colab notebook has limited debugging capabilities.\n",
        "\n",
        "If you want something more powerful, I recommend the [PyCharm](https://www.jetbrains.com/pycharm/) IDE, which is a free and pretty powerful Python development tool.\n",
        "\n",
        "If you are planning to use PyCharm on Windows, you need to install a Python distribution, since Windows still doesn't come with one (it's 20 effing 20, Microsoft!). I recommend [Anaconda](https://www.anaconda.com/distribution/). Make sure you use Python 3.x and not 2.7.\n",
        "\n",
        "[Here's a tutorial on how to set it up.](https://www.youtube.com/watch?v=e53lRPmWrMI)\n",
        "\n",
        "### Collaboration within the team\n",
        "\n",
        "Since I would strongly discourage teams to collaborate physically in the current situation, I would recommend some methods for remote collaboration.\n",
        "\n",
        "* First of all, use Teams or similar methods to communicate.\n",
        "* Second, use git or a similar version control tool to handle multiple team members working on the same project. \n",
        "* I strongly recommend creating a private repository for your homework on [Github](https://github.com/) (since you can add exactly 3 collaborators - including you that's a 4 person team). There, you can also create issues and other nice-to-have features to track you development. Getting some experience with version control is an absolute must for any engineer anyways.\n",
        "\n",
        "Here's a tutorial for git for those who never used something like this before.\n",
        "\n",
        "To use git from a GUI, I recommend [SmartGit](https://www.syntevo.com/smartgit/) or [Git Extensions](http://gitextensions.github.io/).\n",
        "\n",
        "**ProTip:** If you use a Colab notebook, make sure to clear the output cells (especially figures and images) before you commit. Otherwise you'll litter in your repository.\n",
        "\n",
        "[Here is an introduction to git](https://www.freecodecamp.org/news/learn-the-basics-of-git-in-under-10-minutes-da548267cc91/)\n",
        "\n",
        "### Making a submission\n",
        "\n",
        "You can make a submission at the appropriate page in the edu portal. The results and leaderboard will also be published here. The results are evaluated around 8pm (CET), so it's pointless to make multiple submission per day.\n",
        "\n",
        "**Note**: Your submission should be runnable from Colab or PyCharm (if you used any custom libraries, please note it), and it must include the trained neural network model file from task 2. Also, make sure that only the code required for evaluation is ran (you can use a control variable to skip training code).\n",
        "\n",
        "### Further resources\n",
        "\n",
        "[Python tutorials](https://docs.python.org/3/tutorial/)\n",
        "\n",
        "[OpenCV tutorials](https://opencv-python-tutroals.readthedocs.io/en/latest/py_tutorials/py_tutorials.html)\n",
        "\n",
        "[PyTorch tutorials](https://pytorch.org/tutorials/)\n",
        "\n",
        "\n"
      ]
    },
    {
      "cell_type": "markdown",
      "metadata": {
        "id": "UgWfyt5SdmUn",
        "colab_type": "text"
      },
      "source": [
        "# Solution\n",
        "## Download dataset"
      ]
    },
    {
      "cell_type": "code",
      "metadata": {
        "id": "JpJi3x8AZtEV",
        "colab_type": "code",
        "colab": {}
      },
      "source": [
        "# Homework dataset\n",
        "!wget http://deeplearning.iit.bme.hu/CVS/HW.zip\n",
        "!unzip -qq HW.zip\n",
        "!rm HW.zip\n",
        "\n",
        "# Traffic Sign Classification set\n",
        "!wget http://deeplearning.iit.bme.hu/CVS/trafficSignsHW.zip\n",
        "!unzip -qq trafficSignsHW.zip\n",
        "!rm trafficSignsHW.zip"
      ],
      "execution_count": 0,
      "outputs": []
    },
    {
      "cell_type": "markdown",
      "metadata": {
        "id": "OSTAlH8td3eD",
        "colab_type": "text"
      },
      "source": [
        "## Folder example\n",
        "\n",
        "Get all subfolders in a directory\n",
        "\n",
        "```\n",
        "import os\n",
        "myFolderList = [f.path for f in os.scandir(path) if f.is_dir()]\n",
        "```\n",
        "\n",
        "Get all files with extension in a directory\n",
        "\n",
        "```\n",
        "import glob\n",
        "import re\n",
        "\n",
        "def sorted_nicely( l ):\n",
        "    \"\"\" Sort the given iterable in the way that humans expect.\"\"\"\n",
        "    convert = lambda text: int(text) if text.isdigit() else text\n",
        "    alphanum_key = lambda key: [ convert(c) for c in re.split('([0-9]+)', key) ]\n",
        "    return sorted(l, key = alphanum_key)\n",
        "\n",
        "names = sorted_nicely(glob.glob1(path, \"*.extension\"))\n",
        "```\n",
        "\n",
        "### Class names\n"
      ]
    },
    {
      "cell_type": "code",
      "metadata": {
        "id": "eHMtqb8G7Lwk",
        "colab_type": "code",
        "colab": {}
      },
      "source": [
        "classNames = ['traffic sign', 'vehicle', 'cactus']\n",
        "subclassNames = [\n",
        "    ['Bump', 'Bumpy road', 'Bus stop', 'Children', 'Crossing (blue)', 'Crossing (red)', 'Cyclists',\n",
        "     'Danger (other)', 'Dangerous left turn', 'Dangerous right turn', 'Give way', 'Go ahead', 'Go ahead or left',\n",
        "     'Go ahead or right', 'Go around either way', 'Go around left', 'Go around right', 'Intersection', 'Limit 100',\n",
        "     'Limit 120', 'Limit 20', 'Limit 30', 'Limit 50', 'Limit 60', 'Limit 70', 'Limit 80', 'Limit 80 over',\n",
        "     'Limit over', 'Main road', 'Main road over', 'Multiple dangerous turns', 'Narrow road (left)',\n",
        "     'Narrow road (right)', 'No entry', 'No entry (both directions)', 'No entry (truck)', 'No stopping', 'No takeover',\n",
        "     'No takeover (truck)', 'No takeover (truck) end', 'No takeover end', 'No waiting', 'One way road',\n",
        "     'Parking', 'Road works', 'Roundabout', 'Slippery road', 'Stop', 'Traffic light', 'Train crossing',\n",
        "     'Train crossing (no barrier)', 'Wild animals', 'X - Priority', 'X - Turn left', 'X - Turn right'],\n",
        "    ['SUV','truck','plane'],\n",
        "    ['happy','sad','angry','evil']\n",
        "]"
      ],
      "execution_count": 0,
      "outputs": []
    },
    {
      "cell_type": "markdown",
      "metadata": {
        "id": "aVZdwqSb7dyZ",
        "colab_type": "text"
      },
      "source": [
        "### Display the first images"
      ]
    },
    {
      "cell_type": "code",
      "metadata": {
        "id": "qNjLlbEl7hv_",
        "colab_type": "code",
        "colab": {}
      },
      "source": [
        "\n",
        "colors = [(0,0,255),(255,0,255),(0,255,0)]\n",
        "\n",
        "def drawBBs(BBs, img):\n",
        "    img = cv2.resize(img, (1280, 960))\n",
        "    for BB in BBs:\n",
        "        u = BB[0]*2\n",
        "        v = BB[1]*2\n",
        "        w = BB[2]*2\n",
        "        h = BB[3]*2\n",
        "        c = BB[4]\n",
        "        sc = BB[5]\n",
        "        x = BB[6]\n",
        "        y = BB[7]\n",
        "        z = BB[8]\n",
        "        s = (u - w // 2, v - h // 2)\n",
        "        e = (u + w // 2, v + h // 2)\n",
        "        cv2.rectangle(img, s, e, colors[c], 1)\n",
        "        tl = (s[0], s[1]+15)\n",
        "        bl = (s[0], e[1]-5)\n",
        "        cv2.putText(img,subclassNames[c][sc],tl,cv2.FONT_HERSHEY_COMPLEX_SMALL,0.75,colors[c])\n",
        "        coords = \"(%.2f, %.2f, %.2f)\" % (x,y,z)\n",
        "        cv2.putText(img,coords,bl,cv2.FONT_HERSHEY_COMPLEX_SMALL,0.65,colors[c])\n",
        "    \n",
        "    return img\n",
        "\n",
        "import pickle\n",
        "import cv2\n",
        "import matplotlib.pyplot as plt\n",
        "#This way it doesn't try to open a window un the GUI - works in python notebook\n",
        "%matplotlib inline\n",
        "\n",
        "# Read images\n",
        "img = cv2.imread(\"HW/g1/rgb/1.jpg\")\n",
        "depth = cv2.imread(\"HW/g1/depth/1.png\", -1)\n",
        "\n",
        "# Read annotations\n",
        "file = open('HW/annotations.pickle','rb')\n",
        "annotations = pickle.load(file)\n",
        "\n",
        "# Visualization\n",
        "depth = depth / 5000.0\n",
        "img = drawBBs(annotations[\"HW/g1/rgb/1.jpg\"][\"objects\"], img)\n",
        "img_rgb = cv2.cvtColor(img,cv2.COLOR_BGR2RGB)\n",
        "\n",
        "# Figure with subplots\n",
        "plt.figure(figsize=(30,30))\n",
        "plt.subplot(1,2,1)\n",
        "plt.imshow(img_rgb)\n",
        "plt.subplot(1,2,2)\n",
        "plt.imshow(depth,cmap='gray')"
      ],
      "execution_count": 0,
      "outputs": []
    },
    {
      "cell_type": "markdown",
      "metadata": {
        "id": "fOTJfoULdtTy",
        "colab_type": "text"
      },
      "source": [
        "# Your Work"
      ]
    },
    {
      "cell_type": "markdown",
      "metadata": {
        "id": "rVfLK9bz_EoX",
        "colab_type": "text"
      },
      "source": [
        "## Chores: Clone project repository, and Import libs, assets"
      ]
    },
    {
      "cell_type": "code",
      "metadata": {
        "id": "tFhCTklCT9MT",
        "colab_type": "code",
        "outputId": "4f163af8-222a-4819-c639-05cd6d064244",
        "colab": {
          "base_uri": "https://localhost:8080/",
          "height": 118
        }
      },
      "source": [
        "!rm -rf *\n",
        "!git clone https://github.com/Moda007/CVS_HW.git"
      ],
      "execution_count": 9,
      "outputs": [
        {
          "output_type": "stream",
          "text": [
            "Cloning into 'CVS_HW'...\n",
            "remote: Enumerating objects: 26, done.\u001b[K\n",
            "remote: Counting objects: 100% (26/26), done.\u001b[K\n",
            "remote: Compressing objects: 100% (24/24), done.\u001b[K\n",
            "remote: Total 26 (delta 6), reused 0 (delta 0), pack-reused 0\u001b[K\n",
            "Unpacking objects: 100% (26/26), done.\n"
          ],
          "name": "stdout"
        }
      ]
    },
    {
      "cell_type": "code",
      "metadata": {
        "id": "-X2SyWik_OtX",
        "colab_type": "code",
        "colab": {}
      },
      "source": [
        "# import libraries\n",
        "import os\n",
        "import glob\n",
        "import re\n",
        "import pickle\n",
        "from datetime import datetime\n",
        "\n",
        "from PIL import Image\n",
        "import cv2\n",
        "from google.colab.patches import cv2_imshow\n",
        "\n",
        "\n",
        "import matplotlib.pyplot as plt\n",
        "import matplotlib.image as mpimg\n",
        "%matplotlib inline\n",
        "\n",
        "import numpy as np\n",
        "import random\n",
        "from sklearn.cluster import KMeans"
      ],
      "execution_count": 0,
      "outputs": []
    },
    {
      "cell_type": "code",
      "metadata": {
        "id": "v1Ql0P-d9axu",
        "colab_type": "code",
        "colab": {}
      },
      "source": [
        "# import DL libraries\n",
        "import tensorflow as tf\n",
        "from tensorflow.keras.models import Sequential\n",
        "from tensorflow.keras.layers import Dense, Conv2D, MaxPooling2D, Dropout, Flatten\n",
        "\n",
        "import keras\n",
        "from numpy import loadtxt\n",
        "from keras.models import load_model\n",
        "from sklearn.model_selection import train_test_split"
      ],
      "execution_count": 0,
      "outputs": []
    },
    {
      "cell_type": "code",
      "metadata": {
        "id": "9ea4C_9B_PGu",
        "colab_type": "code",
        "colab": {}
      },
      "source": [
        "# import assets\n",
        "Traffic_Signs_Folder_Path = '/content/trafficSignsHW/'\n",
        "DL_MODEL_PATH = '/content/CVS_HW/savedModels/'\n",
        "DL_MODEL_2_FILE = 'model_task02.h5'\n",
        "DL_MODEL_2HC_FILE = 'model_task02HC.h5'\n",
        "\n",
        "!wget http://deeplearning.iit.bme.hu/CVS/HW.zip\n",
        "!unzip -qq HW.zip\n",
        "!rm HW.zip\n",
        "\n",
        "# Traffic Sign Classification set\n",
        "!wget http://deeplearning.iit.bme.hu/CVS/trafficSignsHW.zip\n",
        "!unzip -qq trafficSignsHW.zip\n",
        "!rm trafficSignsHW.zip\n",
        "\n",
        "# Missing Traffic Sign Classification set\n",
        "!mkdir /content/trafficSignsExtra\n",
        "!unzip -qq /content/CVS_HW/TrafficTrain.zip -d /content/trafficSignsExtra\n",
        "!unzip -qq /content/CVS_HW/TrafficTest.zip -d /content/trafficSignsExtra\n",
        "\n",
        "!cp -R /content/trafficSignsExtra/TrafficTrain/* /content/trafficSignsHW/testFULL\n",
        "!cp -R /content/trafficSignsExtra/TrafficTest/* /content/trafficSignsHW/testFULL\n",
        "\n",
        "!mkdir /content/CVS_HW/savedModels"
      ],
      "execution_count": 0,
      "outputs": []
    },
    {
      "cell_type": "code",
      "metadata": {
        "id": "y_ysXLit5ZpM",
        "colab_type": "code",
        "colab": {}
      },
      "source": [
        "# get run time\n",
        "dateTimeObj = datetime.now()\n",
        "run_datetime = str(dateTimeObj.month) + str(dateTimeObj.day) + str(dateTimeObj.hour+2)"
      ],
      "execution_count": 0,
      "outputs": []
    },
    {
      "cell_type": "markdown",
      "metadata": {
        "id": "jBgC-GDkAA7k",
        "colab_type": "text"
      },
      "source": [
        "## Sub-functions"
      ]
    },
    {
      "cell_type": "markdown",
      "metadata": {
        "id": "rKbChfrVGJTz",
        "colab_type": "text"
      },
      "source": [
        "### Asset processing"
      ]
    },
    {
      "cell_type": "code",
      "metadata": {
        "id": "Cy09RNPFTGlK",
        "colab_type": "code",
        "colab": {}
      },
      "source": [
        "base_path = \"/content\"\n",
        "videos_path = \"HW\""
      ],
      "execution_count": 0,
      "outputs": []
    },
    {
      "cell_type": "code",
      "metadata": {
        "id": "Ldy-UnGZThJC",
        "colab_type": "code",
        "colab": {}
      },
      "source": [
        "def sort_names_nicely(names):\n",
        "    \"\"\" Sort the given iterable in the way that humans expect.\"\"\"\n",
        "    convert = lambda text: int(text) if text.isdigit() else text\n",
        "    alphanum_key = lambda key: [ convert(c) for c in re.split('([0-9]+)', key) ]\n",
        "    return sorted(names, key = alphanum_key)"
      ],
      "execution_count": 0,
      "outputs": []
    },
    {
      "cell_type": "code",
      "metadata": {
        "id": "fg7sb3CXHDWd",
        "colab_type": "code",
        "colab": {}
      },
      "source": [
        "def get_folders_to_predict():\n",
        "  \"\"\" Get main folder for all videos to be processed.\"\"\"\n",
        "  folder_paths = ['/content/HW/g1'] # mock line\n",
        "  path = base_path + '/' + videos_path\n",
        "  \n",
        "  # folder_paths = [f.path for f in os.scandir(path) if f.is_dir()]\n",
        "  return folder_paths"
      ],
      "execution_count": 0,
      "outputs": []
    },
    {
      "cell_type": "code",
      "metadata": {
        "id": "m19TNQwnSZyH",
        "colab_type": "code",
        "colab": {}
      },
      "source": [
        "def get_img_seq_nr(path):\n",
        "  \"\"\" Get sorted list of image sequence numbers/file names without extension.\"\"\"\n",
        "  seqs = [os.path.basename(file)[:-4] for file in glob.glob(path + '/**/*.jpg')]\n",
        "  seqs_sorted = sort_names_nicely(seqs)\n",
        "  return seqs_sorted"
      ],
      "execution_count": 0,
      "outputs": []
    },
    {
      "cell_type": "markdown",
      "metadata": {
        "id": "h3_slhdNGPF7",
        "colab_type": "text"
      },
      "source": [
        "### Object processing"
      ]
    },
    {
      "cell_type": "code",
      "metadata": {
        "id": "S2okcpOx_cS-",
        "colab_type": "code",
        "colab": {}
      },
      "source": [
        "def predict_objects_in_video(video_path):\n",
        "  images = [\"1\",\"159\"] # mock line\n",
        "  # images = get_img_seq_nr(video_path)\n",
        "  objects_in_video = {}\n",
        "  visualized_list = []\n",
        "\n",
        "  for image in images:\n",
        "    path_len = len(base_path) # path position for extracting image key\n",
        "    img_key = video_path[path_len+1:] + \"/\" + \"rgb/\" + image + \".jpg\"\n",
        "    img_path = video_path + \"/\" + \"rgb/\" + image + \".jpg\"\n",
        "    img_depth_path = video_path + \"/\" + \"depth/\" + image + \".png\"\n",
        "\n",
        "    img_orig = cv2.imread(img_path)\n",
        "    img_orig_depth = cv2.imread(img_depth_path,-1)\n",
        "    print(img_depth_path)\n",
        "\n",
        "    objects_in_image, image_proc_steps = predict_objects_in_image(img_orig, img_orig_depth)\n",
        "    objects_in_video[img_key] = objects_in_image\n",
        "    visualized_list.append(image_proc_steps)\n",
        "\n",
        "  return objects_in_video, visualized_list"
      ],
      "execution_count": 0,
      "outputs": []
    },
    {
      "cell_type": "code",
      "metadata": {
        "id": "VYFAms8H9Q_F",
        "colab_type": "code",
        "colab": {}
      },
      "source": [
        "def predict_objects_in_image(rgb_img, depth_img):\n",
        "  \"\"\" Get predictions for a single image based on the colored and the depth image.\"\"\"\n",
        "  poses = [1.0,0.0,0.0,-0.0,0.0,1.0,0.0,-0.0,0.0,0.0,1.0,-0.0]\n",
        "  objects, image_proc_steps = detect_objects_in_image(rgb_img, depth_img) # [u, v, w, h, classInd, subClassInd, x, y, z, leftTopX, leftTopY]\n",
        "  object_list = []\n",
        "\n",
        "  for obj in objects:\n",
        "    cropped_obj, cropped_img_wo_bg = crop_obj(rgb_img.copy(), image_proc_steps[3].copy(), obj)\n",
        "    # cv2_imshow(cropped_img_wo_bg)\n",
        "    obj['classInd'] = classify_ooi(cropped_img_wo_bg)\n",
        "    obj.pop('leftTopX')\n",
        "    obj.pop('leftTopY')\n",
        "\n",
        "    if obj['classInd'] != 0:\n",
        "      obj['subClassInd'] = detect_vehicles_cactus_subclass(cropped_obj, obj['classInd'])\n",
        "      obj['x'], obj['y'], obj['z'] = get_camera_coords(depth_img, obj['u'], obj['v'])\n",
        "      obj_to_append = list(obj.values())\n",
        "    else:\n",
        "      obj_to_append = traffic_signs(cropped_obj)\n",
        "    \n",
        "    object_list.append(obj_to_append)\n",
        "\n",
        "  prediction = { 'poses' : poses, 'objects' : object_list }\n",
        "\n",
        "  return prediction, image_proc_steps"
      ],
      "execution_count": 0,
      "outputs": []
    },
    {
      "cell_type": "code",
      "metadata": {
        "id": "udSRJXu85Q77",
        "colab_type": "code",
        "colab": {}
      },
      "source": [
        "def crop_obj(img, eroded_img, obj_param):\n",
        "  \"\"\" crop objects out from the original image depending on thier parameters.\"\"\"\n",
        "  leftTopX = obj_param['leftTopX']\n",
        "  leftTopY = obj_param['leftTopY']\n",
        "  w = obj_param['w']\n",
        "  h = obj_param['h']\n",
        "\n",
        "  w0 = leftTopX\n",
        "  w1 = leftTopX + w\n",
        "  h0 = leftTopY\n",
        "  h1 = leftTopY + h\n",
        "\n",
        "  cropped_img = img[h0:h1 , w0:w1]\n",
        "  cropped_eroded_img = eroded_img[h0:h1 , w0:w1]\n",
        "\n",
        "  black_pixels_mask = np.any(cropped_eroded_img != [0, 0, 0], axis=-1)  \n",
        "  cropped_img_wo_bg = cropped_img.copy()\n",
        "  cropped_img_wo_bg[black_pixels_mask] = [0,0,0]\n",
        "  # cv2_imshow(cropped_img)\n",
        "  # cv2_imshow(cropped_eroded_img)\n",
        "  # cv2_imshow(cropped_img_wo_bg)\n",
        "\n",
        "  return cropped_img, cropped_img_wo_bg"
      ],
      "execution_count": 0,
      "outputs": []
    },
    {
      "cell_type": "code",
      "metadata": {
        "id": "sqJnXPFYdo_u",
        "colab_type": "code",
        "colab": {}
      },
      "source": [
        "def fetching_traffic_signs(dataSetType, extra = false):\n",
        "\n",
        "  if extra:\n",
        "    idx_start, idx_end = 52, 55\n",
        "    i = 52\n",
        "  else:\n",
        "    idx_start, idx_end = 0, 52\n",
        "    i = 0\n",
        "\n",
        "  main_path = Traffic_Signs_Folder_Path\n",
        "  sub_path = dataSetType + 'FULL/'\n",
        "\n",
        "  x_data = np.array(list())\n",
        "  y_data = np.array(list())\n",
        "  for name in subclassNames[0][idx_start : idx_end]:\n",
        "    imgs = glob.glob(main_path + sub_path + name + '/*.jpg')\n",
        "    x = np.array([np.array(Image.open(fname)) for fname in imgs])\n",
        "    y = np.full(len(imgs), i)\n",
        "    i += 1\n",
        "    if x_data.size == 0:\n",
        "      x_data = x.copy()\n",
        "      y_data = y.copy()\n",
        "    else:\n",
        "      x_data = np.vstack((x_train, x))\n",
        "      y_data = np.hstack((y_train, y))\n",
        "    \n",
        "\n",
        "  return x_data, y_data"
      ],
      "execution_count": 0,
      "outputs": []
    },
    {
      "cell_type": "markdown",
      "metadata": {
        "id": "SKIUsSDBGiui",
        "colab_type": "text"
      },
      "source": [
        "### 1 Traditional vision\n",
        ">Create an algorithm to accurately detect and classify the 3 objects of interest (Cactus, Vehicle, Traffic Sign).\n",
        "\n"
      ]
    },
    {
      "cell_type": "code",
      "metadata": {
        "id": "Y8zMiz7Lwb0P",
        "colab_type": "code",
        "colab": {}
      },
      "source": [
        "def detect_objects_in_image(rgb_img, depth_img):\n",
        "  \"\"\" Get bounding boxes/rectangles for objects.\"\"\"\n",
        "  image_proc_steps = []\n",
        "  # ============================================================================\n",
        "  # Create clustered depth image >> Identify background wall\n",
        "  # Input: depth_img\n",
        "  # Output: depth_clustered\n",
        "  # ============================================================================\n",
        "  depth_div = depth_img.copy()/255\n",
        "  depth_norm = depth_div.reshape(depth_div.shape[0]*depth_div.shape[1], -1)\n",
        "\n",
        "  kmeans = KMeans(n_clusters=2, random_state=1).fit(depth_norm)\n",
        "  clustered = kmeans.cluster_centers_[kmeans.labels_]\n",
        "  depth_clusters = clustered.reshape(depth_div.shape[0], depth_div.shape[1], -1)\n",
        "  depth_clustered = depth_clusters.reshape(depth_div.shape[0], depth_div.shape[1])\n",
        "  image_proc_steps.append(depth_clustered)\n",
        "\n",
        "  # ============================================================================\n",
        "  # Create threshold for potential tableclothes >> Identify floor\n",
        "  # Input: rgb_img\n",
        "  # Output: floor_removed\n",
        "  # ============================================================================\n",
        "\n",
        "  shifted_img = cv2.pyrMeanShiftFiltering(rgb_img.copy(), 21, 51) # 21, 51\n",
        "  shifted_img_gray = cv2.cvtColor(shifted_img, cv2.COLOR_BGR2GRAY)\n",
        "  floor_removed = cv2.threshold(shifted_img_gray, 0, 255, cv2.THRESH_BINARY | cv2.THRESH_OTSU)[1]\n",
        "  image_proc_steps.append(floor_removed)\n",
        "\n",
        "  # ============================================================================\n",
        "  # Remove background and floor >> Get only the interesting areas on the img\n",
        "  # Input: depth_img, rgb_img, depth_clustered\n",
        "  # Output: interesting_spots\n",
        "  # ============================================================================\n",
        "  orig_depth=depth_img.copy()\n",
        "  interesting_spots=rgb_img.copy()\n",
        "\n",
        "  thr = np.unique(depth_clustered*255)[0]\n",
        "  for row in range(orig_depth.shape[0]):\n",
        "    row_stats={}\n",
        "    no_zero = np.asarray([i for i in orig_depth[row] if i != 0])\n",
        "    row_stats['mean']=no_zero.mean()\n",
        "    thresh=row_stats['mean']\n",
        "    for col in range(orig_depth.shape[1]-1, -1, -1):\n",
        "      if(orig_depth[row][col]>thresh or orig_depth[row][col] == 0 or depth_clustered[row][col]*255 > thr or floor_removed[row][col]==255):\n",
        "        interesting_spots[row][col][0]=255\n",
        "        interesting_spots[row][col][1]=255\n",
        "        interesting_spots[row][col][2]=255\n",
        "      else:\n",
        "        interesting_spots[row][col][0]=0\n",
        "        interesting_spots[row][col][1]=0\n",
        "        interesting_spots[row][col][2]=0\n",
        "  image_proc_steps.append(interesting_spots)\n",
        "\n",
        "  # ============================================================================\n",
        "  # Erode image >> Prepare for edge detection\n",
        "  # Input: interesting_spots\n",
        "  # Output: eroded_img_uint8\n",
        "  # ============================================================================\n",
        "  kernel = np.ones((3,3),np.uint8)\n",
        "  to_be_eroded=interesting_spots.copy()\n",
        "  eroded_img=cv2.erode(to_be_eroded,kernel,iterations = 7)\n",
        "  eroded_img_uint8 = eroded_img.astype(np.uint8)\n",
        "  image_proc_steps.append(eroded_img_uint8)\n",
        "\n",
        "  # ============================================================================\n",
        "  # Canny edge detection, Contour search >> Prepare for bounding box detection\n",
        "  # Input: eroded_img_uint8\n",
        "  # Output: img_edges, contours\n",
        "  # ============================================================================\n",
        "  to_be_cannied=cv2.cvtColor(eroded_img_uint8.copy(), cv2.COLOR_BGR2GRAY)\n",
        "  img_edges = cv2.Canny(to_be_cannied,50,120)\n",
        "  contours,hierarchy = cv2.findContours(img_edges, 1, 2)\n",
        "  # contours,hierarchy = cv2.findContours(to_be_contoured,cv2.RETR_LIST,cv2.CHAIN_APPROX_NONE)\n",
        "  # print(len(contours))\n",
        "  image_proc_steps.append(img_edges)\n",
        "\n",
        "  # ============================================================================\n",
        "  # Get bounding boxes based on contours\n",
        "  # Input: rgb_img, contours\n",
        "  # Output: bounding_rects\n",
        "  # ============================================================================\n",
        "  pic_for_rects = rgb_img.copy()\n",
        "\n",
        "  bounding_rects = []\n",
        "  for cnt in contours:\n",
        "    x,y,w,h = cv2.boundingRect(cnt)\n",
        "    u=x+w//2\n",
        "    v=y+h//2\n",
        "    duplicate = is_duplicate(bounding_rects,u,v,w,h)\n",
        "    if(w < 300 and w>32 and h > 32 and h <220 and not duplicate):\n",
        "      rect = {\"u\":u,\"v\":v,\"w\":w,\"h\":h,\"classInd\":0,\"subClassInd\":0,\"x\":0,\"y\":0,\"z\":0,\"leftTopX\":x,\"leftTopY\":y}\n",
        "      cv2.rectangle(pic_for_rects, (x, y), (x+w, y+h), (0,255,0), 2)\n",
        "      bounding_rects.append(rect)\n",
        "    # cv2.drawContours(pic_for_rects_cont, contours, -1, (0,255,0), 3)\n",
        "  image_proc_steps.append(pic_for_rects)\n",
        "\n",
        "  # bounding_rects = [{\"u\":129,\"v\":376,\"w\":183,\"h\":126,\"classInd\":0,\"subClassInd\":0,\"x\":0,\"y\":0,\"z\":0},\n",
        "  #         {\"u\":595,\"v\":280,\"w\":87,\"h\":147,\"classInd\":0,\"subClassInd\":0,\"x\":0,\"y\":0,\"z\":0}]\n",
        "  return bounding_rects, image_proc_steps"
      ],
      "execution_count": 0,
      "outputs": []
    },
    {
      "cell_type": "code",
      "metadata": {
        "id": "VXHjBgjcM6y5",
        "colab_type": "code",
        "colab": {}
      },
      "source": [
        "def is_duplicate(item_list, u,v,w,h):\n",
        "  \"\"\" Remove duplicate rectangles in list based on u,v,w,h params\"\"\"\n",
        "  for item in item_list:\n",
        "    if(item[\"u\"]==u and item[\"v\"]==v and item[\"w\"]==w and item[\"h\"]==h):\n",
        "      return True\n",
        "  return False"
      ],
      "execution_count": 0,
      "outputs": []
    },
    {
      "cell_type": "code",
      "metadata": {
        "id": "sPx4hIXJxFzi",
        "colab_type": "code",
        "colab": {}
      },
      "source": [
        "def classify_ooi(obj_wo_bg):\n",
        "  \"\"\" Classification of object of interests (Cacti, Vehicle, Traffic Sign)\"\"\"\n",
        "  classNames = ['traffic sign', 'vehicle', 'cactus']\n",
        "  frame = obj_wo_bg.copy()\n",
        "  # Convert BGR to HSV\n",
        "  hsv = cv2.cvtColor(frame, cv2.COLOR_BGR2HSV)\n",
        "  count_red = 0\n",
        "  count_yellow = 0\n",
        "  res=hsv.copy()\n",
        "  all_p = 0\n",
        "  for row in range(res.shape[0]):\n",
        "    for col in range(res.shape[1]):\n",
        "      pixel_h = res[row][col][0]\n",
        "      pixel_s = res[row][col][1]\n",
        "      pixel_v = res[row][col][2]\n",
        "      # s_in_range = pixel_s >= 20 and pixel_s <= 255\n",
        "      s_in_range=True\n",
        "      # v_in_range = pixel_v >= 50 and pixel_v <= 255\n",
        "      v_in_range=pixel_v != 0\n",
        "      if s_in_range and v_in_range:\n",
        "        all_p += 1\n",
        "        red01 = pixel_h >= 0 and pixel_h <= 11\n",
        "        red02 = pixel_h >= 165 and pixel_h <= 180\n",
        "        yellow = pixel_h >= 17 and pixel_h <= 38\n",
        "        if red01 or red02:\n",
        "          count_red += 1\n",
        "        elif yellow:\n",
        "          count_yellow += 1\n",
        "  if((count_red + count_yellow) / all_p) > 0.5:\n",
        "    obj_class = 1\n",
        "  else:\n",
        "    obj_class = 2\n",
        "  # perc_red = count_red / all_p\n",
        "  # perc_yellow = count_yellow / all_p\n",
        "  \n",
        "  return obj_class"
      ],
      "execution_count": 0,
      "outputs": []
    },
    {
      "cell_type": "markdown",
      "metadata": {
        "id": "QWLEqUx1hXh5",
        "colab_type": "text"
      },
      "source": [
        "### 1 Traditional vision - HC\n",
        ">Create an algorithm to accurately detect and classify the 2 objects of interest (Cactus, Vehicle) into thier subclasses."
      ]
    },
    {
      "cell_type": "code",
      "metadata": {
        "id": "HBk1BZdH384N",
        "colab_type": "code",
        "colab": {}
      },
      "source": [
        "def detect_vehicles_cactus_subclass(obj_img, class_idx):\n",
        "  subClass_idx = 10\n",
        "  if class_idx == 1:\n",
        "    subClass_idx = detect_vehicle_subClass(obj_img)\n",
        "  elif class_idx == 2:\n",
        "    subClass_idx = detect_cactus_subClass(obj_img)\n",
        "  return subClass_idx"
      ],
      "execution_count": 0,
      "outputs": []
    },
    {
      "cell_type": "code",
      "metadata": {
        "id": "OOENvVVq-rAn",
        "colab_type": "code",
        "colab": {}
      },
      "source": [
        "def detect_vehicle_subClass(obj_img):\n",
        "  return 0"
      ],
      "execution_count": 0,
      "outputs": []
    },
    {
      "cell_type": "code",
      "metadata": {
        "id": "MTEobI-S-ztc",
        "colab_type": "code",
        "colab": {}
      },
      "source": [
        "def detect_cactus_subClass(obj_img):\n",
        "  return 0"
      ],
      "execution_count": 0,
      "outputs": []
    },
    {
      "cell_type": "markdown",
      "metadata": {
        "id": "zytpOX9QGpqa",
        "colab_type": "text"
      },
      "source": [
        "###2 Deep learning\n",
        ">Create a deep learning algorithm to classify traffic signs into 52 provided subclasses."
      ]
    },
    {
      "cell_type": "markdown",
      "metadata": {
        "id": "A6ew60krc_2O",
        "colab_type": "text"
      },
      "source": [
        "#### Fetching and preparing DL datasets (52 traffic sign classes)"
      ]
    },
    {
      "cell_type": "code",
      "metadata": {
        "id": "Bt5mSTD2fl7o",
        "colab_type": "code",
        "colab": {}
      },
      "source": [
        "x_train, y_train = fetching_traffic_signs('train')\n",
        "x_test, y_test = fetching_traffic_signs('test')"
      ],
      "execution_count": 0,
      "outputs": []
    },
    {
      "cell_type": "markdown",
      "metadata": {
        "id": "p2GAICnXgJ--",
        "colab_type": "text"
      },
      "source": [
        "#### Converting labels class vectors to binary class matrix"
      ]
    },
    {
      "cell_type": "code",
      "metadata": {
        "id": "mK6f2nB5gLrF",
        "colab_type": "code",
        "colab": {}
      },
      "source": [
        "y_train = tf.keras.utils.to_categorical(y_train, 52)\n",
        "y_test = tf.keras.utils.to_categorical(y_test, 52)"
      ],
      "execution_count": 0,
      "outputs": []
    },
    {
      "cell_type": "markdown",
      "metadata": {
        "id": "EHlawdKc9Aph",
        "colab_type": "text"
      },
      "source": [
        "#### Normalizing Dataset"
      ]
    },
    {
      "cell_type": "code",
      "metadata": {
        "colab_type": "code",
        "id": "RY9ARrVh4oMX",
        "colab": {}
      },
      "source": [
        "x_train = x_train.astype('float32')\n",
        "x_test = x_test.astype('float32')\n",
        "x_train /= 255\n",
        "x_test /= 255"
      ],
      "execution_count": 0,
      "outputs": []
    },
    {
      "cell_type": "markdown",
      "metadata": {
        "id": "kUfKQAOVgU8d",
        "colab_type": "text"
      },
      "source": [
        "#### Creating Valid DS ( 20 % out of Train DS)"
      ]
    },
    {
      "cell_type": "code",
      "metadata": {
        "id": "sgdFzaxpMGE6",
        "colab_type": "code",
        "colab": {}
      },
      "source": [
        "x_train, x_valid, y_train, y_valid = train_test_split(x_train, y_train, test_size=0.2, random_state=42)"
      ],
      "execution_count": 0,
      "outputs": []
    },
    {
      "cell_type": "code",
      "metadata": {
        "id": "rzSH4f4GNLTr",
        "colab_type": "code",
        "colab": {}
      },
      "source": [
        "x_train.shape, y_train.shape, x_valid.shape, y_valid.shape"
      ],
      "execution_count": 0,
      "outputs": []
    },
    {
      "cell_type": "markdown",
      "metadata": {
        "id": "x9Kpt2kZgeXW",
        "colab_type": "text"
      },
      "source": [
        "#### Creating Function to create the Conv NN with MaxPooling and Dropout layers "
      ]
    },
    {
      "cell_type": "code",
      "metadata": {
        "id": "tZG0IyItgpMt",
        "colab_type": "code",
        "colab": {}
      },
      "source": [
        "def createModel(input_shape):\n",
        "    model = Sequential()\n",
        "    model.add(Conv2D(32, (3, 3), padding='same', activation='relu', input_shape=input_shape))\n",
        "    model.add(Conv2D(32, (3, 3), activation='relu'))\n",
        "    model.add(MaxPooling2D(pool_size=(2, 2)))\n",
        "    model.add(Dropout(0.25))\n",
        " \n",
        "    model.add(Conv2D(64, (3, 3), padding='same', activation='relu'))\n",
        "    model.add(Conv2D(64, (3, 3), activation='relu'))\n",
        "    model.add(MaxPooling2D(pool_size=(2, 2)))\n",
        "    model.add(Dropout(0.25))\n",
        " \n",
        "    model.add(Conv2D(64, (3, 3), padding='same', activation='relu'))\n",
        "    model.add(Conv2D(64, (3, 3), activation='relu'))\n",
        "    model.add(MaxPooling2D(pool_size=(2, 2)))\n",
        "    model.add(Dropout(0.25))\n",
        " \n",
        "    model.add(Flatten())\n",
        "    model.add(Dense(512, activation='relu'))\n",
        "    model.add(Dropout(0.5))\n",
        "    model.add(Dense(52, activation='softmax'))\n",
        "     \n",
        "    return model"
      ],
      "execution_count": 0,
      "outputs": []
    },
    {
      "cell_type": "markdown",
      "metadata": {
        "id": "uI4_Ls9ngqBA",
        "colab_type": "text"
      },
      "source": [
        "#### Model Creating"
      ]
    },
    {
      "cell_type": "code",
      "metadata": {
        "id": "osLo_7vFgtq1",
        "colab_type": "code",
        "colab": {}
      },
      "source": [
        "opt = tf.keras.optimizers.RMSprop(lr=0.0001, decay=1e-6)\n",
        "\n",
        "model_task02 = createModel(x_train.shape[1:])\n",
        "\n",
        "model_task02.compile(loss='categorical_crossentropy',\n",
        "                    optimizer=opt,\n",
        "                    metrics=['accuracy'])"
      ],
      "execution_count": 0,
      "outputs": []
    },
    {
      "cell_type": "code",
      "metadata": {
        "id": "d-MF8KuHguM2",
        "colab_type": "code",
        "colab": {}
      },
      "source": [
        "model_task02.summary()"
      ],
      "execution_count": 0,
      "outputs": []
    },
    {
      "cell_type": "markdown",
      "metadata": {
        "id": "DcgMWf-EgyUM",
        "colab_type": "text"
      },
      "source": [
        "#### Model Training for 50 Epochs"
      ]
    },
    {
      "cell_type": "code",
      "metadata": {
        "id": "_849luDwg1FE",
        "colab_type": "code",
        "colab": {}
      },
      "source": [
        "import time\n",
        "\n",
        "start_time = time.time()\n",
        "\n",
        "model_task02.fit(x_train, y_train,\n",
        "          batch_size=32,\n",
        "          epochs=50,\n",
        "          validation_data=(x_valid, y_valid),\n",
        "          shuffle=True)\n",
        "\n",
        "elapsed_time = time.time() - start_time\n",
        "\n",
        "print(elapsed_time)"
      ],
      "execution_count": 0,
      "outputs": []
    },
    {
      "cell_type": "markdown",
      "metadata": {
        "id": "fvbEiCM5g7mf",
        "colab_type": "text"
      },
      "source": [
        "#### Model Evaluation"
      ]
    },
    {
      "cell_type": "code",
      "metadata": {
        "id": "N_RTI0Jkg692",
        "colab_type": "code",
        "colab": {}
      },
      "source": [
        "scores = model_task02.evaluate(x_test, y_test, verbose=1)\n",
        "print('Test loss:', scores[0])\n",
        "print('Test accuracy:', scores[1])"
      ],
      "execution_count": 0,
      "outputs": []
    },
    {
      "cell_type": "markdown",
      "metadata": {
        "id": "6aIyJZ6ShEQ9",
        "colab_type": "text"
      },
      "source": [
        "#### Model Saving and Loading"
      ]
    },
    {
      "cell_type": "code",
      "metadata": {
        "id": "Prqe7-2PhHYV",
        "colab_type": "code",
        "colab": {}
      },
      "source": [
        "# Save\n",
        "model_task02.save(DL_MODEL_2_PATH + run_datetime + '_' + DL_MODEL_2_FILE)\n",
        "model_task02.save(DL_MODEL_2_PATH + DL_MODEL_2_FILE)\n",
        "\n",
        "#Load\n",
        "# model = tf.keras.models.load_model(DL_MODEL_2_PATH + DL_MODEL_2_FILE)"
      ],
      "execution_count": 0,
      "outputs": []
    },
    {
      "cell_type": "markdown",
      "metadata": {
        "id": "xmSs2emChoyh",
        "colab_type": "text"
      },
      "source": [
        "### 2 Deep learning - HC\n",
        ">Extended the deep learning algorithm to classify traffic signs into 55 subclasses (additional three classes)."
      ]
    },
    {
      "cell_type": "code",
      "metadata": {
        "id": "cQvldpwwlvRF",
        "colab_type": "code",
        "colab": {}
      },
      "source": [
        "def detect_traffic_sign_subClass(obj_img):\n",
        "  # Model Loading\n",
        "  model = tf.keras.models.load_model(DL_MODEL_2HC_PATH)\n",
        "  # Predicting\n",
        "  prediction = model.predict(np.array([obj_img])).argmax()\n",
        "  return prediction"
      ],
      "execution_count": 0,
      "outputs": []
    },
    {
      "cell_type": "markdown",
      "metadata": {
        "id": "-2fcr9blj5bW",
        "colab_type": "text"
      },
      "source": [
        "#### Fetching and preparing DL datasets (52 traffic sign classes)"
      ]
    },
    {
      "cell_type": "code",
      "metadata": {
        "colab_type": "code",
        "id": "kpgamOuOj2La",
        "colab": {}
      },
      "source": [
        "x_train, y_train = fetching_traffic_signs('train')\n",
        "x_test, y_test = fetching_traffic_signs('test')"
      ],
      "execution_count": 0,
      "outputs": []
    },
    {
      "cell_type": "markdown",
      "metadata": {
        "id": "GpY4_Lf7kDSm",
        "colab_type": "text"
      },
      "source": [
        "#### Fetching and preparing DL datasets (missing 3 traffic sign classes)"
      ]
    },
    {
      "cell_type": "code",
      "metadata": {
        "id": "VW97Nd1dkIX2",
        "colab_type": "code",
        "colab": {}
      },
      "source": [
        "x_train_extra, y_train_extra = fetching_traffic_signs('train', extra = True)\n",
        "x_test_extra, y_test_extra = fetching_traffic_signs('test', extra = True)"
      ],
      "execution_count": 0,
      "outputs": []
    },
    {
      "cell_type": "markdown",
      "metadata": {
        "id": "cUOX5gngkmaI",
        "colab_type": "text"
      },
      "source": [
        "#### Preparing Complete DS"
      ]
    },
    {
      "cell_type": "code",
      "metadata": {
        "id": "AXg3GFtpkoGe",
        "colab_type": "code",
        "colab": {}
      },
      "source": [
        "x_train = np.vstack((x_train, x_train_extra))\n",
        "y_train = np.hstack((y_train, y_train_extra))\n",
        "x_test = np.vstack((x_test, x_test_extra))\n",
        "y_test = np.hstack((y_test, y_test_extra))"
      ],
      "execution_count": 0,
      "outputs": []
    },
    {
      "cell_type": "markdown",
      "metadata": {
        "colab_type": "text",
        "id": "2KE-AZei8lGC"
      },
      "source": [
        "#### Converting labels class vectors to binary class matrix"
      ]
    },
    {
      "cell_type": "code",
      "metadata": {
        "colab_type": "code",
        "id": "mTFpqjRc8lGD",
        "colab": {}
      },
      "source": [
        "y_train = tf.keras.utils.to_categorical(y_train, 55)\n",
        "y_test = tf.keras.utils.to_categorical(y_test, 55)"
      ],
      "execution_count": 0,
      "outputs": []
    },
    {
      "cell_type": "markdown",
      "metadata": {
        "colab_type": "text",
        "id": "uF5ipGqT85YD"
      },
      "source": [
        "#### Normalizing Dataset"
      ]
    },
    {
      "cell_type": "code",
      "metadata": {
        "colab_type": "code",
        "id": "EVLQ6iVH85YF",
        "colab": {}
      },
      "source": [
        "x_train = x_train.astype('float32')\n",
        "x_test = x_test.astype('float32')\n",
        "x_train /= 255\n",
        "x_test /= 255"
      ],
      "execution_count": 0,
      "outputs": []
    },
    {
      "cell_type": "markdown",
      "metadata": {
        "colab_type": "text",
        "id": "72qFLMqH8VR7"
      },
      "source": [
        "#### Creating Valid DS ( 20 % out of Train DS)"
      ]
    },
    {
      "cell_type": "code",
      "metadata": {
        "colab_type": "code",
        "id": "1fmXDnj-8VSA",
        "colab": {}
      },
      "source": [
        "x_train, x_valid, y_train, y_valid = train_test_split(x_train, y_train, test_size=0.2, random_state=42)"
      ],
      "execution_count": 0,
      "outputs": []
    },
    {
      "cell_type": "code",
      "metadata": {
        "colab_type": "code",
        "id": "zIwXnh3C8VSL",
        "colab": {}
      },
      "source": [
        "x_train.shape, y_train.shape, x_valid.shape, y_valid.shape"
      ],
      "execution_count": 0,
      "outputs": []
    },
    {
      "cell_type": "markdown",
      "metadata": {
        "colab_type": "text",
        "id": "eGFZiXuH8-L3"
      },
      "source": [
        "#### Normalizing Dataset"
      ]
    },
    {
      "cell_type": "code",
      "metadata": {
        "colab_type": "code",
        "id": "hyx-nLlk8-L4",
        "colab": {}
      },
      "source": [
        "x_train = x_train.astype('float32')\n",
        "x_test = x_test.astype('float32')\n",
        "x_train /= 255\n",
        "x_test /= 255"
      ],
      "execution_count": 0,
      "outputs": []
    },
    {
      "cell_type": "markdown",
      "metadata": {
        "id": "sfOS7yag9DDM",
        "colab_type": "text"
      },
      "source": [
        "#### Creating Function to create the Conv NN with MaxPooling and Dropout layers "
      ]
    },
    {
      "cell_type": "code",
      "metadata": {
        "id": "oVFtnGrd9JzE",
        "colab_type": "code",
        "colab": {}
      },
      "source": [
        "def createModel(input_shape):\n",
        "    model = Sequential()\n",
        "    model.add(Conv2D(32, (3, 3), padding='same', activation='relu', input_shape=input_shape))\n",
        "    model.add(Conv2D(32, (3, 3), activation='relu'))\n",
        "    model.add(MaxPooling2D(pool_size=(2, 2)))\n",
        "    model.add(Dropout(0.25))\n",
        " \n",
        "    model.add(Conv2D(64, (3, 3), padding='same', activation='relu'))\n",
        "    model.add(Conv2D(64, (3, 3), activation='relu'))\n",
        "    model.add(MaxPooling2D(pool_size=(2, 2)))\n",
        "    model.add(Dropout(0.25))\n",
        " \n",
        "    model.add(Conv2D(64, (3, 3), padding='same', activation='relu'))\n",
        "    model.add(Conv2D(64, (3, 3), activation='relu'))\n",
        "    model.add(MaxPooling2D(pool_size=(2, 2)))\n",
        "    model.add(Dropout(0.25))\n",
        " \n",
        "    model.add(Flatten())\n",
        "    model.add(Dense(512, activation='relu'))\n",
        "    model.add(Dropout(0.5))\n",
        "    model.add(Dense(55, activation='softmax'))\n",
        "     \n",
        "    return model"
      ],
      "execution_count": 0,
      "outputs": []
    },
    {
      "cell_type": "markdown",
      "metadata": {
        "colab_type": "text",
        "id": "Gt14OsWL9Qw0"
      },
      "source": [
        "#### Model Creating"
      ]
    },
    {
      "cell_type": "code",
      "metadata": {
        "colab_type": "code",
        "id": "DK7UicAi9Qw3",
        "colab": {}
      },
      "source": [
        "opt = tf.keras.optimizers.RMSprop(lr=0.0001, decay=1e-6)\n",
        "\n",
        "model_task02HC = createModel(x_train.shape[1:])\n",
        "\n",
        "model_task02HC.compile(loss='categorical_crossentropy',\n",
        "                    optimizer=opt,\n",
        "                    metrics=['accuracy'])"
      ],
      "execution_count": 0,
      "outputs": []
    },
    {
      "cell_type": "code",
      "metadata": {
        "colab_type": "code",
        "id": "AzXEK3109Qw8",
        "colab": {}
      },
      "source": [
        "model_task02HC.summary()"
      ],
      "execution_count": 0,
      "outputs": []
    },
    {
      "cell_type": "markdown",
      "metadata": {
        "colab_type": "text",
        "id": "wM4tn-X29lKN"
      },
      "source": [
        "#### Model Training for 50 Epochs"
      ]
    },
    {
      "cell_type": "code",
      "metadata": {
        "colab_type": "code",
        "id": "R534-0hb9lKO",
        "colab": {}
      },
      "source": [
        "import time\n",
        "\n",
        "start_time = time.time()\n",
        "\n",
        "model_task02HC.fit(x_train, y_train,\n",
        "          batch_size=32,\n",
        "          epochs=50,\n",
        "          validation_data=(x_valid, y_valid),\n",
        "          shuffle=True)\n",
        "\n",
        "elapsed_time = time.time() - start_time\n",
        "\n",
        "print(elapsed_time)"
      ],
      "execution_count": 0,
      "outputs": []
    },
    {
      "cell_type": "markdown",
      "metadata": {
        "colab_type": "text",
        "id": "6t73CJZw9lKR"
      },
      "source": [
        "#### Model Evaluation"
      ]
    },
    {
      "cell_type": "code",
      "metadata": {
        "colab_type": "code",
        "id": "ftMHnvNP9lKR",
        "colab": {}
      },
      "source": [
        "scores = model_task02HC.evaluate(x_test, y_test, verbose=1)\n",
        "print('Test loss:', scores[0])\n",
        "print('Test accuracy:', scores[1])"
      ],
      "execution_count": 0,
      "outputs": []
    },
    {
      "cell_type": "markdown",
      "metadata": {
        "colab_type": "text",
        "id": "nwzf2NPq9lKT"
      },
      "source": [
        "#### Model Saving and Loading"
      ]
    },
    {
      "cell_type": "code",
      "metadata": {
        "colab_type": "code",
        "id": "0t32c8nv9lKT",
        "colab": {}
      },
      "source": [
        "# Save\n",
        "model_task02HC.save(DL_MODEL_2_PATH + run_datetime + '_' + DL_MODEL_2HC_FILE)\n",
        "model_task02HC.save(DL_MODEL_2_PATH + DL_MODEL_2HC_FILE)\n",
        "\n",
        "#Load\n",
        "# model = tf.keras.models.load_model(DL_MODEL_2_PATH + DL_MODEL_2HC_FILE)"
      ],
      "execution_count": 0,
      "outputs": []
    },
    {
      "cell_type": "markdown",
      "metadata": {
        "id": "Zwi4OtGLGtXu",
        "colab_type": "text"
      },
      "source": [
        "### 3 3D Vision"
      ]
    },
    {
      "cell_type": "code",
      "metadata": {
        "id": "E47BLypHtp5k",
        "colab_type": "code",
        "colab": {}
      },
      "source": [
        "def get_camera_coords(depth_img, u, v):\n",
        "  c_matrix = np.array([[606.0482177734375, 0, 314.42626953125, 0.],\n",
        "                     [0, 604.9857788085938, 246.05038452148438, 0.],\n",
        "                     [0, 0, 1., 0.],\n",
        "                     [0., 0., 0., 1.]])\n",
        "\n",
        "  coords = {}\n",
        "\n",
        "  cX = c_matrix[0, 2]\n",
        "  cY = c_matrix[1, 2]\n",
        "  fX = c_matrix[0, 0]\n",
        "  fY = c_matrix[1, 1]\n",
        "\n",
        "  x = ((u - cX) * depth_img[v, u] / fX) / 1000\n",
        "  y = ((v - cY) * depth_img[v, u] / fY) / -1000\n",
        "  z = (depth_img[v, u]) /1000\n",
        "\n",
        "  return x,y,z"
      ],
      "execution_count": 0,
      "outputs": []
    },
    {
      "cell_type": "code",
      "metadata": {
        "id": "pSRADdkYd0Er",
        "colab_type": "code",
        "colab": {}
      },
      "source": [
        "from HW.evaluate import evaluate\n",
        "\n",
        "#file = open('HW/annotations.pickle','rb')\n",
        "#predictions = pickle.load(file)\n",
        "\n",
        "evaluate(predictions)"
      ],
      "execution_count": 0,
      "outputs": []
    },
    {
      "cell_type": "markdown",
      "metadata": {
        "id": "jj524q8S_XlP",
        "colab_type": "text"
      },
      "source": [
        "## Main"
      ]
    },
    {
      "cell_type": "code",
      "metadata": {
        "id": "J1ZwHMMGHcMK",
        "colab_type": "code",
        "colab": {}
      },
      "source": [
        "def predict_cactusville_objects(paths):\n",
        "  predictions = {}\n",
        "  rect_img_in_video = []\n",
        "  # paths=['/content/HW/g1', '/content/HW/g2', '/content/HW/g3', '/content/HW/g4']\n",
        "\n",
        "  for video_path in paths:\n",
        "    objects_in_video, processed_imgs_for_video = predict_objects_in_video(video_path)\n",
        "    predictions.update(objects_in_video)\n",
        "    rect_img_in_video.append(processed_imgs_for_video)\n",
        "\n",
        "  return predictions, rect_img_in_video"
      ],
      "execution_count": 0,
      "outputs": []
    },
    {
      "cell_type": "code",
      "metadata": {
        "id": "CKj5kHYfEzNI",
        "colab_type": "code",
        "colab": {}
      },
      "source": [
        "paths = get_folders_to_predict()"
      ],
      "execution_count": 0,
      "outputs": []
    },
    {
      "cell_type": "code",
      "metadata": {
        "id": "CpZ1muU4FsSB",
        "colab_type": "code",
        "colab": {}
      },
      "source": [
        "cactusville_objects, rect_img_in_video = predict_cactusville_objects(paths)\n",
        "\n",
        "with open(base_path + '/' + videos_path + '/cactusville_objects.pickle', 'wb') as handle:\n",
        "    pickle.dump(cactusville_objects, handle, protocol=pickle.HIGHEST_PROTOCOL)"
      ],
      "execution_count": 0,
      "outputs": []
    },
    {
      "cell_type": "code",
      "metadata": {
        "id": "nj4Bwgd1wIKQ",
        "colab_type": "code",
        "colab": {}
      },
      "source": [
        "plt.figure(figsize=(80,80))\n",
        "i = 1\n",
        "for img in rect_img_in_video[3]:\n",
        "  for proc_step in img:\n",
        "    plt.subplot(len(rect_img_in_video[0]),len(img),i)\n",
        "    plt.imshow(proc_step)\n",
        "    i+=1\n",
        "\n",
        "plt.show()"
      ],
      "execution_count": 0,
      "outputs": []
    },
    {
      "cell_type": "markdown",
      "metadata": {
        "id": "eZmTz3XRdwm1",
        "colab_type": "text"
      },
      "source": [
        "# Evaluation\n",
        "\n",
        "This snippet assumes that the contents of the downloaded zip file are in the HW folder, and that your predictions are in a dictionary called predictions that adheres to the format specified above"
      ]
    },
    {
      "cell_type": "code",
      "metadata": {
        "colab_type": "code",
        "id": "z4yNvHk0ONm6",
        "colab": {}
      },
      "source": [
        "from HW.evaluate import evaluate\n",
        "\n",
        "#file = open('HW/annotations.pickle','rb')\n",
        "file = open('HW/cactusville_objects.pickle','rb')\n",
        "\n",
        "predictions = pickle.load(file)\n",
        "\n",
        "evaluate(predictions)"
      ],
      "execution_count": 0,
      "outputs": []
    }
  ]
}