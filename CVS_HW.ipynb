{
  "nbformat": 4,
  "nbformat_minor": 0,
  "metadata": {
    "colab": {
      "name": "CVS_HW.ipynb",
      "provenance": [],
      "collapsed_sections": [],
      "toc_visible": true
    },
    "kernelspec": {
      "name": "python3",
      "display_name": "Python 3"
    },
    "accelerator": "GPU"
  },
  "cells": [
    {
      "cell_type": "markdown",
      "metadata": {
        "id": "Ul0rvDQ2ZtmZ",
        "colab_type": "text"
      },
      "source": [
        "# **Computer Vision Systems Homework**\n",
        "\n",
        "Hi all!\n",
        "\n",
        "In the spirit of #StayAtHome I tried to assemble a homework project without leaving the house. So, if this looks a little DIY, that's why. So without further ado:\n",
        "\n",
        "## **Welcome to Cactusville!**\n",
        "\n",
        "Cactusville is a small town populated by - you guessed correcty - cacti. Since it is a rapidly developing village, they are considering to use self-driving vehicles in their hometown. Your job as a computer vision maestro is to develop the required detection methods.\n",
        "\n",
        "## The setting\n",
        "\n",
        "Cactusville is quite unique in the sense that the entire surface of the town is covered in blue tablecloth. The exact colour and pattern of the cloth may vary slightly.\n",
        "\n",
        "By-and large there are 3 different objects of interest:\n",
        "\n",
        "* **Cacti:** These are the inhabitants of the village, so self-driving cars must be able to detect them to avoid hitting a cactus. Cacti have four basic sub-types: ***Happy***, ***Sad***, ***Angry*** and ***Evil***\n",
        "* **Vehicles:** These are other vechiles you should also avoid colliding with. There are 3 vehicles in Cactusville: An ***SUV***, a ***truck***, and an ***airplane***.\n",
        "* **Traffic Signs:** There are several signs placed all around the town, often multiple ones on a single stand. There are 55 different traffic sign classes, which are not listed here for the sake of brevity.\n",
        "\n",
        "## Tasks\n",
        "\n",
        "The people of Cactusville provided 4 videos for you to develop your algorithms with. Each video consists of several RGB and corresponding depth frames, which are found in the '*rgb*' and '*depth*' subfolders of the video. They are ordered numerically. The depth image is a single-channel, 16-bit image, where the pixel value is the distance of that pixel from the camera in **mm**.\n",
        "\n",
        "The videos also contain a **calibration.yaml** file, which contains the intrinsic parameters of the camera. These are the same for all videos used, so feel free to hardcode the important values into your program.\n",
        "\n",
        "Your team has to complete the following tasks:\n",
        "\n",
        "1.   **Traditional Vision:** Create an algorithm to accurately detect and classify the 3 objects of interest (Cactus, Vehicle, Traffic Sign). You don't have to determine the subclass at this point.\n",
        "2.   **Deep Learning:** Use a deep learning algorithm to classify traffic signs. The package provided includes a training and validation database of 32x32 RGB images.\n",
        "3.   **3D Vision:** Determine the 3D positions of the object of interest relative to the camera. Use the center of an object's bounding box to determine the position on the image.\n",
        "\n",
        "## Hardcore Tasks\n",
        "\n",
        "There are also 3 hardcore tasks for those who like challenges. These aren't particularly difficult, but they take more work and require you to go a little bit beyond the scope of the practicals.\n",
        "\n",
        "1.   **Traditional Vision:** Determine the subclasses of Cacti and Vehicles\n",
        "2.   **Deep Learning:** Of the 55 possible traffic signs, 3 are missing from the training and test datasets. ('*X - Priority*', '*X - Turn left*', '*X - Turn right*') As a result, the neural net trained in task 2 will not be able to classify them properly. Extend your neural network to classify these as well.\n",
        "3.   **3D Vision:** Determine the absolute pose (4x4 transformation matrix) of the camera as it moves throughout the video. You can safely assume that the pose in the first frame of every video is the identity matrix.\n",
        "\n",
        "## Evaluation and Score\n",
        "\n",
        "The basic package also contains annotations (correct answers) in the file **annotations.pickle** and a small python script **evaluate.py** you can use to measure the performance of your algorithm. \n",
        "\n",
        "Your homework score will be computed using the same script, albeit on 2 secret videos that you were not provided. The reason for this is to make sure that your algorithm works in new situations as well. The secret videos use the same 2 tablecloths and 3 vehicles, but the traffic signs and the cacti may be different. Not to mention the illumination.\n",
        "\n",
        "The tasks will be evaluated using the following metrics:\n",
        "\n",
        "* Task 1 - **Average Precision** (AP): This metric is simply the average of **Recall** (nCorrect / nObject) and **Precision** (nCorrect / nPrediction).\n",
        "* Tasks 1 HC, 2 and 2 HC - **Classification accuracy**\n",
        "* Tasks 3 and 3 HC - **RBF error**: This is simple the squared error between the prediction and the correct answer transformed by an RBF (Radial Basis Function) kernel. This means that a perfect answer has a score of 1, a bad answer will result in a score close to 0.\n",
        "\n",
        "### **Answer format**\n",
        "\n",
        "The evaluation function takes a single argument: A dictionary that containes your predictions. On the top level this dictionary should look like this:\n",
        "\n",
        "```python\n",
        "myAnswers = {\n",
        "    'video1/rgb/1.jpg' : <<Predictions for the image>>,\n",
        "    'video1/rgb/2.jpg' : <<Predictions for the image>>,\n",
        "    ...\n",
        "    'video4/rgb/10.jpg' : <<Predictions for the image>>,\n",
        "}\n",
        "```\n",
        "It is important that the dictionary key contains the video path, since two videos might have image files with the same name. Also, include all images from all videos in the file (even if you have no predictions), since the evaluation function will look for them! The order of the images does not matter.\n",
        "\n",
        "A prediction for a single image should also be a dictionary with the following format:\n",
        "```python\n",
        "myPred = {\n",
        "    'poses' : [t_11, t12_, t_13, t_14, ..., t_33, t_34],\n",
        "    'objects' : [obj_1, obj_2, ... obj_n]\n",
        "}\n",
        "```\n",
        "The key `poses` contains the first three rows of the transformation matrix (the fourth row is always `[0 0 0 1]`). The key `objects` is a list, each element containing a single object prediction. The order of predictions does not matter. A single object prediction is also a list, containing the following elements:\n",
        "```python\n",
        "myObjects = [u, v, w, h, classInd, subClassInd, x, y, z]\n",
        "```\n",
        "\n",
        "* `(u, v)` are the center coordinates of the object's bounding box, while `(w, h)` are the width and height parameters. All four are expected in pixels @640x480 resolution.\n",
        "* `(x, y, z)` are the 3D coordinates of the object relative to the camera. They are expected in **meters**.\n",
        "* `classInd` is the index of the object class in the list `className` (see below). It is between 0 and 2.\n",
        "* `subClassInd` is the index of the subclass in the appropriate list in `subclassNames` (again, see below). It is between [0-54] for traffic signs, [0-2] for vehicles and [0-3] for cacti.\n",
        "\n",
        "## Rules\n",
        "\n",
        "Here are some important rules and guidelines you have to follow:\n",
        "\n",
        "*   This work is to be done in groups of 3 or 4 people. You can do it with less if you feel confident, but not more.\n",
        "*   Forming/finding a group is your job. Once you have one, 1 person from the group shold write me a message on teams with the names and neptun codes of the members.\n",
        "*   If you can't find a group by Sunday, write me and I'll formulate groups with the remaining people.\n",
        "*   The deadline for the submission is Friday midnight on the 14th week. You can make a late submission until the next Sunday midnight.\n",
        "*   You can opt out of the homework. In this case you will beed to take the midterm exam. This will be done via teams video chat (oral exam). If you want to take this option, write me a message by Sunday.\n",
        "*   To pass the homework, you will have to submit a working solution for the 3 basic tasks. The quality of your predictions has to be significantly better than what is achievable by random guessing.\n",
        "\n",
        "### Offered final grade\n",
        "\n",
        "To qualify for the offered final grade (and to skip the exams), you have to complete at least one of the hardcore tasks. What this final grade will be depends on the quality of the predictions. \n",
        "\n",
        "I cannot specify the criteria exactly at this time, since I don't know how easy/hard this homework is yet. I will, however adhere to the following guidelines:\n",
        "\n",
        "*   I'm planning to offer Good (4) and Excellent (5) final grades.\n",
        "*   Those, who completed all 3 hardcore tasks with high quality are gonna get a 5\n",
        "*   Those, who completed at least 2 hardcore tasks with high quality are gonna get **at least** a 4\n",
        "*   'High quality' is undefined to create a situation in which teams compete\n",
        "*   Also, I want to avoid two situations: a., where the criterion is so hard that only a few people manage to get an offered grade; and b., where it is so easy that everyone gets one.\n",
        "*   My goal is that about 40-50% of all students would get an offered grade, 15-20% getting 5, and 25-30% getting 4. These goals are might change if way more people opt out of homework than I expect.\n",
        "\n",
        "### Ethics\n",
        "\n",
        "Copying entire solutions from online sources or each other is plagiarism, and it will be checked using automated tools. There are things that are perfectly okay, such as:\n",
        "*   Copying small snippets (a few lines) from the OpenCV/PyTorch tutorials or stackoverflow, etc.\n",
        "*   Appropriating code from the practicals (you can copy the entire thing), especially the deep learning one.\n",
        "*   Since what is okay and what isn't is a bit subjective, if you are unsure, ask me.\n",
        "\n",
        "## So, how should we do this?\n",
        "\n",
        "So, how can you do this homework, especially if you haven't done things like this before? Here are a few tips:\n",
        "\n",
        "### Environment\n",
        "\n",
        "For development IDE the easiest is to just use Google Colab. To do this you just have to solve the homework inside this notebook. This is the simplest solution, although it has one drawback: the colab notebook has limited debugging capabilities.\n",
        "\n",
        "If you want something more powerful, I recommend the [PyCharm](https://www.jetbrains.com/pycharm/) IDE, which is a free and pretty powerful Python development tool.\n",
        "\n",
        "If you are planning to use PyCharm on Windows, you need to install a Python distribution, since Windows still doesn't come with one (it's 20 effing 20, Microsoft!). I recommend [Anaconda](https://www.anaconda.com/distribution/). Make sure you use Python 3.x and not 2.7.\n",
        "\n",
        "[Here's a tutorial on how to set it up.](https://www.youtube.com/watch?v=e53lRPmWrMI)\n",
        "\n",
        "### Collaboration within the team\n",
        "\n",
        "Since I would strongly discourage teams to collaborate physically in the current situation, I would recommend some methods for remote collaboration.\n",
        "\n",
        "* First of all, use Teams or similar methods to communicate.\n",
        "* Second, use git or a similar version control tool to handle multiple team members working on the same project. \n",
        "* I strongly recommend creating a private repository for your homework on [Github](https://github.com/) (since you can add exactly 3 collaborators - including you that's a 4 person team). There, you can also create issues and other nice-to-have features to track you development. Getting some experience with version control is an absolute must for any engineer anyways.\n",
        "\n",
        "Here's a tutorial for git for those who never used something like this before.\n",
        "\n",
        "To use git from a GUI, I recommend [SmartGit](https://www.syntevo.com/smartgit/) or [Git Extensions](http://gitextensions.github.io/).\n",
        "\n",
        "**ProTip:** If you use a Colab notebook, make sure to clear the output cells (especially figures and images) before you commit. Otherwise you'll litter in your repository.\n",
        "\n",
        "[Here is an introduction to git](https://www.freecodecamp.org/news/learn-the-basics-of-git-in-under-10-minutes-da548267cc91/)\n",
        "\n",
        "### Making a submission\n",
        "\n",
        "You can make a submission at the appropriate page in the edu portal. The results and leaderboard will also be published here. The results are evaluated around 8pm (CET), so it's pointless to make multiple submission per day.\n",
        "\n",
        "**Note**: Your submission should be runnable from Colab or PyCharm (if you used any custom libraries, please note it), and it must include the trained neural network model file from task 2. Also, make sure that only the code required for evaluation is ran (you can use a control variable to skip training code).\n",
        "\n",
        "### Further resources\n",
        "\n",
        "[Python tutorials](https://docs.python.org/3/tutorial/)\n",
        "\n",
        "[OpenCV tutorials](https://opencv-python-tutroals.readthedocs.io/en/latest/py_tutorials/py_tutorials.html)\n",
        "\n",
        "[PyTorch tutorials](https://pytorch.org/tutorials/)\n",
        "\n",
        "\n"
      ]
    },
    {
      "cell_type": "markdown",
      "metadata": {
        "id": "UgWfyt5SdmUn",
        "colab_type": "text"
      },
      "source": [
        "# Solution\n",
        "## Download dataset"
      ]
    },
    {
      "cell_type": "code",
      "metadata": {
        "id": "JpJi3x8AZtEV",
        "colab_type": "code",
        "colab": {}
      },
      "source": [
        "# Homework dataset\n",
        "!wget http://deeplearning.iit.bme.hu/CVS/HW.zip\n",
        "!unzip -qq HW.zip\n",
        "!rm HW.zip\n",
        "\n",
        "# Traffic Sign Classification set\n",
        "!wget http://deeplearning.iit.bme.hu/CVS/trafficSignsHW.zip\n",
        "!unzip -qq trafficSignsHW.zip\n",
        "!rm trafficSignsHW.zip"
      ],
      "execution_count": 0,
      "outputs": []
    },
    {
      "cell_type": "markdown",
      "metadata": {
        "id": "OSTAlH8td3eD",
        "colab_type": "text"
      },
      "source": [
        "## Folder example\n",
        "\n",
        "Get all subfolders in a directory\n",
        "\n",
        "```\n",
        "import os\n",
        "myFolderList = [f.path for f in os.scandir(path) if f.is_dir()]\n",
        "```\n",
        "\n",
        "Get all files with extension in a directory\n",
        "\n",
        "```\n",
        "import glob\n",
        "import re\n",
        "\n",
        "def sorted_nicely( l ):\n",
        "    \"\"\" Sort the given iterable in the way that humans expect.\"\"\"\n",
        "    convert = lambda text: int(text) if text.isdigit() else text\n",
        "    alphanum_key = lambda key: [ convert(c) for c in re.split('([0-9]+)', key) ]\n",
        "    return sorted(l, key = alphanum_key)\n",
        "\n",
        "names = sorted_nicely(glob.glob1(path, \"*.extension\"))\n",
        "```\n",
        "\n",
        "### Class names\n"
      ]
    },
    {
      "cell_type": "code",
      "metadata": {
        "id": "eHMtqb8G7Lwk",
        "colab_type": "code",
        "colab": {}
      },
      "source": [
        "classNames = ['traffic sign', 'vehicle', 'cactus']\n",
        "subclassNames = [\n",
        "    ['Bump', 'Bumpy road', 'Bus stop', 'Children', 'Crossing (blue)', 'Crossing (red)', 'Cyclists',\n",
        "     'Danger (other)', 'Dangerous left turn', 'Dangerous right turn', 'Give way', 'Go ahead', 'Go ahead or left',\n",
        "     'Go ahead or right', 'Go around either way', 'Go around left', 'Go around right', 'Intersection', 'Limit 100',\n",
        "     'Limit 120', 'Limit 20', 'Limit 30', 'Limit 50', 'Limit 60', 'Limit 70', 'Limit 80', 'Limit 80 over',\n",
        "     'Limit over', 'Main road', 'Main road over', 'Multiple dangerous turns', 'Narrow road (left)',\n",
        "     'Narrow road (right)', 'No entry', 'No entry (both directions)', 'No entry (truck)', 'No stopping', 'No takeover',\n",
        "     'No takeover (truck)', 'No takeover (truck) end', 'No takeover end', 'No waiting', 'One way road',\n",
        "     'Parking', 'Road works', 'Roundabout', 'Slippery road', 'Stop', 'Traffic light', 'Train crossing',\n",
        "     'Train crossing (no barrier)', 'Wild animals', 'X - Priority', 'X - Turn left', 'X - Turn right'],\n",
        "    ['SUV','truck','plane'],\n",
        "    ['happy','sad','angry','evil']\n",
        "]"
      ],
      "execution_count": 0,
      "outputs": []
    },
    {
      "cell_type": "markdown",
      "metadata": {
        "id": "aVZdwqSb7dyZ",
        "colab_type": "text"
      },
      "source": [
        "### Display the first images"
      ]
    },
    {
      "cell_type": "code",
      "metadata": {
        "id": "qNjLlbEl7hv_",
        "colab_type": "code",
        "colab": {}
      },
      "source": [
        "\n",
        "colors = [(0,0,255),(255,0,255),(0,255,0)]\n",
        "\n",
        "def drawBBs(BBs, img):\n",
        "    img = cv2.resize(img, (1280, 960))\n",
        "    for BB in BBs:\n",
        "        u = BB[0]*2\n",
        "        v = BB[1]*2\n",
        "        w = BB[2]*2\n",
        "        h = BB[3]*2\n",
        "        c = BB[4]\n",
        "        sc = BB[5]\n",
        "        x = BB[6]\n",
        "        y = BB[7]\n",
        "        z = BB[8]\n",
        "        s = (u - w // 2, v - h // 2)\n",
        "        e = (u + w // 2, v + h // 2)\n",
        "        cv2.rectangle(img, s, e, colors[c], 1)\n",
        "        tl = (s[0], s[1]+15)\n",
        "        bl = (s[0], e[1]-5)\n",
        "        cv2.putText(img,subclassNames[c][sc],tl,cv2.FONT_HERSHEY_COMPLEX_SMALL,0.75,colors[c])\n",
        "        coords = \"(%.2f, %.2f, %.2f)\" % (x,y,z)\n",
        "        cv2.putText(img,coords,bl,cv2.FONT_HERSHEY_COMPLEX_SMALL,0.65,colors[c])\n",
        "    \n",
        "    return img\n",
        "\n",
        "import pickle\n",
        "import cv2\n",
        "import matplotlib.pyplot as plt\n",
        "#This way it doesn't try to open a window un the GUI - works in python notebook\n",
        "%matplotlib inline\n",
        "\n",
        "# Read images\n",
        "img = cv2.imread(\"HW/g1/rgb/1.jpg\")\n",
        "depth = cv2.imread(\"HW/g1/depth/1.png\", -1)\n",
        "\n",
        "# Read annotations\n",
        "file = open('HW/annotations.pickle','rb')\n",
        "annotations = pickle.load(file)\n",
        "\n",
        "# Visualization\n",
        "depth = depth / 5000.0\n",
        "img = drawBBs(annotations[\"HW/g1/rgb/1.jpg\"][\"objects\"], img)\n",
        "img_rgb = cv2.cvtColor(img,cv2.COLOR_BGR2RGB)\n",
        "\n",
        "# Figure with subplots\n",
        "plt.figure(figsize=(30,30))\n",
        "plt.subplot(1,2,1)\n",
        "plt.imshow(img_rgb)\n",
        "plt.subplot(1,2,2)\n",
        "plt.imshow(depth,cmap='gray')"
      ],
      "execution_count": 0,
      "outputs": []
    },
    {
      "cell_type": "markdown",
      "metadata": {
        "id": "fOTJfoULdtTy",
        "colab_type": "text"
      },
      "source": [
        "# Your Work"
      ]
    },
    {
      "cell_type": "markdown",
      "metadata": {
        "id": "rVfLK9bz_EoX",
        "colab_type": "text"
      },
      "source": [
        "## Chores: Clone project repository, and Import libs, assets"
      ]
    },
    {
      "cell_type": "code",
      "metadata": {
        "id": "tFhCTklCT9MT",
        "colab_type": "code",
        "colab": {}
      },
      "source": [
        "!rm -rf *\n",
        "!git clone https://github.com/Moda007/CVS_HW.git"
      ],
      "execution_count": 0,
      "outputs": []
    },
    {
      "cell_type": "code",
      "metadata": {
        "id": "-X2SyWik_OtX",
        "colab_type": "code",
        "colab": {}
      },
      "source": [
        "# import libraries\n",
        "import os\n",
        "import glob\n",
        "import re\n",
        "import pickle\n",
        "import time\n",
        "from datetime import datetime\n",
        "\n",
        "from PIL import Image\n",
        "import cv2\n",
        "from google.colab.patches import cv2_imshow\n",
        "\n",
        "\n",
        "import matplotlib.pyplot as plt\n",
        "import matplotlib.image as mpimg\n",
        "%matplotlib inline\n",
        "\n",
        "import numpy as np\n",
        "import random\n",
        "from sklearn.cluster import KMeans"
      ],
      "execution_count": 0,
      "outputs": []
    },
    {
      "cell_type": "code",
      "metadata": {
        "id": "v1Ql0P-d9axu",
        "colab_type": "code",
        "colab": {}
      },
      "source": [
        "# import DL libraries\n",
        "import tensorflow as tf\n",
        "from tensorflow.keras.models import Sequential\n",
        "from tensorflow.keras.layers import Dense, Conv2D, MaxPooling2D, Dropout, Flatten\n",
        "\n",
        "import keras\n",
        "from numpy import loadtxt\n",
        "from keras.models import load_model\n",
        "from sklearn.model_selection import train_test_split"
      ],
      "execution_count": 0,
      "outputs": []
    },
    {
      "cell_type": "code",
      "metadata": {
        "id": "9ea4C_9B_PGu",
        "colab_type": "code",
        "colab": {
          "base_uri": "https://localhost:8080/",
          "height": 212
        },
        "outputId": "9caf74d1-f8c2-4da1-ea13-27f22e735ef4"
      },
      "source": [
        "# import assets\n",
        "Traffic_Signs_Folder_Path = '/content/trafficSignsHW/'\n",
        "DL_MODEL_PATH = '/content/CVS_HW/savedModels/'\n",
        "DL_MODEL_2_FILE = 'model_task02.h5'\n",
        "DL_MODEL_2HC_FILE = 'model_task02HC.h5'\n",
        "\n",
        "!wget http://deeplearning.iit.bme.hu/CVS/HW.zip\n",
        "!unzip -qq HW.zip\n",
        "!rm HW.zip\n",
        "\n",
        "# Traffic Sign Classification set\n",
        "!wget http://deeplearning.iit.bme.hu/CVS/trafficSignsHW.zip\n",
        "!unzip -qq trafficSignsHW.zip\n",
        "!rm trafficSignsHW.zip\n",
        "\n",
        "# Missing Traffic Sign Classification set\n",
        "!mkdir /content/trafficSignsExtra\n",
        "!unzip -qq /content/CVS_HW/TrafficTrain.zip -d /content/trafficSignsExtra\n",
        "!unzip -qq /content/CVS_HW/TrafficTest.zip -d /content/trafficSignsExtra\n",
        "\n",
        "!cp -R /content/trafficSignsExtra/TrafficTrain/* /content/trafficSignsHW/trainFULL\n",
        "!cp -R /content/trafficSignsExtra/TrafficTest/* /content/trafficSignsHW/testFULL\n",
        "\n",
        "!mkdir /content/CVS_HW/savedModels"
      ],
      "execution_count": 4,
      "outputs": [
        {
          "output_type": "stream",
          "text": [
            "--2020-05-23 00:42:21--  http://deeplearning.iit.bme.hu/CVS/HW.zip\n",
            "Resolving deeplearning.iit.bme.hu (deeplearning.iit.bme.hu)... 152.66.243.112\n",
            "Connecting to deeplearning.iit.bme.hu (deeplearning.iit.bme.hu)|152.66.243.112|:80... connected.\n",
            "HTTP request sent, awaiting response... 200 OK\n",
            "Length: 14446460 (14M) [application/zip]\n",
            "Saving to: ‘HW.zip’\n",
            "\n",
            "\rHW.zip                0%[                    ]       0  --.-KB/s               \rHW.zip               22%[===>                ]   3.13M  15.7MB/s               \rHW.zip              100%[===================>]  13.78M  40.7MB/s    in 0.3s    \n",
            "\n",
            "2020-05-23 00:42:21 (40.7 MB/s) - ‘HW.zip’ saved [14446460/14446460]\n",
            "\n"
          ],
          "name": "stdout"
        }
      ]
    },
    {
      "cell_type": "code",
      "metadata": {
        "id": "y_ysXLit5ZpM",
        "colab_type": "code",
        "colab": {}
      },
      "source": [
        "# get run time\n",
        "dateTimeObj = datetime.now()\n",
        "run_datetime = str(dateTimeObj.month) + str(dateTimeObj.day) + str(dateTimeObj.hour+2)"
      ],
      "execution_count": 0,
      "outputs": []
    },
    {
      "cell_type": "markdown",
      "metadata": {
        "id": "jBgC-GDkAA7k",
        "colab_type": "text"
      },
      "source": [
        "## Sub-functions"
      ]
    },
    {
      "cell_type": "markdown",
      "metadata": {
        "id": "rKbChfrVGJTz",
        "colab_type": "text"
      },
      "source": [
        "### Asset processing"
      ]
    },
    {
      "cell_type": "code",
      "metadata": {
        "id": "Cy09RNPFTGlK",
        "colab_type": "code",
        "colab": {}
      },
      "source": [
        "base_path = \"/content\"\n",
        "videos_path = \"HW\""
      ],
      "execution_count": 0,
      "outputs": []
    },
    {
      "cell_type": "code",
      "metadata": {
        "id": "Ldy-UnGZThJC",
        "colab_type": "code",
        "colab": {}
      },
      "source": [
        "def sort_names_nicely(names):\n",
        "    \"\"\" Sort the given iterable in the way that humans expect.\"\"\"\n",
        "    convert = lambda text: int(text) if text.isdigit() else text\n",
        "    alphanum_key = lambda key: [ convert(c) for c in re.split('([0-9]+)', key) ]\n",
        "    return sorted(names, key = alphanum_key)"
      ],
      "execution_count": 0,
      "outputs": []
    },
    {
      "cell_type": "code",
      "metadata": {
        "id": "fg7sb3CXHDWd",
        "colab_type": "code",
        "colab": {}
      },
      "source": [
        "def get_folders_to_predict():\n",
        "  \"\"\" Get main folder for all videos to be processed.\"\"\"\n",
        "  # folder_paths = ['/content/HW/g1'] # mock line\n",
        "  path = base_path + '/' + videos_path\n",
        "  \n",
        "  folder_paths = [f.path for f in os.scandir(path) if f.is_dir()]\n",
        "  return folder_paths"
      ],
      "execution_count": 0,
      "outputs": []
    },
    {
      "cell_type": "code",
      "metadata": {
        "id": "m19TNQwnSZyH",
        "colab_type": "code",
        "colab": {}
      },
      "source": [
        "def get_img_seq_nr(path):\n",
        "  \"\"\" Get sorted list of image sequence numbers/file names without extension.\"\"\"\n",
        "  seqs = [os.path.basename(file)[:-4] for file in glob.glob(path + '/**/*.jpg')]\n",
        "  seqs_sorted = sort_names_nicely(seqs)\n",
        "  return seqs_sorted"
      ],
      "execution_count": 0,
      "outputs": []
    },
    {
      "cell_type": "markdown",
      "metadata": {
        "id": "h3_slhdNGPF7",
        "colab_type": "text"
      },
      "source": [
        "### Object processing"
      ]
    },
    {
      "cell_type": "code",
      "metadata": {
        "id": "S2okcpOx_cS-",
        "colab_type": "code",
        "colab": {}
      },
      "source": [
        "def predict_objects_in_video(video_path):\n",
        "  # images = [\"1\",\"159\"] # mock line\n",
        "  images = get_img_seq_nr(video_path)\n",
        "  objects_in_video = {}\n",
        "  visualized_list = []\n",
        "\n",
        "  for image in images:\n",
        "    path_len = len(base_path) # path position for extracting image key\n",
        "    img_key = video_path[path_len+1:] + \"/\" + \"rgb/\" + image + \".jpg\"\n",
        "    img_path = video_path + \"/\" + \"rgb/\" + image + \".jpg\"\n",
        "    img_depth_path = video_path + \"/\" + \"depth/\" + image + \".png\"\n",
        "\n",
        "    img_orig = cv2.imread(img_path)\n",
        "    img_orig_depth = cv2.imread(img_depth_path,-1)\n",
        "    print(img_depth_path)\n",
        "\n",
        "    objects_in_image, image_proc_steps = predict_objects_in_image(img_orig, img_orig_depth,image)\n",
        "    objects_in_video[img_key] = objects_in_image\n",
        "    visualized_list.append(image_proc_steps)\n",
        "\n",
        "  return objects_in_video, visualized_list"
      ],
      "execution_count": 0,
      "outputs": []
    },
    {
      "cell_type": "code",
      "metadata": {
        "id": "VYFAms8H9Q_F",
        "colab_type": "code",
        "colab": {}
      },
      "source": [
        "def predict_objects_in_image(rgb_img, depth_img, seq_nr):\n",
        "  \"\"\" Get predictions for a single image based on the colored and the depth image.\"\"\"\n",
        "  poses = get_poses(seq_nr)\n",
        "  objects, image_proc_steps = detect_objects_in_image(rgb_img, depth_img) # [u, v, w, h, classInd, subClassInd, x, y, z, leftTopX, leftTopY]\n",
        "  object_list = []\n",
        "\n",
        "  for obj in objects:\n",
        "    cropped_obj, cropped_img_wo_bg = crop_obj(rgb_img.copy(), image_proc_steps[3].copy(), obj)\n",
        "    # cv2_imshow(cropped_img_wo_bg)\n",
        "    obj['classInd'] = classify_ooi(cropped_obj,cropped_img_wo_bg, rgb_img)\n",
        "    obj.pop('leftTopX')\n",
        "    obj.pop('leftTopY')\n",
        "\n",
        "    if obj['classInd'] != 0:\n",
        "      obj['subClassInd'] = detect_vehicles_cactus_subclass(cropped_obj, obj['classInd'])\n",
        "      obj['x'], obj['y'], obj['z'] = get_camera_coords(depth_img, obj['u'], obj['v'])\n",
        "      obj_to_append = list(obj.values())\n",
        "    else:\n",
        "      obj['subClassInd'] = detect_traffic_sign_subClass(cropped_obj)\n",
        "      obj['x'], obj['y'], obj['z'] = get_camera_coords(depth_img, obj['u'], obj['v'])\n",
        "      obj_to_append = list(obj.values())\n",
        "    \n",
        "    object_list.append(obj_to_append)\n",
        "\n",
        "  prediction = { 'poses' : poses, 'objects' : object_list }\n",
        "\n",
        "  return prediction, image_proc_steps"
      ],
      "execution_count": 0,
      "outputs": []
    },
    {
      "cell_type": "code",
      "metadata": {
        "id": "udSRJXu85Q77",
        "colab_type": "code",
        "colab": {}
      },
      "source": [
        "def crop_obj(img, eroded_img, obj_param):\n",
        "  \"\"\" crop objects out from the original image depending on thier parameters.\"\"\"\n",
        "  leftTopX = obj_param['leftTopX']\n",
        "  leftTopY = obj_param['leftTopY']\n",
        "  w = obj_param['w']\n",
        "  h = obj_param['h']\n",
        "\n",
        "  w0 = leftTopX\n",
        "  w1 = leftTopX + w\n",
        "  h0 = leftTopY\n",
        "  h1 = leftTopY + h\n",
        "\n",
        "  cropped_img = img[h0:h1 , w0:w1]\n",
        "  cropped_eroded_img = eroded_img[h0:h1 , w0:w1]\n",
        "\n",
        "  black_pixels_mask = np.any(cropped_eroded_img != [0, 0, 0], axis=-1)  \n",
        "  cropped_img_wo_bg = cropped_img.copy()\n",
        "  cropped_img_wo_bg[black_pixels_mask] = [0,0,0]\n",
        "  # cv2_imshow(cropped_img)\n",
        "  # cv2_imshow(cropped_eroded_img)\n",
        "  # cv2_imshow(cropped_img_wo_bg)\n",
        "\n",
        "  return cropped_img, cropped_img_wo_bg"
      ],
      "execution_count": 0,
      "outputs": []
    },
    {
      "cell_type": "code",
      "metadata": {
        "id": "-y5EwOCN0sYO",
        "colab_type": "code",
        "colab": {}
      },
      "source": [
        "def get_resized_image(image, width=None, height=None, inter=cv2.INTER_AREA):\n",
        "    \"\"\" Helper function to find the best image size for template matching.\"\"\"\n",
        "    dim = None\n",
        "    (h, w) = image.shape[:2]\n",
        "\n",
        "    if width is None and height is None:\n",
        "        return image\n",
        "\n",
        "    if width is None:\n",
        "        # Calculate the ratio of the height and construct the dimensions\n",
        "        r = height / float(h)\n",
        "        dim = (int(w * r), height)\n",
        "    else:\n",
        "        # Calculate the ratio of the width and construct the dimensions\n",
        "        r = width / float(w)\n",
        "        dim = (width, int(h * r))\n",
        "\n",
        "    # Return the resized image\n",
        "    return cv2.resize(image, dim, interpolation=inter)"
      ],
      "execution_count": 0,
      "outputs": []
    },
    {
      "cell_type": "code",
      "metadata": {
        "id": "sqJnXPFYdo_u",
        "colab_type": "code",
        "colab": {}
      },
      "source": [
        "def fetching_traffic_signs(dataSetType, extra = False):\n",
        "\n",
        "  if extra:\n",
        "    idx_start, idx_end = 52, 55\n",
        "    i = 52\n",
        "  else:\n",
        "    idx_start, idx_end = 0, 52\n",
        "    i = 0\n",
        "\n",
        "  main_path = Traffic_Signs_Folder_Path\n",
        "  sub_path = dataSetType + 'FULL/'\n",
        "  \n",
        "  x_data = np.array(list())\n",
        "  y_data = np.array(list())\n",
        "  for name in subclassNames[0][idx_start : idx_end]:\n",
        "    imgs = glob.glob(main_path + sub_path + name + '/*.jpg')\n",
        "    x = np.array([np.array(Image.open(fname)) for fname in imgs])\n",
        "    y = np.full(len(imgs), i)\n",
        "    i += 1\n",
        "    if x_data.size == 0:\n",
        "      x_data = x.copy()\n",
        "      y_data = y.copy()\n",
        "    else:\n",
        "      x_data = np.vstack((x_data, x))\n",
        "      y_data = np.hstack((y_data, y))\n",
        "\n",
        "\n",
        "  return x_data, y_data"
      ],
      "execution_count": 0,
      "outputs": []
    },
    {
      "cell_type": "markdown",
      "metadata": {
        "id": "SKIUsSDBGiui",
        "colab_type": "text"
      },
      "source": [
        "### 1 Traditional vision\n",
        ">Create an algorithm to accurately detect and classify the 3 objects of interest (Cactus, Vehicle, Traffic Sign).\n",
        "\n"
      ]
    },
    {
      "cell_type": "code",
      "metadata": {
        "id": "Y8zMiz7Lwb0P",
        "colab_type": "code",
        "colab": {}
      },
      "source": [
        "def detect_objects_in_image(rgb_img, depth_img):\n",
        "  \"\"\" Get bounding boxes/rectangles for objects.\"\"\"\n",
        "  image_proc_steps = []\n",
        "  # ============================================================================\n",
        "  # Create clustered depth image >> Identify background wall\n",
        "  # Input: depth_img\n",
        "  # Output: depth_clustered\n",
        "  # ============================================================================\n",
        "  depth_div = depth_img.copy()/255\n",
        "  depth_norm = depth_div.reshape(depth_div.shape[0]*depth_div.shape[1], -1)\n",
        "\n",
        "  kmeans = KMeans(n_clusters=2, random_state=1).fit(depth_norm)\n",
        "  clustered = kmeans.cluster_centers_[kmeans.labels_]\n",
        "  depth_clusters = clustered.reshape(depth_div.shape[0], depth_div.shape[1], -1)\n",
        "  depth_clustered = depth_clusters.reshape(depth_div.shape[0], depth_div.shape[1])\n",
        "  image_proc_steps.append(depth_clustered)\n",
        "\n",
        "  # ============================================================================\n",
        "  # Create threshold for potential tableclothes >> Identify floor\n",
        "  # Input: rgb_img\n",
        "  # Output: floor_removed\n",
        "  # ============================================================================\n",
        "\n",
        "  shifted_img = cv2.pyrMeanShiftFiltering(rgb_img.copy(), 21, 51) # 21, 51\n",
        "  shifted_img_gray = cv2.cvtColor(shifted_img, cv2.COLOR_BGR2GRAY)\n",
        "  floor_removed = cv2.threshold(shifted_img_gray, 0, 255, cv2.THRESH_BINARY | cv2.THRESH_OTSU)[1]\n",
        "  image_proc_steps.append(floor_removed)\n",
        "\n",
        "  # ============================================================================\n",
        "  # Remove background and floor >> Get only the interesting areas on the img\n",
        "  # Input: depth_img, rgb_img, depth_clustered\n",
        "  # Output: interesting_spots\n",
        "  # ============================================================================\n",
        "  orig_depth=depth_img.copy()\n",
        "  interesting_spots=rgb_img.copy()\n",
        "\n",
        "  thr = np.unique(depth_clustered*255)[0]\n",
        "  for row in range(orig_depth.shape[0]):\n",
        "    row_stats={}\n",
        "    no_zero = np.asarray([i for i in orig_depth[row] if i != 0])\n",
        "    row_stats['mean']=no_zero.mean()\n",
        "    thresh=row_stats['mean']\n",
        "    for col in range(orig_depth.shape[1]-1, -1, -1):\n",
        "      if(orig_depth[row][col]>thresh or orig_depth[row][col] == 0 or depth_clustered[row][col]*255 > thr or floor_removed[row][col]==255):\n",
        "        interesting_spots[row][col][0]=255\n",
        "        interesting_spots[row][col][1]=255\n",
        "        interesting_spots[row][col][2]=255\n",
        "      else:\n",
        "        interesting_spots[row][col][0]=0\n",
        "        interesting_spots[row][col][1]=0\n",
        "        interesting_spots[row][col][2]=0\n",
        "  image_proc_steps.append(interesting_spots)\n",
        "\n",
        "  # ============================================================================\n",
        "  # Erode image >> Prepare for edge detection\n",
        "  # Input: interesting_spots\n",
        "  # Output: eroded_img_uint8\n",
        "  # ============================================================================\n",
        "  kernel = np.ones((3,3),np.uint8)\n",
        "  to_be_eroded=interesting_spots.copy()\n",
        "  eroded_img=cv2.erode(to_be_eroded,kernel,iterations = 7)\n",
        "  eroded_img_uint8 = eroded_img.astype(np.uint8)\n",
        "  image_proc_steps.append(eroded_img_uint8)\n",
        "\n",
        "  # ============================================================================\n",
        "  # Canny edge detection, Contour search >> Prepare for bounding box detection\n",
        "  # Input: eroded_img_uint8\n",
        "  # Output: img_edges, contours\n",
        "  # ============================================================================\n",
        "  to_be_cannied=cv2.cvtColor(eroded_img_uint8.copy(), cv2.COLOR_BGR2GRAY)\n",
        "  img_edges = cv2.Canny(to_be_cannied,50,120)\n",
        "  contours,hierarchy = cv2.findContours(img_edges, 1, 2)\n",
        "  # contours,hierarchy = cv2.findContours(to_be_contoured,cv2.RETR_LIST,cv2.CHAIN_APPROX_NONE)\n",
        "  # print(len(contours))\n",
        "  image_proc_steps.append(img_edges)\n",
        "\n",
        "  # ============================================================================\n",
        "  # Get bounding boxes based on contours\n",
        "  # Input: rgb_img, contours\n",
        "  # Output: bounding_rects\n",
        "  # ============================================================================\n",
        "  pic_for_rects = rgb_img.copy()\n",
        "\n",
        "  bounding_rects = []\n",
        "  for cnt in contours:\n",
        "    x,y,w,h = cv2.boundingRect(cnt)\n",
        "    u=x+w//2\n",
        "    v=y+h//2\n",
        "    duplicate = is_duplicate(bounding_rects,u,v,w,h,x,y)\n",
        "    \n",
        "    if(w < 300 and w*h>650 and w>21 and h>21 and h <300 and not duplicate):\n",
        "      rect = {\"u\":u,\"v\":v,\"w\":w,\"h\":h,\"classInd\":0,\"subClassInd\":0,\"x\":0,\"y\":0,\"z\":0,\"leftTopX\":x,\"leftTopY\":y}\n",
        "      cv2.rectangle(pic_for_rects, (x, y), (x+w, y+h), (0,255,0), 2)\n",
        "      bounding_rects.append(rect)\n",
        "    # cv2.drawContours(pic_for_rects_cont, contours, -1, (0,255,0), 3)\n",
        "\n",
        "  # reminder: this picture is not the final box after the duplicate switch\n",
        "  image_proc_steps.append(pic_for_rects)\n",
        "\n",
        "  # bounding_rects = [{\"u\":129,\"v\":376,\"w\":183,\"h\":126,\"classInd\":0,\"subClassInd\":0,\"x\":0,\"y\":0,\"z\":0},\n",
        "  #         {\"u\":595,\"v\":280,\"w\":87,\"h\":147,\"classInd\":0,\"subClassInd\":0,\"x\":0,\"y\":0,\"z\":0}]\n",
        "  return bounding_rects, image_proc_steps"
      ],
      "execution_count": 0,
      "outputs": []
    },
    {
      "cell_type": "code",
      "metadata": {
        "id": "VXHjBgjcM6y5",
        "colab_type": "code",
        "colab": {}
      },
      "source": [
        "def is_duplicate(item_list, u,v,w,h,x,y):\n",
        "  \"\"\" Remove duplicate rectangles in list based on u,v,w,h,x,y params\"\"\"\n",
        "  for item in item_list:\n",
        "    if(len(item_list)>1):\n",
        "      overlap = has_overlap(x,y,x+w,y+h, item[\"leftTopX\"], item[\"leftTopY\"], item[\"leftTopX\"]+item[\"w\"], item[\"leftTopY\"]+item[\"h\"])\n",
        "      if(overlap!=None):\n",
        "        if( w*h < item[\"w\"]*item[\"h\"] ):\n",
        "          small_area = w*h\n",
        "        else:\n",
        "          small_area = item[\"w\"]*item[\"h\"]\n",
        "          item[\"u\"],item[\"v\"],item[\"w\"],item[\"h\"],item[\"leftTopX\"],item[\"leftTopY\"]=u,v,w,h,x,y\n",
        "        overlap_ratio = overlap/small_area\n",
        "\n",
        "        if(overlap_ratio>0.75):\n",
        "          return True"
      ],
      "execution_count": 0,
      "outputs": []
    },
    {
      "cell_type": "code",
      "metadata": {
        "id": "FLMkt8rWuI4q",
        "colab_type": "code",
        "colab": {}
      },
      "source": [
        "def has_overlap(x,y,maxx,maxy, x2, y2, maxx2, maxy2):\n",
        "  dx = min(maxx, maxx2) - max(x, x2)\n",
        "  dy = min(maxy, maxy2) - max(y, y2)\n",
        "  if (dx>=0) and (dy>=0):\n",
        "    return dx*dy"
      ],
      "execution_count": 0,
      "outputs": []
    },
    {
      "cell_type": "code",
      "metadata": {
        "id": "sPx4hIXJxFzi",
        "colab_type": "code",
        "colab": {}
      },
      "source": [
        "def classify_ooi(obj, obj_wo_bg, rgb_img):\n",
        "  \"\"\" Classification of object of interests (Cacti, Vehicle, Traffic Sign)\"\"\"\n",
        "  is_cacti = check_if_cacti(obj) \n",
        "  is_vehicle = check_if_vehicle(obj_wo_bg)\n",
        "  if(is_cacti):\n",
        "    return 2\n",
        "  elif(is_vehicle):\n",
        "    return 1\n",
        "  else:\n",
        "    return 0"
      ],
      "execution_count": 0,
      "outputs": []
    },
    {
      "cell_type": "code",
      "metadata": {
        "id": "WlhiUv8IuV4h",
        "colab_type": "code",
        "colab": {}
      },
      "source": [
        "def check_if_cacti(obj):\n",
        "  \"\"\" Return true, if template matching gets good enough results\"\"\"\n",
        "  whole_img=obj.copy()\n",
        "  cacti_face=cv2.imread('/content/CVS_HW/happy_warped_sample.jpg')\n",
        "\n",
        "  template = cv2.cvtColor(cacti_face, cv2.COLOR_BGR2GRAY)\n",
        "  template = cv2.Canny(template, 50, 200)\n",
        "  (tH, tW) = template.shape[:2]\n",
        "\n",
        "  whole_gray = cv2.cvtColor(whole_img, cv2.COLOR_BGR2GRAY)\n",
        "  found = None\n",
        "\n",
        "  for scale in np.linspace(0.1, 3.0, 20)[::-1]:\n",
        "    resized = get_resized_image(whole_gray, width=int(whole_gray.shape[1] * scale))\n",
        "    ratio = whole_gray.shape[1] / float(resized.shape[1])\n",
        "\n",
        "    # Stop if template image size is larger than resized image\n",
        "    if resized.shape[0] < tH or resized.shape[1] < tW:\n",
        "        break\n",
        "\n",
        "    # Detect edges in resized image and apply template matching\n",
        "    canny = cv2.Canny(resized, 50, 200)\n",
        "    detected = cv2.matchTemplate(canny, template, cv2.TM_CCOEFF)\n",
        "    (_, max_val, _, max_loc) = cv2.minMaxLoc(detected)    \n",
        "\n",
        "    # Keep track of correlation value\n",
        "    # Higher correlation means better match\n",
        "    if(found is None or max_val > found[0]):\n",
        "        found = (max_val, detected, ratio)\n",
        "\n",
        "  if(found is None):\n",
        "    return False\n",
        "\n",
        "  (_, rescoord, r) = found\n",
        "  threshold = 5490000\n",
        "  loc = np.where( rescoord >= threshold)\n",
        "\n",
        "  if(len(loc[0]) > 0):\n",
        "    return True\n",
        "  else:\n",
        "    return False"
      ],
      "execution_count": 0,
      "outputs": []
    },
    {
      "cell_type": "code",
      "metadata": {
        "id": "OwVCrA82urrV",
        "colab_type": "code",
        "colab": {}
      },
      "source": [
        "def check_if_vehicle(obj_wo_bg):\n",
        "  obj=obj_wo_bg.copy()\n",
        "  obj_wo_bg_n = obj_wo_bg.reshape(obj.shape[0]*obj.shape[1], obj.shape[2])\n",
        "  kmeans = KMeans(n_clusters=2, random_state=0).fit(obj_wo_bg_n)\n",
        "\n",
        "  pic2show = kmeans.cluster_centers_[kmeans.labels_]\n",
        "  clustered_obj = pic2show.reshape(obj.shape[0], obj.shape[1], obj.shape[2])\n",
        "  clustered_obj_hsv = cv2.cvtColor(clustered_obj.astype(np.uint8), cv2.COLOR_BGR2HSV)\n",
        "\n",
        "  h_val=[]\n",
        "  s_val=[]\n",
        "  v_val=[]\n",
        "\n",
        "  for row in range(clustered_obj_hsv.shape[0]):\n",
        "      for col in range(clustered_obj_hsv.shape[1]):\n",
        "        if(clustered_obj_hsv[row][col][2] != 0 and obj[row][col][0] !=0 and obj[row][col][1] !=0 and obj[row][col][2] !=0):\n",
        "          h_val.append(clustered_obj_hsv[row][col][0])\n",
        "          s_val.append(clustered_obj_hsv[row][col][1])\n",
        "          v_val.append(clustered_obj_hsv[row][col][2])\n",
        "\n",
        "  h=np.mean(h_val)\n",
        "  s=np.mean(s_val)\n",
        "  v=np.mean(v_val)\n",
        "\n",
        "  if(h>5 and h<35):\n",
        "    return True\n",
        "  else:\n",
        "    return False"
      ],
      "execution_count": 0,
      "outputs": []
    },
    {
      "cell_type": "markdown",
      "metadata": {
        "id": "QWLEqUx1hXh5",
        "colab_type": "text"
      },
      "source": [
        "### 1 Traditional vision - HC\n",
        ">Create an algorithm to accurately detect and classify the 2 objects of interest (Cactus, Vehicle) into thier subclasses."
      ]
    },
    {
      "cell_type": "code",
      "metadata": {
        "id": "HBk1BZdH384N",
        "colab_type": "code",
        "colab": {}
      },
      "source": [
        "def detect_vehicles_cactus_subclass(obj_img, class_idx):\n",
        "  subClass_idx = 10\n",
        "  if class_idx == 1:\n",
        "    subClass_idx = detect_vehicle_subClass(obj_img)\n",
        "  elif class_idx == 2:\n",
        "    subClass_idx = detect_cactus_subClass(obj_img)\n",
        "  return subClass_idx"
      ],
      "execution_count": 0,
      "outputs": []
    },
    {
      "cell_type": "code",
      "metadata": {
        "id": "OOENvVVq-rAn",
        "colab_type": "code",
        "colab": {}
      },
      "source": [
        "def detect_vehicle_subClass(obj_img):\n",
        "  return 0"
      ],
      "execution_count": 0,
      "outputs": []
    },
    {
      "cell_type": "code",
      "metadata": {
        "id": "MTEobI-S-ztc",
        "colab_type": "code",
        "colab": {}
      },
      "source": [
        "def detect_cactus_subClass(obj_img):\n",
        "  return 0"
      ],
      "execution_count": 0,
      "outputs": []
    },
    {
      "cell_type": "markdown",
      "metadata": {
        "id": "zytpOX9QGpqa",
        "colab_type": "text"
      },
      "source": [
        "###2 Deep learning\n",
        ">Create a deep learning algorithm to classify traffic signs into 52 provided subclasses."
      ]
    },
    {
      "cell_type": "markdown",
      "metadata": {
        "id": "A6ew60krc_2O",
        "colab_type": "text"
      },
      "source": [
        "#### Fetching and preparing DL datasets (52 traffic sign classes)"
      ]
    },
    {
      "cell_type": "code",
      "metadata": {
        "id": "Bt5mSTD2fl7o",
        "colab_type": "code",
        "colab": {}
      },
      "source": [
        "x_train, y_train = fetching_traffic_signs('train')\n",
        "x_test, y_test = fetching_traffic_signs('test')"
      ],
      "execution_count": 0,
      "outputs": []
    },
    {
      "cell_type": "markdown",
      "metadata": {
        "id": "p2GAICnXgJ--",
        "colab_type": "text"
      },
      "source": [
        "#### Converting labels class vectors to binary class matrix"
      ]
    },
    {
      "cell_type": "code",
      "metadata": {
        "id": "mK6f2nB5gLrF",
        "colab_type": "code",
        "colab": {}
      },
      "source": [
        "y_train = tf.keras.utils.to_categorical(y_train, 52)\n",
        "y_test = tf.keras.utils.to_categorical(y_test, 52)"
      ],
      "execution_count": 0,
      "outputs": []
    },
    {
      "cell_type": "markdown",
      "metadata": {
        "id": "EHlawdKc9Aph",
        "colab_type": "text"
      },
      "source": [
        "#### Normalizing Dataset"
      ]
    },
    {
      "cell_type": "code",
      "metadata": {
        "colab_type": "code",
        "id": "RY9ARrVh4oMX",
        "colab": {}
      },
      "source": [
        "x_train = x_train.astype('float32')\n",
        "x_test = x_test.astype('float32')\n",
        "x_train /= 255\n",
        "x_test /= 255"
      ],
      "execution_count": 0,
      "outputs": []
    },
    {
      "cell_type": "markdown",
      "metadata": {
        "id": "kUfKQAOVgU8d",
        "colab_type": "text"
      },
      "source": [
        "#### Creating Valid DS ( 20 % out of Train DS)"
      ]
    },
    {
      "cell_type": "code",
      "metadata": {
        "id": "sgdFzaxpMGE6",
        "colab_type": "code",
        "colab": {}
      },
      "source": [
        "x_train, x_valid, y_train, y_valid = train_test_split(x_train, y_train, test_size=0.2, random_state=42)"
      ],
      "execution_count": 0,
      "outputs": []
    },
    {
      "cell_type": "markdown",
      "metadata": {
        "id": "x9Kpt2kZgeXW",
        "colab_type": "text"
      },
      "source": [
        "#### Creating Function to create the Conv NN with MaxPooling and Dropout layers "
      ]
    },
    {
      "cell_type": "code",
      "metadata": {
        "id": "tZG0IyItgpMt",
        "colab_type": "code",
        "colab": {}
      },
      "source": [
        "def createModel(input_shape):\n",
        "    model = Sequential()\n",
        "    model.add(Conv2D(32, (3, 3), padding='same', activation='relu', input_shape=input_shape))\n",
        "    model.add(Conv2D(32, (3, 3), activation='relu'))\n",
        "    model.add(MaxPooling2D(pool_size=(2, 2)))\n",
        "    model.add(Dropout(0.25))\n",
        " \n",
        "    model.add(Conv2D(64, (3, 3), padding='same', activation='relu'))\n",
        "    model.add(Conv2D(64, (3, 3), activation='relu'))\n",
        "    model.add(MaxPooling2D(pool_size=(2, 2)))\n",
        "    model.add(Dropout(0.25))\n",
        " \n",
        "    model.add(Conv2D(64, (3, 3), padding='same', activation='relu'))\n",
        "    model.add(Conv2D(64, (3, 3), activation='relu'))\n",
        "    model.add(MaxPooling2D(pool_size=(2, 2)))\n",
        "    model.add(Dropout(0.25))\n",
        " \n",
        "    model.add(Flatten())\n",
        "    model.add(Dense(512, activation='relu'))\n",
        "    model.add(Dropout(0.5))\n",
        "    model.add(Dense(52, activation='softmax'))\n",
        "     \n",
        "    return model"
      ],
      "execution_count": 0,
      "outputs": []
    },
    {
      "cell_type": "markdown",
      "metadata": {
        "id": "uI4_Ls9ngqBA",
        "colab_type": "text"
      },
      "source": [
        "#### Model Creating"
      ]
    },
    {
      "cell_type": "code",
      "metadata": {
        "id": "osLo_7vFgtq1",
        "colab_type": "code",
        "colab": {}
      },
      "source": [
        "opt = tf.keras.optimizers.RMSprop(lr=0.0001, decay=1e-6)\n",
        "\n",
        "model_task02 = createModel(x_train.shape[1:])\n",
        "\n",
        "model_task02.compile(loss='categorical_crossentropy',\n",
        "                    optimizer=opt,\n",
        "                    metrics=['accuracy'])"
      ],
      "execution_count": 0,
      "outputs": []
    },
    {
      "cell_type": "code",
      "metadata": {
        "id": "d-MF8KuHguM2",
        "colab_type": "code",
        "colab": {}
      },
      "source": [
        "model_task02.summary()"
      ],
      "execution_count": 0,
      "outputs": []
    },
    {
      "cell_type": "markdown",
      "metadata": {
        "id": "DcgMWf-EgyUM",
        "colab_type": "text"
      },
      "source": [
        "#### Model Training for 50 Epochs"
      ]
    },
    {
      "cell_type": "code",
      "metadata": {
        "id": "_849luDwg1FE",
        "colab_type": "code",
        "colab": {}
      },
      "source": [
        "start_time = time.time()\n",
        "\n",
        "model_task02.fit(x_train, y_train,\n",
        "          batch_size=32,\n",
        "          epochs=50,\n",
        "          validation_data=(x_valid, y_valid),\n",
        "          shuffle=True)\n",
        "\n",
        "elapsed_time = time.time() - start_time\n",
        "\n",
        "print(elapsed_time)"
      ],
      "execution_count": 0,
      "outputs": []
    },
    {
      "cell_type": "markdown",
      "metadata": {
        "id": "fvbEiCM5g7mf",
        "colab_type": "text"
      },
      "source": [
        "#### Model Evaluation"
      ]
    },
    {
      "cell_type": "code",
      "metadata": {
        "id": "N_RTI0Jkg692",
        "colab_type": "code",
        "colab": {}
      },
      "source": [
        "scores = model_task02.evaluate(x_test, y_test, verbose=1)\n",
        "print('Test loss:', scores[0])\n",
        "print('Test accuracy:', scores[1])"
      ],
      "execution_count": 0,
      "outputs": []
    },
    {
      "cell_type": "markdown",
      "metadata": {
        "id": "6aIyJZ6ShEQ9",
        "colab_type": "text"
      },
      "source": [
        "#### Model Saving and Loading"
      ]
    },
    {
      "cell_type": "code",
      "metadata": {
        "id": "Prqe7-2PhHYV",
        "colab_type": "code",
        "colab": {}
      },
      "source": [
        "# Save\n",
        "model_task02.save(DL_MODEL_PATH + run_datetime + '_' + DL_MODEL_2_FILE)\n",
        "model_task02.save(DL_MODEL_PATH + DL_MODEL_2_FILE)\n",
        "\n",
        "#Load\n",
        "# model = tf.keras.models.load_model(DL_MODEL_PATH + DL_MODEL_2_FILE)"
      ],
      "execution_count": 0,
      "outputs": []
    },
    {
      "cell_type": "markdown",
      "metadata": {
        "id": "xmSs2emChoyh",
        "colab_type": "text"
      },
      "source": [
        "### 2 Deep learning - HC\n",
        ">Extended the deep learning algorithm to classify traffic signs into 55 subclasses (additional three classes)."
      ]
    },
    {
      "cell_type": "code",
      "metadata": {
        "id": "cQvldpwwlvRF",
        "colab_type": "code",
        "colab": {}
      },
      "source": [
        "def detect_traffic_sign_subClass(obj_img):\n",
        "  # Model Loading\n",
        "  img=cv2.resize(obj_img.copy(),(32,32))\n",
        "  model = tf.keras.models.load_model('/content/CVS_HW/model_task04.h5')\n",
        "  # model = tf.keras.models.load_model(DL_MODEL_2HC_PATH)\n",
        "  # Predicting\n",
        "  prediction = model.predict(np.array([img])).argmax()\n",
        "  return prediction"
      ],
      "execution_count": 0,
      "outputs": []
    },
    {
      "cell_type": "markdown",
      "metadata": {
        "id": "-2fcr9blj5bW",
        "colab_type": "text"
      },
      "source": [
        "#### Fetching and preparing DL datasets (52 traffic sign classes)"
      ]
    },
    {
      "cell_type": "code",
      "metadata": {
        "colab_type": "code",
        "id": "kpgamOuOj2La",
        "colab": {}
      },
      "source": [
        "x_train, y_train = fetching_traffic_signs('train')\n",
        "x_test, y_test = fetching_traffic_signs('test')"
      ],
      "execution_count": 0,
      "outputs": []
    },
    {
      "cell_type": "markdown",
      "metadata": {
        "id": "GpY4_Lf7kDSm",
        "colab_type": "text"
      },
      "source": [
        "#### Fetching and preparing DL datasets (missing 3 traffic sign classes)"
      ]
    },
    {
      "cell_type": "code",
      "metadata": {
        "id": "VW97Nd1dkIX2",
        "colab_type": "code",
        "colab": {}
      },
      "source": [
        "x_train_extra, y_train_extra = fetching_traffic_signs('train', extra = True)\n",
        "x_test_extra, y_test_extra = fetching_traffic_signs('test', extra = True)"
      ],
      "execution_count": 0,
      "outputs": []
    },
    {
      "cell_type": "markdown",
      "metadata": {
        "id": "cUOX5gngkmaI",
        "colab_type": "text"
      },
      "source": [
        "#### Preparing Complete DS"
      ]
    },
    {
      "cell_type": "code",
      "metadata": {
        "id": "AXg3GFtpkoGe",
        "colab_type": "code",
        "colab": {}
      },
      "source": [
        "x_train = np.vstack((x_train, x_train_extra))\n",
        "y_train = np.hstack((y_train, y_train_extra))\n",
        "x_test = np.vstack((x_test, x_test_extra))\n",
        "y_test = np.hstack((y_test, y_test_extra))"
      ],
      "execution_count": 0,
      "outputs": []
    },
    {
      "cell_type": "markdown",
      "metadata": {
        "colab_type": "text",
        "id": "2KE-AZei8lGC"
      },
      "source": [
        "#### Converting labels class vectors to binary class matrix"
      ]
    },
    {
      "cell_type": "code",
      "metadata": {
        "colab_type": "code",
        "id": "mTFpqjRc8lGD",
        "colab": {}
      },
      "source": [
        "y_train = tf.keras.utils.to_categorical(y_train, 55)\n",
        "y_test = tf.keras.utils.to_categorical(y_test, 55)"
      ],
      "execution_count": 0,
      "outputs": []
    },
    {
      "cell_type": "markdown",
      "metadata": {
        "colab_type": "text",
        "id": "uF5ipGqT85YD"
      },
      "source": [
        "#### Normalizing Dataset"
      ]
    },
    {
      "cell_type": "code",
      "metadata": {
        "colab_type": "code",
        "id": "EVLQ6iVH85YF",
        "colab": {}
      },
      "source": [
        "x_train = x_train.astype('float32')\n",
        "x_test = x_test.astype('float32')\n",
        "x_train /= 255\n",
        "x_test /= 255"
      ],
      "execution_count": 0,
      "outputs": []
    },
    {
      "cell_type": "markdown",
      "metadata": {
        "colab_type": "text",
        "id": "72qFLMqH8VR7"
      },
      "source": [
        "#### Creating Valid DS ( 20 % out of Train DS)"
      ]
    },
    {
      "cell_type": "code",
      "metadata": {
        "colab_type": "code",
        "id": "1fmXDnj-8VSA",
        "colab": {}
      },
      "source": [
        "x_train, x_valid, y_train, y_valid = train_test_split(x_train, y_train, test_size=0.2, random_state=42)"
      ],
      "execution_count": 0,
      "outputs": []
    },
    {
      "cell_type": "markdown",
      "metadata": {
        "id": "sfOS7yag9DDM",
        "colab_type": "text"
      },
      "source": [
        "#### Creating Function to create the Conv NN with MaxPooling and Dropout layers "
      ]
    },
    {
      "cell_type": "code",
      "metadata": {
        "id": "oVFtnGrd9JzE",
        "colab_type": "code",
        "colab": {}
      },
      "source": [
        "def createModel(input_shape):\n",
        "    model = Sequential()\n",
        "    model.add(Conv2D(32, (3, 3), padding='same', activation='relu', input_shape=input_shape))\n",
        "    model.add(Conv2D(32, (3, 3), activation='relu'))\n",
        "    model.add(MaxPooling2D(pool_size=(2, 2)))\n",
        "    model.add(Dropout(0.25))\n",
        " \n",
        "    model.add(Conv2D(64, (3, 3), padding='same', activation='relu'))\n",
        "    model.add(Conv2D(64, (3, 3), activation='relu'))\n",
        "    model.add(MaxPooling2D(pool_size=(2, 2)))\n",
        "    model.add(Dropout(0.25))\n",
        " \n",
        "    model.add(Conv2D(64, (3, 3), padding='same', activation='relu'))\n",
        "    model.add(Conv2D(64, (3, 3), activation='relu'))\n",
        "    model.add(MaxPooling2D(pool_size=(2, 2)))\n",
        "    model.add(Dropout(0.25))\n",
        " \n",
        "    model.add(Flatten())\n",
        "    model.add(Dense(512, activation='relu'))\n",
        "    model.add(Dropout(0.5))\n",
        "    model.add(Dense(55, activation='softmax'))\n",
        "     \n",
        "    return model"
      ],
      "execution_count": 0,
      "outputs": []
    },
    {
      "cell_type": "markdown",
      "metadata": {
        "colab_type": "text",
        "id": "Gt14OsWL9Qw0"
      },
      "source": [
        "#### Model Creating"
      ]
    },
    {
      "cell_type": "code",
      "metadata": {
        "colab_type": "code",
        "id": "DK7UicAi9Qw3",
        "colab": {}
      },
      "source": [
        "opt = tf.keras.optimizers.RMSprop(lr=0.0001, decay=1e-6)\n",
        "\n",
        "model_task02HC = createModel(x_train.shape[1:])\n",
        "\n",
        "model_task02HC.compile(loss='categorical_crossentropy',\n",
        "                    optimizer=opt,\n",
        "                    metrics=['accuracy'])"
      ],
      "execution_count": 0,
      "outputs": []
    },
    {
      "cell_type": "code",
      "metadata": {
        "colab_type": "code",
        "id": "AzXEK3109Qw8",
        "colab": {}
      },
      "source": [
        "model_task02HC.summary()"
      ],
      "execution_count": 0,
      "outputs": []
    },
    {
      "cell_type": "markdown",
      "metadata": {
        "colab_type": "text",
        "id": "wM4tn-X29lKN"
      },
      "source": [
        "#### Model Training for 50 Epochs"
      ]
    },
    {
      "cell_type": "code",
      "metadata": {
        "colab_type": "code",
        "id": "R534-0hb9lKO",
        "colab": {}
      },
      "source": [
        "start_time = time.time()\n",
        "\n",
        "model_task02HC.fit(x_train, y_train,\n",
        "          batch_size=32,\n",
        "          epochs=50,\n",
        "          validation_data=(x_valid, y_valid),\n",
        "          shuffle=True)\n",
        "\n",
        "elapsed_time = time.time() - start_time\n",
        "\n",
        "print(elapsed_time)"
      ],
      "execution_count": 0,
      "outputs": []
    },
    {
      "cell_type": "markdown",
      "metadata": {
        "colab_type": "text",
        "id": "6t73CJZw9lKR"
      },
      "source": [
        "#### Model Evaluation"
      ]
    },
    {
      "cell_type": "code",
      "metadata": {
        "colab_type": "code",
        "id": "ftMHnvNP9lKR",
        "colab": {}
      },
      "source": [
        "scores = model_task02HC.evaluate(x_test, y_test, verbose=1)\n",
        "print('Test loss:', scores[0])\n",
        "print('Test accuracy:', scores[1])"
      ],
      "execution_count": 0,
      "outputs": []
    },
    {
      "cell_type": "markdown",
      "metadata": {
        "colab_type": "text",
        "id": "nwzf2NPq9lKT"
      },
      "source": [
        "#### Model Saving and Loading"
      ]
    },
    {
      "cell_type": "code",
      "metadata": {
        "colab_type": "code",
        "id": "0t32c8nv9lKT",
        "colab": {}
      },
      "source": [
        "# Save\n",
        "model_task02HC.save(DL_MODEL_PATH + run_datetime + '_' + DL_MODEL_2HC_FILE)\n",
        "model_task02HC.save(DL_MODEL_PATH + DL_MODEL_2HC_FILE)\n",
        "\n",
        "#Load\n",
        "# model = tf.keras.models.load_model(DL_MODEL_PATH + DL_MODEL_2HC_FILE)"
      ],
      "execution_count": 0,
      "outputs": []
    },
    {
      "cell_type": "markdown",
      "metadata": {
        "id": "Zwi4OtGLGtXu",
        "colab_type": "text"
      },
      "source": [
        "### 3 3D Vision"
      ]
    },
    {
      "cell_type": "code",
      "metadata": {
        "id": "E47BLypHtp5k",
        "colab_type": "code",
        "colab": {}
      },
      "source": [
        "def get_camera_coords(depth_img, u, v):\n",
        "  c_matrix = np.array([[606.0482177734375, 0, 314.42626953125, 0.],\n",
        "                     [0, 604.9857788085938, 246.05038452148438, 0.],\n",
        "                     [0, 0, 1., 0.],\n",
        "                     [0., 0., 0., 1.]])\n",
        "\n",
        "  coords = {}\n",
        "\n",
        "  cX = c_matrix[0, 2]\n",
        "  cY = c_matrix[1, 2]\n",
        "  fX = c_matrix[0, 0]\n",
        "  fY = c_matrix[1, 1]\n",
        "\n",
        "  x = ((u - cX) * depth_img[v, u] / fX) / 1000\n",
        "  y = ((v - cY) * depth_img[v, u] / fY) / -1000\n",
        "  z = (depth_img[v, u]) /1000\n",
        "\n",
        "  return x,y,z"
      ],
      "execution_count": 0,
      "outputs": []
    },
    {
      "cell_type": "code",
      "metadata": {
        "id": "j0afc3lVyqcs",
        "colab_type": "code",
        "colab": {}
      },
      "source": [
        "def get_poses(seq_nr):\n",
        "  if(seq_nr==\"1\"):\n",
        "    return [1.0,0.0,0.0,-0.0,0.0,1.0,0.0,-0.0,0.0,0.0,1.0,-0.0]\n",
        "  else:\n",
        "    return [0.99,0.0,0.0,-0.0,0.0,0.99,0.0,-0.0,0.0,0.0,0.99,-0.0]"
      ],
      "execution_count": 0,
      "outputs": []
    },
    {
      "cell_type": "markdown",
      "metadata": {
        "id": "jj524q8S_XlP",
        "colab_type": "text"
      },
      "source": [
        "## Main"
      ]
    },
    {
      "cell_type": "code",
      "metadata": {
        "id": "J1ZwHMMGHcMK",
        "colab_type": "code",
        "colab": {}
      },
      "source": [
        "def predict_cactusville_objects(paths):\n",
        "  predictions = {}\n",
        "  rect_img_in_video = []\n",
        "\n",
        "  # paths=['/content/HW/g1', '/content/HW/g2', '/content/HW/g3', '/content/HW/g4'] # mock line\n",
        "\n",
        "  for video_path in paths:\n",
        "    objects_in_video, processed_imgs_for_video = predict_objects_in_video(video_path)\n",
        "    predictions.update(objects_in_video)\n",
        "    rect_img_in_video.append(processed_imgs_for_video)\n",
        "\n",
        "  return predictions, rect_img_in_video"
      ],
      "execution_count": 0,
      "outputs": []
    },
    {
      "cell_type": "code",
      "metadata": {
        "id": "CKj5kHYfEzNI",
        "colab_type": "code",
        "colab": {}
      },
      "source": [
        "paths = get_folders_to_predict()"
      ],
      "execution_count": 0,
      "outputs": []
    },
    {
      "cell_type": "code",
      "metadata": {
        "id": "CpZ1muU4FsSB",
        "colab_type": "code",
        "colab": {
          "base_uri": "https://localhost:8080/",
          "height": 35
        },
        "outputId": "93865bdd-6a41-40c0-e853-d9b1edd09d97"
      },
      "source": [
        "cactusville_objects, rect_img_in_video = predict_cactusville_objects(sorted(paths))"
      ],
      "execution_count": 62,
      "outputs": [
        {
          "output_type": "stream",
          "text": [
            "['/content/HW/g1', '/content/HW/g2', '/content/HW/g3', '/content/HW/g4']\n"
          ],
          "name": "stdout"
        }
      ]
    },
    {
      "cell_type": "code",
      "metadata": {
        "id": "APtIgmw5Tmg1",
        "colab_type": "code",
        "colab": {}
      },
      "source": [
        "with open(base_path + '/' + videos_path + '/cactusville_objects.pickle', 'wb') as handle:\n",
        "    pickle.dump(cactusville_objects, handle, protocol=pickle.HIGHEST_PROTOCOL)"
      ],
      "execution_count": 0,
      "outputs": []
    },
    {
      "cell_type": "code",
      "metadata": {
        "id": "nj4Bwgd1wIKQ",
        "colab_type": "code",
        "colab": {}
      },
      "source": [
        "# plt.figure(figsize=(80,80))\n",
        "# i = 1\n",
        "# for img in rect_img_in_video[3]:\n",
        "#   for proc_step in img:\n",
        "#     plt.subplot(len(rect_img_in_video[0]),len(img),i)\n",
        "#     plt.imshow(proc_step)\n",
        "#     i+=1\n",
        "\n",
        "# plt.show()"
      ],
      "execution_count": 0,
      "outputs": []
    },
    {
      "cell_type": "markdown",
      "metadata": {
        "id": "eZmTz3XRdwm1",
        "colab_type": "text"
      },
      "source": [
        "# Evaluation\n",
        "\n",
        "This snippet assumes that the contents of the downloaded zip file are in the HW folder, and that your predictions are in a dictionary called predictions that adheres to the format specified above"
      ]
    },
    {
      "cell_type": "code",
      "metadata": {
        "colab_type": "code",
        "id": "z4yNvHk0ONm6",
        "colab": {
          "base_uri": "https://localhost:8080/",
          "height": 141
        },
        "outputId": "44b22273-5056-4b31-fd01-c29879ae424b"
      },
      "source": [
        "from HW.evaluate import evaluate\n",
        "\n",
        "#file = open('HW/annotations.pickle','rb')\n",
        "file = open('HW/cactusville_objects.pickle','rb')\n",
        "\n",
        "predictions = pickle.load(file)\n",
        "\n",
        "evaluate(predictions)"
      ],
      "execution_count": 57,
      "outputs": [
        {
          "output_type": "stream",
          "text": [
            "Task 1: 0.23680560624863128\n",
            "Task 1 HC: 0.15168539325842698\n",
            "Task 2: 0.0\n",
            "Task 2 HC: 0.1282051282051282\n",
            "Task 3: 0.921712434168413\n",
            "Task 3 HC: 0.6639868095957165\n",
            "Total:  2.102395371476316\n"
          ],
          "name": "stdout"
        }
      ]
    },
    {
      "cell_type": "code",
      "metadata": {
        "id": "JinaKmG55S7B",
        "colab_type": "code",
        "colab": {
          "base_uri": "https://localhost:8080/",
          "height": 55
        },
        "outputId": "ac5eb31e-3f46-4b55-f53c-5743867c03f8"
      },
      "source": [
        "print(predictions)"
      ],
      "execution_count": 58,
      "outputs": [
        {
          "output_type": "stream",
          "text": [
            "{'HW/g1/rgb/1.jpg': {'poses': [1.0, 0.0, 0.0, -0.0, 0.0, 1.0, 0.0, -0.0, 0.0, 0.0, 1.0, -0.0], 'objects': [[129, 393, 183, 99, 1, 0, -0.18357575924815503, -0.14573858159235287, 0.6], [129, 393, 183, 99, 1, 0, -0.18357575924815503, -0.14573858159235287, 0.6], [594, 312, 92, 66, 1, 0, 0.31876250451432875, -0.07532604218465798, 0.691], [325, 353, 115, 254, 1, 0, 0.008496694796331012, -0.08609204474294868, 0.487], [423, 345, 82, 269, 1, 0, 0.11304385017000866, -0.10320442158144899, 0.631], [133, 139, 129, 94, 1, 0, -0.2320035844726831, 0.13713388134103344, 0.775], [411, 114, 93, 82, 0, 52, 0.1265238305194605, 0.17330656187743307, 0.794], [537, 119, 89, 161, 2, 0, 0.38451510781919, 0.21987583386828627, 1.047], [185, 60, 97, 121, 1, 0, -0.248367616718435, 0.35765567518727387, 1.163]]}, 'HW/g1/rgb/33.jpg': {'poses': [0.99, 0.0, 0.0, -0.0, 0.0, 0.99, 0.0, -0.0, 0.0, 0.0, 0.99, -0.0], 'objects': [[257, 358, 164, 174, 1, 0, -0.05827449817684567, -0.11380269740368501, 0.615], [51, 361, 102, 79, 0, 54, -0.27644517797180806, -0.12084243631033505, 0.636], [213, 234, 129, 76, 1, 0, -0.0856866639931501, 0.010198251084761462, 0.512], [548, 230, 96, 98, 1, 0, 0.33376032575275233, 0.02297514004871023, 0.866], [213, 234, 129, 76, 1, 0, -0.0856866639931501, 0.010198251084761462, 0.512], [324, 209, 60, 38, 1, 0, 0.013774964968003404, 0.05340280124659923, 0.872], [548, 230, 96, 98, 1, 0, 0.33376032575275233, 0.02297514004871023, 0.866], [578, 167, 63, 52, 1, 0, 0.4409942226663312, 0.1324941721153174, 1.014], [46, 134, 93, 46, 0, 54, -0.345914582958608, 0.144650260182341, 0.781], [120, 102, 60, 51, 1, 0, -0.36059033018198106, 0.26763047640723897, 1.124], [311, 91, 91, 79, 0, 52, -0.004494500928244683, 0.20374868304727348, 0.795], [452, 94, 83, 151, 2, 0, 0.2397133678715149, 0.2654032733974187, 1.056], [593, 63, 94, 103, 0, 53, 0.4375925605071114, 0.2880463841772172, 0.952], [131, 39, 28, 79, 1, 0, -0.3622834589557132, 0.4096613820580873, 1.197], [36, 54, 73, 108, 0, 54, -0.8816130392948524, 0.6091790928086083, 1.919]]}, 'HW/g1/rgb/60.jpg': {'poses': [0.99, 0.0, 0.0, -0.0, 0.0, 0.99, 0.0, -0.0, 0.0, 0.0, 0.99, -0.0], 'objects': [[127, 379, 120, 201, 1, 0, -0.19019469471455444, -0.13515030664077102, 0.615], [127, 379, 120, 201, 1, 0, -0.19019469471455444, -0.13515030664077102, 0.615], [127, 379, 120, 201, 1, 0, -0.19019469471455444, -0.13515030664077102, 0.615], [404, 231, 98, 77, 1, 0, 0.10405097218448392, 0.017513586392048416, 0.704], [101, 255, 31, 53, 1, 0, -0.2000271884952043, -0.008402481132379083, 0.568], [42, 217, 85, 33, 1, 0, -0.2319484670618664, 0.024777439302136876, 0.516], [198, 209, 37, 24, 1, 0, -0.1679017553160312, 0.05352528473569693, 0.874], [404, 231, 98, 77, 1, 0, 0.10405097218448392, 0.017513586392048416, 0.704], [584, 288, 112, 190, 1, 0, 0.2846756783376877, -0.04437749587952568, 0.64], [600, 174, 47, 36, 1, 0, 0.0, 0.0, 0.0], [457, 169, 47, 34, 1, 0, 0.2519543179138836, 0.13640149027142318, 1.071], [591, 108, 66, 94, 1, 0, 0.4663958151341851, 0.23320794954685123, 1.022], [180, 97, 95, 81, 0, 52, -0.1754500319955881, 0.1948787199406139, 0.791], [609, 68, 61, 35, 1, 0, 0.47633545878571454, 0.28841897271482786, 0.98], [343, 105, 82, 146, 2, 0, 0.05040080471371451, 0.2492337280231701, 1.069], [480, 78, 114, 101, 0, 52, 0.2658257792391032, 0.2702758145181736, 0.973], [22, 81, 45, 162, 1, 0, -0.5640579397097173, 0.3189230330101017, 1.169]]}, 'HW/g1/rgb/89.jpg': {'poses': [0.99, 0.0, 0.0, -0.0, 0.0, 0.99, 0.0, -0.0, 0.0, 0.0, 0.99, -0.0], 'objects': [[25, 364, 51, 151, 1, 0, -0.29465643667240243, -0.12029193957841572, 0.617], [476, 209, 159, 321, 2, 0, 0.15702863972726103, 0.03607138753927402, 0.589], [87, 227, 55, 43, 1, 0, -0.3246007782471091, 0.027237966888305157, 0.865], [262, 262, 147, 134, 1, 0, -0.0758649840565894, -0.023120895175758646, 0.877], [361, 167, 37, 28, 1, 0, 0.08361087000002217, 0.14216337205272714, 1.088], [55, 101, 110, 83, 0, 52, -0.3338884337912889, 0.18701150322833124, 0.78], [245, 106, 83, 142, 2, 0, -0.12268914005084247, 0.24792973170029683, 1.071], [372, 79, 107, 99, 0, 52, 0.09518859430299269, 0.2766750742805224, 1.002]]}, 'HW/g1/rgb/123.jpg': {'poses': [0.99, 0.0, 0.0, -0.0, 0.0, 0.99, 0.0, -0.0, 0.0, 0.0, 0.99, -0.0], 'objects': [[480, 304, 263, 285, 1, 0, 0.2229330276044278, -0.07816197981313118, 0.816], [70, 234, 32, 26, 1, 0, -0.36580361093928854, 0.018066042448981735, 0.907], [227, 274, 145, 128, 1, 0, -0.1291093826130516, -0.041347923752081676, 0.895], [347, 183, 31, 27, 1, 0, 0.058692547273808716, 0.11380601380920082, 1.092], [44, 124, 88, 75, 0, 53, -0.3721411963187651, 0.1682519230309419, 0.834], [235, 120, 79, 133, 2, 0, -0.14416162595999352, 0.22918790462593802, 1.1], [488, 111, 101, 102, 2, 0, 0.2895529371385894, 0.22568454256908763, 1.011], [353, 96, 107, 98, 0, 53, 0.06472997153732103, 0.2522393854593891, 1.017]]}, 'HW/g1/rgb/145.jpg': {'poses': [0.99, 0.0, 0.0, -0.0, 0.0, 0.99, 0.0, -0.0, 0.0, 0.0, 0.99, -0.0], 'objects': [[484, 411, 110, 138, 1, 0, 0.18914640524481913, -0.18431167139675025, 0.676], [409, 385, 65, 119, 1, 0, 0.12530802556504894, -0.18442837028165712, 0.803], [325, 394, 54, 172, 1, 0, 0.012457166498111585, -0.17460910512589328, 0.714], [190, 327, 138, 116, 1, 0, -0.1837502495091895, -0.11975472546800689, 0.895], [42, 278, 34, 28, 1, 0, -0.430633006676876, -0.05059248117979594, 0.958], [443, 176, 90, 146, 2, 0, 0.23082027905953717, 0.12597786762767518, 1.088], [313, 254, 57, 106, 1, 0, -0.002598145685973525, -0.014506746762815943, 1.104], [28, 178, 57, 69, 0, 53, -0.4144816056085033, 0.09864725637496928, 0.877], [205, 158, 80, 127, 2, 0, -0.20601557743022958, 0.16606256255620033, 1.141], [443, 176, 90, 146, 2, 0, 0.23082027905953717, 0.12597786762767518, 1.088], [315, 127, 101, 73, 1, 0, 0.0009930616806858436, 0.20642444456954423, 1.049]]}, 'HW/g1/rgb/159.jpg': {'poses': [0.99, 0.0, 0.0, -0.0, 0.0, 0.99, 0.0, -0.0, 0.0, 0.0, 0.99, -0.0], 'objects': [[30, 410, 61, 86, 1, 0, -0.35104607747383704, -0.2027061076037771, 0.748], [424, 330, 152, 229, 2, 0, 0.11715862741847671, -0.08991839599470827, 0.648], [256, 332, 128, 99, 1, 0, -0.09139223891972743, -0.13468124099395012, 0.948], [424, 330, 152, 229, 2, 0, 0.11715862741847671, -0.08991839599470827, 0.648], [519, 193, 103, 159, 2, 0, 0.3628700717277235, 0.09426529574447844, 1.075], [89, 196, 86, 65, 0, 53, -0.3440638767695514, 0.07652511398457257, 0.925], [380, 143, 106, 70, 1, 0, 0.11469079894705611, 0.18055533108214242, 1.06], [268, 176, 75, 135, 2, 0, -0.0904703993979955, 0.1367461963862908, 1.181], [596, 119, 88, 24, 0, 53, 0.8195652523683483, 0.3704498289815253, 1.764]]}, 'HW/g1/rgb/171.jpg': {'poses': [0.99, 0.0, 0.0, -0.0, 0.0, 0.99, 0.0, -0.0, 0.0, 0.0, 0.99, -0.0], 'objects': [[602, 404, 76, 73, 1, 0, 0.33120543544313535, -0.18223375733082248, 0.698], [556, 192, 167, 187, 0, 52, 0.4368708641145259, 0.0979183701676549, 1.096], [335, 318, 96, 64, 1, 0, 0.02983971992933376, -0.10453751843582486, 0.879], [63, 369, 127, 125, 1, 0, -0.3177841577828639, -0.15567209801528173, 0.766], [556, 192, 167, 187, 0, 52, 0.4368708641145259, 0.0979183701676549, 1.096], [335, 318, 96, 64, 1, 0, 0.02983971992933376, -0.10453751843582486, 0.879], [556, 192, 167, 187, 0, 52, 0.4368708641145259, 0.0979183701676549, 1.096], [166, 197, 78, 63, 0, 50, -0.23584674183800303, 0.07807707544334508, 0.963], [556, 192, 167, 187, 0, 52, 0.4368708641145259, 0.0979183701676549, 1.096], [556, 192, 167, 187, 0, 52, 0.4368708641145259, 0.0979183701676549, 1.096], [340, 186, 78, 138, 1, 0, 0.05000405861567568, 0.11762211303230087, 1.185], [445, 138, 94, 54, 1, 0, 0.22471545478551072, 0.1862796697103244, 1.043], [57, 122, 84, 110, 1, 0, -0.5853220734107901, 0.2825544597217518, 1.378]]}, 'HW/g1/rgb/186.jpg': {'poses': [0.99, 0.0, 0.0, -0.0, 0.0, 0.99, 0.0, -0.0, 0.0, 0.0, 0.99, -0.0], 'objects': [[589, 430, 87, 100, 1, 0, 0.2858782830222769, -0.19185939807630825, 0.631], [587, 328, 80, 99, 1, 0, 0.27075302084879654, -0.0815451705579259, 0.602], [403, 334, 97, 73, 1, 0, 0.0, -0.0, 0.0], [122, 374, 161, 130, 1, 0, -0.24257751381893175, -0.16157984146022933, 0.764], [518, 384, 47, 192, 1, 0, 0.2391633072138419, -0.16235113230947226, 0.712], [268, 297, 47, 31, 1, 0, -0.0812778101280891, -0.08935340947875053, 1.061], [587, 328, 80, 99, 1, 0, 0.27075302084879654, -0.0815451705579259, 0.602], [519, 263, 61, 49, 1, 0, 0.36995869638473017, -0.030706140896463077, 1.096], [41, 231, 82, 59, 1, 0, -0.47732999566745293, 0.026320134094868216, 1.058], [238, 209, 80, 61, 0, 52, -0.12408822765792496, 0.06026187663607069, 0.984], [420, 200, 97, 142, 2, 0, 0.20677565644331927, 0.09035221709615744, 1.187], [561, 156, 158, 87, 0, 52, 0.40848239154986143, 0.14944249803295714, 1.004], [142, 136, 83, 110, 1, 0, -0.4094086816508475, 0.2617623568578444, 1.439], [26, 99, 52, 61, 1, 0, -0.8442697909883424, 0.4311958913395333, 1.774]]}, 'HW/g1/rgb/199.jpg': {'poses': [0.99, 0.0, 0.0, -0.0, 0.0, 0.99, 0.0, -0.0, 0.0, 0.0, 0.99, -0.0], 'objects': [[454, 344, 146, 142, 1, 0, 0.20450761015616706, -0.14377074898555672, 0.888], [471, 343, 48, 45, 1, 0, 0.22915816737489342, -0.1421426948229974, 0.887], [192, 346, 154, 136, 1, 0, -0.1599899193251942, -0.13084620867431854, 0.792], [602, 378, 76, 204, 1, 0, 0.31222518126301296, -0.14351221140411702, 0.658], [329, 280, 58, 38, 1, 0, 0.025441881328494686, -0.05937113637117996, 1.058], [540, 183, 200, 145, 2, 0, 0.522202581521274, 0.14621779979332306, 1.403], [306, 188, 77, 62, 0, 50, -0.013792399894697554, 0.09518567784967989, 0.992], [102, 194, 110, 73, 1, 0, -0.37679879760237533, 0.09248839447232454, 1.075], [540, 183, 200, 145, 2, 0, 0.522202581521274, 0.14621779979332306, 1.403], [32, 112, 65, 50, 1, 0, -0.7689212360670141, 0.3656005516295408, 1.65], [210, 113, 82, 108, 1, 0, -0.24984495685278627, 0.3188885826970647, 1.45], [15, 33, 30, 23, 1, 0, -0.8329909661056244, 0.593737837954812, 1.686]]}, 'HW/g1/rgb/213.jpg': {'poses': [0.99, 0.0, 0.0, -0.0, 0.0, 0.99, 0.0, -0.0, 0.0, 0.0, 0.99, -0.0], 'objects': [[537, 412, 29, 136, 1, 0, 0.25891418434816516, -0.19338384968776, 0.705], [425, 318, 94, 83, 1, 0, 0.16876660583107256, -0.11000819630618658, 0.925], [594, 309, 92, 67, 1, 0, 0.2901615272641284, -0.06544832874247371, 0.629], [142, 333, 177, 151, 2, 0, -0.2148044160155593, -0.10850992202752055, 0.755], [288, 274, 59, 41, 1, 0, -0.04587165629990813, -0.0486011349577541, 1.052], [542, 251, 61, 51, 1, 0, 0.41380577258015366, -0.009015875163323323, 1.102], [60, 186, 101, 60, 1, 0, -0.4349251552999579, 0.10283249713203688, 1.036], [274, 180, 70, 64, 0, 50, -0.06503709051035228, 0.10644733672131812, 0.975], [552, 152, 96, 76, 0, 54, 0.39827674280280545, 0.15794617662254173, 1.016], [552, 152, 96, 76, 0, 54, 0.39827674280280545, 0.15794617662254173, 1.016], [437, 181, 79, 142, 2, 0, 0.23885818230012526, 0.1269856363750641, 1.181], [160, 100, 83, 120, 1, 0, -0.358260825778232, 0.33942424405677635, 1.406]]}, 'HW/g1/rgb/234.jpg': {'poses': [0.99, 0.0, 0.0, -0.0, 0.0, 0.99, 0.0, -0.0, 0.0, 0.0, 0.99, -0.0], 'objects': [[81, 460, 53, 40, 0, 53, -0.28309349499581754, -0.2599283700294398, 0.735], [582, 373, 116, 214, 1, 0, 0.2865371862856254, -0.13618551597660514, 0.649], [627, 382, 25, 35, 1, 0, 0.32544279174749485, -0.14179541134979948, 0.631], [423, 318, 83, 48, 1, 0, 0.16875959882749314, -0.11202996856262461, 0.942], [148, 332, 152, 150, 1, 0, -0.20046453928065217, -0.10371023831812615, 0.73], [411, 285, 62, 42, 1, 0, 0.12891407920685585, -0.05208426383868503, 0.809], [148, 332, 152, 150, 1, 0, -0.20046453928065217, -0.10371023831812615, 0.73], [268, 259, 61, 46, 1, 0, -0.07783058915187421, -0.021747303468986904, 1.016], [56, 258, 62, 46, 1, 0, -0.4409100709462134, -0.020423459257369308, 1.034], [518, 230, 59, 45, 1, 0, 0.3728529087182086, 0.029448505143265993, 1.11], [121, 68, 91, 137, 1, 0, -0.4225676659857995, 0.3896599182392164, 1.324], [259, 158, 72, 69, 0, 50, -0.08523625957173649, 0.13564444198280343, 0.932], [121, 68, 91, 137, 1, 0, -0.4225676659857995, 0.3896599182392164, 1.324], [556, 137, 88, 60, 0, 54, 0.40617829428166224, 0.1836776098212213, 1.019], [519, 130, 67, 66, 0, 54, 0.3463299475280412, 0.19681073289610956, 1.026], [415, 156, 77, 135, 2, 0, 0.19366370532073438, 0.17370457689687346, 1.167], [121, 68, 91, 137, 1, 0, -0.4225676659857995, 0.3896599182392164, 1.324]]}, 'HW/g1/rgb/258.jpg': {'poses': [0.99, 0.0, 0.0, -0.0, 0.0, 0.99, 0.0, -0.0, 0.0, 0.0, 0.99, -0.0], 'objects': [[208, 439, 52, 82, 1, 0, -0.13065155908246684, -0.23728576595423345, 0.744], [169, 383, 26, 30, 1, 0, -0.1646113592495247, -0.15528866877379102, 0.686], [107, 412, 96, 135, 2, 0, -0.2084365475219583, -0.1670507297302778, 0.609], [426, 373, 95, 81, 1, 0, 0.17158158995815898, -0.19556995514668102, 0.932], [591, 397, 97, 140, 1, 0, 0.3084966448441381, -0.16866832847613222, 0.676], [29, 338, 59, 40, 1, 0, -0.4525954156374937, -0.1460589381933391, 0.961], [256, 326, 63, 46, 1, 0, -0.09486283027110949, -0.13003681142023873, 0.984], [498, 282, 56, 43, 1, 0, 0.34106860551000884, -0.06690945216683429, 1.126], [73, 137, 116, 141, 1, 0, -0.49914694384225416, 0.22585676654169803, 1.253], [248, 226, 74, 66, 0, 50, -0.09952187130582889, 0.03009285471364406, 0.908], [618, 225, 44, 96, 1, 0, 0.0, 0.0, 0.0], [519, 187, 107, 66, 0, 52, 0.35645655418090794, 0.1030721848991035, 1.056], [392, 211, 77, 126, 2, 0, 0.14822315658783822, 0.06708975102821434, 1.158], [73, 137, 116, 141, 1, 0, -0.49914694384225416, 0.22585676654169803, 1.253]]}, 'HW/g1/rgb/270.jpg': {'poses': [0.99, 0.0, 0.0, -0.0, 0.0, 0.99, 0.0, -0.0, 0.0, 0.0, 0.99, -0.0], 'objects': [[184, 424, 90, 111, 1, 0, -0.15774727614518927, -0.21560352774345098, 0.733], [90, 380, 97, 59, 1, 0, -0.2184834393373922, -0.13063162127208933, 0.59], [404, 346, 118, 85, 1, 0, 0.13745369905052565, -0.15364516927666194, 0.93], [227, 307, 51, 33, 1, 0, -0.1373319913381286, -0.09590974857262653, 0.952], [461, 244, 56, 48, 1, 0, 0.2718411971445876, 0.003809398969157555, 1.124], [209, 211, 80, 66, 0, 52, -0.15116854655433598, 0.05034628121201922, 0.869], [348, 175, 77, 120, 2, 0, 0.062488704459663307, 0.13247391351589227, 1.128], [478, 145, 105, 63, 0, 52, 0.28312737869623567, 0.1752137935734422, 1.049], [35, 134, 70, 164, 1, 0, -0.567568268836257, 0.22799548051787683, 1.231]]}, 'HW/g1/rgb/295.jpg': {'poses': [0.99, 0.0, 0.0, -0.0, 0.0, 0.99, 0.0, -0.0, 0.0, 0.0, 0.99, -0.0], 'objects': [[108, 408, 185, 133, 2, 0, -0.20743167698172738, -0.16302418880100628, 0.609], [52, 372, 97, 91, 1, 0, -0.23902273207476635, -0.11491871409118988, 0.552], [359, 304, 127, 111, 1, 0, 0.06060368272542387, -0.07892827373286776, 0.824], [180, 263, 43, 29, 1, 0, -0.20450686409599522, -0.025831260863630433, 0.922], [564, 289, 151, 173, 1, 0, 0.2800274495356964, -0.04827508273484686, 0.68], [408, 175, 34, 33, 1, 0, 0.17478058640248942, 0.13294367916665784, 1.132], [154, 167, 89, 69, 0, 53, -0.2186494320858646, 0.10792917767973585, 0.826], [294, 118, 81, 123, 2, 0, -0.036872212823735026, 0.23155440272063793, 1.094], [422, 82, 100, 65, 0, 52, 0.18353529313779737, 0.28038361154416824, 1.034], [537, 111, 99, 122, 1, 0, 0.40397957841557686, 0.24555192564391334, 1.1]]}, 'HW/g1/rgb/307.jpg': {'poses': [0.99, 0.0, 0.0, -0.0, 0.0, 0.99, 0.0, -0.0, 0.0, 0.0, 0.99, -0.0], 'objects': [[78, 433, 157, 94, 1, 0, -0.25669324781303055, -0.2033317993476046, 0.658], [541, 304, 198, 198, 1, 0, 0.25422092203288504, -0.06513498317760931, 0.68], [309, 336, 124, 133, 1, 0, -0.006956891056079997, -0.11552478368077278, 0.777], [88, 196, 97, 71, 0, 52, -0.2944054534903793, 0.06519112412956021, 0.788], [232, 135, 83, 125, 2, 0, -0.14539054739345228, 0.19622421751342578, 1.069], [357, 96, 101, 67, 1, 0, 0.07305801483942687, 0.25794391433408526, 1.04], [466, 105, 97, 96, 1, 0, 0.27561214780934457, 0.256927566212847, 1.102]]}, 'HW/g1/rgb/326.jpg': {'poses': [0.99, 0.0, 0.0, -0.0, 0.0, 0.99, 0.0, -0.0, 0.0, 0.0, 0.99, -0.0], 'objects': [[90, 429, 180, 101, 1, 0, -0.20441162460040763, -0.16692654816286417, 0.552], [377, 349, 94, 76, 1, 0, 0.09436937189347212, -0.15553414946821997, 0.914], [164, 333, 50, 31, 1, 0, -0.2156931154800033, -0.124894201644921, 0.869], [377, 349, 94, 76, 1, 0, 0.09436937189347212, -0.15553414946821997, 0.914], [568, 356, 144, 194, 2, 0, 0.2736370058736125, -0.11885741953233461, 0.654], [403, 259, 54, 44, 1, 0, 0.16281070193506336, -0.023844976441389186, 1.114], [144, 226, 88, 73, 0, 54, -0.22524848335675515, 0.02654667029254283, 0.801], [286, 207, 81, 146, 2, 0, -0.052251394079094064, 0.07190603462217392, 1.114], [526, 181, 92, 96, 1, 0, 0.38261775514442126, 0.11784611131843374, 1.096], [416, 164, 100, 75, 1, 0, 0.17631528535089502, 0.1426760884968019, 1.052]]}, 'HW/g1/rgb/381.jpg': {'poses': [0.99, 0.0, 0.0, -0.0, 0.0, 0.99, 0.0, -0.0, 0.0, 0.0, 0.99, -0.0], 'objects': [[608, 455, 64, 29, 0, 39, 0.3182551078635024, -0.22691425514122304, 0.657], [573, 400, 83, 33, 1, 0, 0.3178582554156335, -0.18957877614472107, 0.745], [617, 335, 45, 91, 1, 0, 0.39241589229018115, -0.1155637044953298, 0.786], [360, 256, 87, 62, 1, 0, 0.06316648159513466, -0.013814666880950502, 0.84], [91, 339, 183, 168, 2, 0, -0.24073555490340193, -0.10032648871019796, 0.653], [522, 303, 116, 99, 1, 0, 0.2544802166152676, -0.06994141975347876, 0.743], [180, 255, 51, 34, 1, 0, -0.2182589525709971, -0.014556410975811652, 0.984], [360, 256, 87, 62, 1, 0, 0.06316648159513466, -0.013814666880950502, 0.84], [403, 196, 39, 28, 1, 0, 0.17552572084740672, 0.0993585534005099, 1.201], [536, 215, 99, 79, 1, 0, 0.2584821188270017, 0.036286178329548564, 0.707], [159, 154, 84, 68, 0, 52, -0.2328643969169023, 0.13815489896325567, 0.908], [523, 129, 90, 88, 1, 0, 0.3992182804078436, 0.22443245907748793, 1.16], [298, 141, 76, 123, 2, 0, -0.03249757459947103, 0.2081956559198885, 1.199], [415, 116, 95, 83, 0, 53, 0.18719165347196945, 0.2424798051106694, 1.128]]}, 'HW/g1/rgb/394.jpg': {'poses': [0.99, 0.0, 0.0, -0.0, 0.0, 0.99, 0.0, -0.0, 0.0, 0.0, 0.99, -0.0], 'objects': [[39, 370, 78, 73, 1, 0, -0.34630052729776567, -0.15611872262622392, 0.762], [197, 316, 160, 171, 2, 0, -0.13446756984797012, -0.0802416103692391, 0.694], [451, 244, 86, 71, 1, 0, 0.1899711135330763, 0.002857049226868166, 0.843], [600, 321, 80, 155, 1, 0, 0.35811677815606713, -0.0941537962691409, 0.76], [271, 236, 52, 29, 1, 0, -0.07251466711193945, 0.016811947473826652, 1.012], [451, 244, 86, 71, 1, 0, 0.1899711135330763, 0.002857049226868166, 0.843], [488, 189, 41, 32, 1, 0, 0.34196459638325977, 0.11259464520438532, 1.194], [612, 208, 55, 72, 1, 0, 0.3540158247741526, 0.0453470613706276, 0.721], [608, 149, 64, 38, 1, 0, 0.5619116059690453, 0.18608445022728312, 1.16], [255, 139, 76, 69, 0, 52, -0.09236813879941919, 0.1666840209332303, 0.942], [382, 134, 74, 122, 2, 0, 0.13480221167362605, 0.22392082530147284, 1.209], [606, 100, 67, 55, 1, 0, 0.5479802914428469, 0.2749674352636332, 1.139], [505, 106, 98, 86, 1, 0, 0.3540741713525382, 0.2606618841218807, 1.126], [59, 113, 118, 181, 1, 0, -0.5382069225279758, 0.28084187593389764, 1.277]]}, 'HW/g1/rgb/411.jpg': {'poses': [0.99, 0.0, 0.0, -0.0, 0.0, 0.99, 0.0, -0.0, 0.0, 0.0, 0.99, -0.0], 'objects': [[92, 359, 136, 79, 1, 0, -0.27856123262675825, -0.14170375759413734, 0.759], [92, 359, 136, 79, 1, 0, -0.27856123262675825, -0.14170375759413734, 0.759], [255, 324, 105, 204, 2, 0, -0.06128459315248088, -0.08052835517888413, 0.625], [318, 348, 77, 127, 1, 0, 0.004316439891096163, -0.12335350870104347, 0.732], [347, 237, 60, 35, 1, 0, 0.05433897920679543, 0.015124221215976012, 1.011], [515, 277, 138, 138, 1, 0, 0.2875985221402017, -0.0444559472187845, 0.869], [575, 200, 58, 47, 1, 0, 0.48971925054791315, 0.08669854698611906, 1.139], [61, 149, 43, 42, 1, 0, -0.37760018869038037, 0.14485711944416954, 0.903], [61, 149, 43, 42, 1, 0, -0.37760018869038037, 0.14485711944416954, 0.903], [152, 107, 86, 173, 1, 0, -0.3540396551929031, 0.30361962939792597, 1.321], [336, 137, 74, 68, 0, 52, 0.03346153993345482, 0.16943763810789794, 0.94], [128, 107, 33, 63, 1, 0, -0.4115816882511838, 0.30752692213052607, 1.338], [461, 142, 77, 142, 2, 0, 0.2878034026708713, 0.20466589780739414, 1.19], [592, 108, 96, 88, 1, 0, 0.4914404564824753, 0.24484552824243774, 1.073], [26, 30, 53, 61, 1, 0, -0.8066726582442166, 0.6053124132687697, 1.695]]}, 'HW/g2/rgb/1.jpg': {'poses': [1.0, 0.0, 0.0, -0.0, 0.0, 1.0, 0.0, -0.0, 0.0, 0.0, 1.0, -0.0], 'objects': [[295, 459, 35, 42, 0, 54, -0.018366941960990157, -0.2016909057093627, 0.573], [510, 148, 259, 238, 0, 52, 0.23783229638891973, 0.11944600339968767, 0.737], [484, 352, 117, 87, 0, 52, 0.16256517965568035, -0.10174904724908085, 0.581], [484, 352, 117, 87, 0, 52, 0.16256517965568035, -0.10174904724908085, 0.581], [553, 294, 45, 30, 0, 54, 0.3133491426652758, -0.06308891094277119, 0.796], [169, 214, 32, 57, 0, 53, -0.22316117216043435, 0.04926869134623213, 0.93], [510, 148, 259, 238, 0, 52, 0.23783229638891973, 0.11944600339968767, 0.737], [141, 122, 135, 79, 1, 0, -0.24094604135920722, 0.1726493868546553, 0.842], [510, 148, 259, 238, 0, 52, 0.23783229638891973, 0.11944600339968767, 0.737]]}, 'HW/g2/rgb/47.jpg': {'poses': [0.99, 0.0, 0.0, -0.0, 0.0, 0.99, 0.0, -0.0, 0.0, 0.0, 0.99, -0.0], 'objects': [[545, 461, 101, 38, 0, 54, 0.2183808439785552, -0.2039404620843219, 0.574], [356, 402, 191, 156, 0, 52, 0.038140519949959185, -0.143322354414363, 0.556], [356, 402, 191, 156, 0, 52, 0.038140519949959185, -0.143322354414363, 0.556], [618, 391, 43, 155, 0, 54, 0.0, -0.0, 0.0], [506, 221, 33, 52, 0, 52, 0.27722243328814133, 0.036313559747810926, 0.877], [115, 308, 200, 238, 2, 0, -0.19644886234887698, -0.06113188398164786, 0.597], [39, 117, 73, 80, 0, 53, -0.37538613588970393, 0.17619524515876422, 0.826], [518, 130, 118, 82, 1, 0, 0.2781281156925015, 0.1588297142670358, 0.828], [338, 149, 151, 219, 2, 0, 0.0308845755886453, 0.12737159782798518, 0.794]]}, 'HW/g2/rgb/64.jpg': {'poses': [0.99, 0.0, 0.0, -0.0, 0.0, 0.99, 0.0, -0.0, 0.0, 0.0, 0.99, -0.0], 'objects': [[302, 394, 231, 172, 0, 52, -0.013040393800530018, -0.15553416086844274, 0.636], [93, 351, 186, 94, 0, 52, -0.2506375176821699, -0.11900351833070069, 0.686], [31, 222, 63, 121, 1, 0, -0.2646972037044385, 0.02250055805603805, 0.566], [542, 267, 196, 336, 2, 0, 0.1922582173875124, -0.01772967811924976, 0.512], [31, 222, 63, 121, 1, 0, -0.2646972037044385, 0.02250055805603805, 0.566], [622, 150, 35, 33, 1, 0, 0.40245307404385355, 0.1259004055856249, 0.793], [386, 106, 110, 83, 1, 0, 0.09920321821031364, 0.1944546915296446, 0.84], [213, 122, 140, 206, 2, 0, -0.1280279256928903, 0.15686078496889708, 0.765]]}, 'HW/g2/rgb/108.jpg': {'poses': [0.99, 0.0, 0.0, -0.0, 0.0, 0.99, 0.0, -0.0, 0.0, 0.0, 0.99, -0.0], 'objects': [[580, 410, 119, 140, 0, 52, 0.2743167134196365, -0.16964441625663695, 0.626], [416, 318, 141, 255, 2, 0, 0.09016884364903187, -0.06398314552727392, 0.538], [308, 207, 25, 40, 0, 53, -0.0, 0.0, 0.0], [529, 223, 111, 95, 1, 0, 0.3069647246878844, 0.033033310996967644, 0.867], [544, 137, 84, 56, 1, 0, 0.31440765058118775, 0.14960982939314393, 0.83], [319, 127, 91, 77, 1, 0, 0.00654308386711347, 0.1706100986099093, 0.867], [285, 110, 55, 44, 1, 0, -0.04233938204706101, 0.19609706452334408, 0.872], [142, 152, 127, 214, 2, 0, -0.22163263586241153, 0.12110243266629923, 0.779]]}, 'HW/g2/rgb/126.jpg': {'poses': [0.99, 0.0, 0.0, -0.0, 0.0, 0.99, 0.0, -0.0, 0.0, 0.0, 0.99, -0.0], 'objects': [[463, 396, 179, 151, 0, 52, 0.15518100479238922, -0.1568931203388348, 0.633], [114, 403, 228, 33, 0, 52, -0.21859937918286673, -0.17148121404705186, 0.661], [463, 396, 179, 151, 0, 52, 0.15518100479238922, -0.1568931203388348, 0.633], [224, 316, 27, 141, 0, 53, -0.0, -0.0, 0.0], [305, 312, 89, 255, 1, 0, -0.009378858580306307, -0.0657331453507218, 0.603], [197, 211, 37, 51, 0, 52, -0.18077556580425952, 0.05405417764190327, 0.933], [305, 312, 89, 255, 1, 0, -0.009378858580306307, -0.0657331453507218, 0.603], [39, 199, 79, 142, 1, 0, -0.38083968750069236, 0.06517214719765878, 0.838], [406, 176, 109, 159, 2, 0, 0.12828368253206054, 0.09830442060284579, 0.849], [564, 173, 135, 166, 0, 54, 0.3446808459726145, 0.10106546961300884, 0.837], [187, 122, 110, 79, 1, 0, -0.1814523455072333, 0.17695536918713486, 0.863], [26, 101, 53, 110, 1, 0, -0.3516997607330243, 0.17718141139197022, 0.739]]}, 'HW/g2/rgb/147.jpg': {'poses': [0.99, 0.0, 0.0, -0.0, 0.0, 0.99, 0.0, -0.0, 0.0, 0.0, 0.99, -0.0], 'objects': [[436, 391, 274, 107, 1, 0, 0.13239649875411577, -0.15813057028252475, 0.66], [605, 367, 69, 95, 0, 54, 0.32459202049973546, -0.13534680077969452, 0.677], [436, 391, 274, 107, 1, 0, 0.13239649875411577, -0.15813057028252475, 0.66], [185, 340, 148, 248, 2, 0, -0.11724318278454068, -0.08525545674689901, 0.549], [606, 218, 67, 184, 1, 0, 0.38584740451023986, 0.03718502016780119, 0.802], [339, 195, 106, 157, 2, 0, 0.03519521619127823, 0.07324425683511454, 0.868], [115, 155, 110, 81, 1, 0, -0.2872694419272523, 0.13138653580219786, 0.873], [485, 197, 131, 188, 1, 0, 0.2409232615478694, 0.06940184483852896, 0.856]]}, 'HW/g2/rgb/185.jpg': {'poses': [0.99, 0.0, 0.0, -0.0, 0.0, 0.99, 0.0, -0.0, 0.0, 0.0, 0.99, -0.0], 'objects': [[318, 382, 127, 117, 1, 0, 0.00391545913618559, -0.14921101923338648, 0.664], [537, 393, 144, 151, 0, 53, 0.22769758056150696, -0.15059653431209796, 0.62], [235, 382, 33, 31, 0, 53, -0.08793859183559606, -0.15078402696626855, 0.671], [318, 382, 127, 117, 1, 0, 0.00391545913618559, -0.14921101923338648, 0.664], [537, 393, 144, 151, 0, 53, 0.22769758056150696, -0.15059653431209796, 0.62], [89, 322, 156, 236, 1, 0, -0.21759715449750008, -0.07344061069076573, 0.585], [573, 213, 127, 176, 1, 0, 0.3216981538032049, 0.04119103423930803, 0.754], [281, 178, 101, 154, 2, 0, -0.04616429316539191, 0.09414795163722836, 0.837], [76, 133, 66, 74, 1, 0, -0.34384155164402136, 0.1633196011092316, 0.874], [76, 133, 66, 74, 1, 0, -0.34384155164402136, 0.1633196011092316, 0.874], [423, 173, 126, 158, 1, 0, 0.15066541678760267, 0.10154845871510207, 0.841]]}, 'HW/g2/rgb/205.jpg': {'poses': [0.99, 0.0, 0.0, -0.0, 0.0, 0.99, 0.0, -0.0, 0.0, 0.0, 0.99, -0.0], 'objects': [[507, 384, 39, 23, 1, 0, 0.22338046470444517, -0.1602989410302795, 0.703], [531, 401, 137, 157, 0, 53, 0.23049330408981566, -0.165198101318118, 0.645], [292, 382, 155, 139, 0, 52, -0.02630991589299515, -0.15977264258273763, 0.711], [113, 287, 137, 255, 1, 0, -0.2127104885707167, -0.043319619773313126, 0.64], [113, 287, 137, 255, 1, 0, -0.2127104885707167, -0.043319619773313126, 0.64], [566, 210, 119, 162, 2, 0, 0.326687745417843, 0.04689639593558854, 0.787], [428, 165, 129, 154, 1, 0, 0.1636006241607075, 0.11695644454089235, 0.873], [289, 160, 102, 145, 2, 0, -0.036626018606789025, 0.1241714901715451, 0.873], [76, 113, 103, 73, 1, 0, -0.3611516526421185, 0.20188946132131405, 0.918]]}, 'HW/g2/rgb/236.jpg': {'poses': [0.99, 0.0, 0.0, -0.0, 0.0, 0.99, 0.0, -0.0, 0.0, 0.0, 0.99, -0.0], 'objects': [[258, 300, 129, 251, 1, 0, -0.05847009565643526, -0.0560019089824373, 0.628], [258, 300, 129, 251, 1, 0, -0.05847009565643526, -0.0560019089824373, 0.628], [518, 360, 244, 97, 0, 52, 0.2636842642736881, -0.14785545591962623, 0.785], [518, 360, 244, 97, 0, 52, 0.2636842642736881, -0.14785545591962623, 0.785], [24, 351, 48, 109, 1, 0, -0.367077265367198, -0.1328814796520652, 0.766], [258, 300, 129, 251, 1, 0, -0.05847009565643526, -0.0560019089824373, 0.628], [571, 179, 138, 182, 0, 54, 0.36196878914474395, 0.09475938240856845, 0.855], [418, 165, 105, 159, 2, 0, 0.15005033045994084, 0.11762629817514716, 0.878], [214, 102, 99, 73, 1, 0, -0.15377584718818502, 0.22096181682021154, 0.928], [63, 131, 117, 181, 2, 0, -0.35346227471409924, 0.16202517653446746, 0.852]]}, 'HW/g2/rgb/257.jpg': {'poses': [0.99, 0.0, 0.0, -0.0, 0.0, 0.99, 0.0, -0.0, 0.0, 0.0, 0.99, -0.0], 'objects': [[111, 465, 53, 29, 0, 54, -0.21582951235984432, -0.23270729277295488, 0.643], [621, 437, 37, 46, 0, 53, 0.34094761485328456, -0.21273234072703356, 0.674], [545, 359, 189, 91, 0, 52, 0.2689812834370009, -0.13199546326621225, 0.707], [374, 292, 122, 225, 1, 0, 0.0592740947323197, -0.045798792474279135, 0.603], [93, 331, 103, 114, 0, 52, -0.2546564866245954, -0.09786987407394628, 0.697], [545, 359, 189, 91, 0, 52, 0.2689812834370009, -0.13199546326621225, 0.707], [93, 331, 103, 114, 0, 52, -0.2546564866245954, -0.09786987407394628, 0.697], [625, 247, 30, 43, 1, 0, 0.456086845915814, -0.001396987839190677, 0.89], [374, 292, 122, 225, 1, 0, 0.0592740947323197, -0.045798792474279135, 0.603], [307, 163, 39, 69, 0, 53, -0.012388384745486527, 0.13878663216939077, 1.011], [629, 141, 22, 55, 0, 53, 0.0, 0.0, 0.0], [517, 155, 118, 163, 2, 0, 0.2824441970557614, 0.12717253465390285, 0.845], [329, 88, 60, 75, 1, 0, 0.021618384985176486, 0.234860554845816, 0.899], [287, 86, 59, 73, 0, 52, -0.04122663974619452, 0.2410071532362458, 0.911], [153, 111, 121, 186, 2, 0, -0.22027871873430813, 0.1846104022795603, 0.827]]}, 'HW/g2/rgb/286.jpg': {'poses': [0.99, 0.0, 0.0, -0.0, 0.0, 0.99, 0.0, -0.0, 0.0, 0.0, 0.99, -0.0], 'objects': [[72, 443, 145, 73, 0, 29, -0.266007661619011, -0.2164868975120981, 0.665], [224, 326, 92, 113, 0, 52, -0.10325082506721894, -0.09144865193374514, 0.692], [224, 326, 92, 113, 0, 52, -0.10325082506721894, -0.09144865193374514, 0.692], [224, 326, 92, 113, 0, 52, -0.10325082506721894, -0.09144865193374514, 0.692], [558, 294, 164, 204, 1, 0, 0.22466482259821094, -0.04430490102639333, 0.559], [71, 237, 143, 174, 2, 0, -0.27312985737238976, 0.010172572133396328, 0.68], [558, 294, 164, 204, 1, 0, 0.22466482259821094, -0.04430490102639333, 0.559], [619, 190, 41, 84, 0, 5, 0.44777822273723117, 0.08254887033376523, 0.891], [435, 158, 41, 68, 0, 52, 0.19278324957948512, 0.141029468113022, 0.969], [444, 81, 106, 81, 1, 0, 0.18557929014308283, 0.23680512630690184, 0.868], [23, 103, 47, 151, 1, 0, -0.0, 0.0, 0.0], [279, 105, 128, 193, 2, 0, -0.04746508613631269, 0.18931504878841357, 0.812]]}, 'HW/g2/rgb/313.jpg': {'poses': [0.99, 0.0, 0.0, -0.0, 0.0, 0.99, 0.0, -0.0, 0.0, 0.0, 0.99, -0.0], 'objects': [[609, 462, 62, 35, 0, 53, 0.31982523661326545, -0.23487303662689807, 0.658], [498, 326, 283, 216, 0, 52, 0.24656291730474886, -0.10757110213015685, 0.814], [156, 295, 154, 91, 1, 0, -0.19971623770556687, -0.061815512918722365, 0.764], [498, 326, 283, 216, 0, 52, 0.24656291730474886, -0.10757110213015685, 0.814], [80, 119, 123, 150, 1, 0, -0.3806222713866387, 0.2066454828332318, 0.984], [509, 189, 52, 88, 1, 0, 0.33325324009461105, 0.09788378703697818, 1.038], [530, 103, 110, 81, 1, 0, 0.31088523141259766, 0.20665946283562683, 0.874], [80, 119, 123, 150, 1, 0, -0.3806222713866387, 0.2066454828332318, 0.984], [360, 125, 140, 188, 1, 0, 0.06512163459688883, 0.17327619370168967, 0.866]]}, 'HW/g2/rgb/329.jpg': {'poses': [0.99, 0.0, 0.0, -0.0, 0.0, 0.99, 0.0, -0.0, 0.0, 0.0, 0.99, -0.0], 'objects': [[53, 468, 35, 23, 0, 54, -0.2864244756077198, -0.2436000148102009, 0.664], [332, 367, 146, 193, 0, 53, 0.021892922237527916, -0.1509406714751394, 0.755], [514, 465, 53, 29, 0, 52, 0.21832814522069302, -0.23994546673167821, 0.663], [332, 367, 146, 193, 0, 53, 0.021892922237527916, -0.1509406714751394, 0.755], [332, 367, 146, 193, 0, 53, 0.021892922237527916, -0.1509406714751394, 0.755], [332, 367, 146, 193, 0, 53, 0.021892922237527916, -0.1509406714751394, 0.755], [332, 367, 146, 193, 0, 53, 0.021892922237527916, -0.1509406714751394, 0.755], [332, 367, 146, 193, 0, 53, 0.021892922237527916, -0.1509406714751394, 0.755], [332, 367, 146, 193, 0, 53, 0.021892922237527916, -0.1509406714751394, 0.755], [573, 291, 133, 223, 1, 0, 0.273059440893967, -0.04755112419816331, 0.64], [127, 244, 155, 188, 2, 0, -0.224522517663035, 0.0024605192629967836, 0.726], [627, 162, 26, 38, 0, 54, 0.0, 0.0, 0.0], [464, 161, 39, 63, 0, 52, 0.2561801646690154, 0.14592458571035544, 1.038], [42, 78, 85, 74, 0, 29, -0.42029421841636644, 0.2597203356366828, 0.935], [42, 78, 85, 74, 0, 29, -0.42029421841636644, 0.2597203356366828, 0.935], [496, 91, 60, 73, 1, 0, 0.27503535144892577, 0.23527206419798372, 0.918], [453, 88, 58, 72, 1, 0, 0.21378899267173132, 0.24426542689748384, 0.935], [42, 78, 85, 74, 0, 29, -0.42029421841636644, 0.2597203356366828, 0.935], [315, 112, 137, 182, 1, 0, 0.0008624205825593932, 0.20185581971788585, 0.911]]}, 'HW/g2/rgb/359.jpg': {'poses': [0.99, 0.0, 0.0, -0.0, 0.0, 0.99, 0.0, -0.0, 0.0, 0.0, 0.99, -0.0], 'objects': [[457, 451, 32, 57, 0, 54, 0.17596809505096636, -0.2533982082683495, 0.748], [402, 440, 25, 48, 0, 54, 0.10924170436076602, -0.2423625718781524, 0.756], [531, 257, 172, 247, 2, 0, 0.381296675137726, -0.019311593966033592, 1.067], [91, 382, 93, 32, 0, 54, -0.3067258524956055, -0.18696320482255654, 0.832], [91, 382, 93, 32, 0, 54, -0.3067258524956055, -0.18696320482255654, 0.832], [531, 257, 172, 247, 2, 0, 0.381296675137726, -0.019311593966033592, 1.067], [285, 330, 284, 116, 0, 52, -0.04384456650056891, -0.12530294997410737, 0.903], [531, 257, 172, 247, 2, 0, 0.381296675137726, -0.019311593966033592, 1.067], [85, 266, 144, 169, 2, 0, -0.3104200878715471, -0.02703978385177612, 0.82], [13, 173, 26, 55, 0, 52, -0.6222017524760073, 0.15105484167965838, 1.251], [383, 168, 39, 56, 0, 52, 0.1343078251520168, 0.1531371639998721, 1.187], [531, 257, 172, 247, 2, 0, 0.381296675137726, -0.019311593966033592, 1.067], [17, 109, 34, 65, 1, 0, -0.4966525367757914, 0.22925330477829745, 1.012], [391, 105, 88, 67, 1, 0, 0.13291939830972255, 0.24527023562242745, 1.052], [250, 127, 122, 157, 1, 0, -0.10460462940004799, 0.19363360672681748, 0.984]]}, 'HW/g2/rgb/383.jpg': {'poses': [0.99, 0.0, 0.0, -0.0, 0.0, 0.99, 0.0, -0.0, 0.0, 0.0, 0.99, -0.0], 'objects': [[427, 466, 47, 28, 0, 54, 0.13058256785290367, -0.25558382543454267, 0.703], [350, 458, 28, 43, 0, 54, 0.04232115352504367, -0.25259382635564037, 0.721], [454, 334, 133, 194, 0, 53, 0.19529555564462803, -0.12327773071402622, 0.848], [334, 240, 122, 181, 2, 0, 0.024578257059221748, 0.007610662567832587, 0.761], [76, 280, 153, 70, 0, 52, -0.3465954313482641, -0.049438536051993894, 0.881], [627, 317, 25, 49, 0, 50, 0.45180330518352696, -0.10273276717607503, 0.876], [76, 280, 153, 70, 0, 52, -0.3465954313482641, -0.049438536051993894, 0.881], [454, 334, 133, 194, 0, 53, 0.19529555564462803, -0.12327773071402622, 0.848], [334, 240, 122, 181, 2, 0, 0.024578257059221748, 0.007610662567832587, 0.761], [259, 135, 44, 64, 0, 52, -0.10535640668094468, 0.21145958706778906, 1.152], [571, 117, 124, 131, 1, 0, 0.4263187961038095, 0.21480461486062422, 1.007], [428, 116, 103, 136, 2, 0, 0.1903988936394946, 0.21840379609258878, 1.016], [255, 68, 92, 68, 1, 0, -0.09962423462867293, 0.2990139553859848, 1.016], [107, 105, 122, 180, 2, 0, -0.32651636508365883, 0.22242186766520514, 0.954]]}, 'HW/g2/rgb/415.jpg': {'poses': [0.99, 0.0, 0.0, -0.0, 0.0, 0.99, 0.0, -0.0, 0.0, 0.0, 0.99, -0.0], 'objects': [[423, 453, 28, 29, 0, 54, 0.131675483161579, -0.25142403789434054, 0.735], [394, 459, 35, 41, 0, 54, 0.09545461954053247, -0.2558975365631879, 0.727], [369, 328, 127, 119, 0, 52, 0.07699146401619257, -0.11581581532728677, 0.855], [218, 255, 153, 248, 0, 54, -0.11551138940211858, -0.010739791024836647, 0.726], [369, 328, 127, 119, 0, 52, 0.07699146401619257, -0.11581581532728677, 0.855], [574, 338, 105, 143, 0, 53, 0.3473556876110706, -0.123260976976897, 0.811], [218, 255, 153, 248, 0, 54, -0.11551138940211858, -0.010739791024836647, 0.726], [585, 177, 108, 136, 2, 0, 0.42636527097956856, 0.10899945011580306, 0.955], [473, 134, 116, 126, 1, 0, 0.2621753076239333, 0.18558202394712636, 1.002], [339, 137, 89, 133, 2, 0, 0.040182556734512355, 0.17863053123928394, 0.991], [154, 96, 97, 65, 1, 0, -0.26497346430744606, 0.24827101754655703, 1.001], [32, 139, 64, 184, 1, 0, -0.42966386645684057, 0.1631450820599133, 0.922]]}, 'HW/g3/rgb/1.jpg': {'poses': [1.0, 0.0, 0.0, -0.0, 0.0, 1.0, 0.0, -0.0, 0.0, 0.0, 1.0, -0.0], 'objects': [[115, 453, 61, 53, 1, 0, -0.1763761980217723, -0.18335140722634902, 0.536], [99, 386, 61, 43, 1, 0, -0.20616715413695802, -0.13416972732382193, 0.58], [557, 350, 166, 259, 0, 54, 0.2709725244811065, -0.11632321311344422, 0.677], [494, 139, 175, 91, 2, 0, 0.2417830129108291, 0.14438870603133327, 0.816], [494, 139, 175, 91, 2, 0, 0.2417830129108291, 0.14438870603133327, 0.816], [193, 154, 103, 156, 0, 53, -0.1676991774203197, 0.12735203792097466, 0.837], [494, 139, 175, 91, 2, 0, 0.2417830129108291, 0.14438870603133327, 0.816], [193, 154, 103, 156, 0, 53, -0.1676991774203197, 0.12735203792097466, 0.837], [603, 78, 74, 43, 0, 52, 0.38187742336115016, 0.2227761595514648, 0.802], [36, 54, 72, 109, 1, 0, -0.7189809309517685, 0.4968031684447483, 1.565]]}, 'HW/g3/rgb/65.jpg': {'poses': [0.99, 0.0, 0.0, -0.0, 0.0, 0.99, 0.0, -0.0, 0.0, 0.0, 0.99, -0.0], 'objects': [[494, 334, 292, 292, 0, 52, 0.20030063324475547, -0.09827328533335108, 0.676], [16, 358, 33, 25, 0, 54, -0.2870770180232749, -0.10788125623796482, 0.583], [558, 371, 163, 91, 0, 52, 0.0, -0.0, 0.0], [301, 316, 118, 328, 2, 0, -0.009326748774912397, -0.04867682703955282, 0.421], [498, 110, 49, 60, 0, 53, 0.2498948486196779, 0.18552761265109963, 0.825], [498, 110, 49, 60, 0, 53, 0.2498948486196779, 0.18552761265109963, 0.825], [590, 102, 99, 59, 0, 52, 0.37877005615794723, 0.19834180324486658, 0.833], [400, 119, 110, 92, 2, 0, 0.11239483502381895, 0.16716443530005334, 0.796], [128, 137, 106, 157, 1, 0, -0.25531599495402285, 0.14960982939314393, 0.83], [529, 57, 48, 43, 1, 0, 0.28005662886749316, 0.24717746994149667, 0.791], [529, 57, 48, 43, 1, 0, 0.28005662886749316, 0.24717746994149667, 0.791]]}, 'HW/g3/rgb/77.jpg': {'poses': [0.99, 0.0, 0.0, -0.0, 0.0, 0.99, 0.0, -0.0, 0.0, 0.0, 0.99, -0.0], 'objects': [[605, 465, 70, 29, 0, 53, 0.24020768429891795, -0.18131625766601928, 0.501], [244, 273, 244, 408, 2, 0, -0.047644345220411034, -0.018263805089684948, 0.41], [613, 347, 54, 58, 1, 0, 0.2817996469910753, -0.0954455163680464, 0.572], [244, 273, 244, 408, 2, 0, -0.047644345220411034, -0.018263805089684948, 0.41], [57, 112, 114, 137, 0, 52, -0.338960097664594, 0.17681772133355972, 0.798], [57, 112, 114, 137, 0, 52, -0.338960097664594, 0.17681772133355972, 0.798], [597, 115, 86, 153, 1, 0, 0.41403549304727916, 0.19235616031215222, 0.888], [427, 116, 63, 164, 0, 53, 0.0, 0.0, 0.0], [427, 116, 63, 164, 0, 53, 0.0, 0.0, 0.0]]}, 'HW/g3/rgb/136.jpg': {'poses': [0.99, 0.0, 0.0, -0.0, 0.0, 0.99, 0.0, -0.0, 0.0, 0.0, 0.99, -0.0], 'objects': [[231, 444, 59, 72, 0, 53, -0.07392135712051388, -0.175704863213973, 0.537], [579, 349, 121, 222, 0, 53, 0.21303912243665188, -0.08304230299834939, 0.488], [96, 313, 192, 285, 2, 0, -0.15461619534691295, -0.04747447964288449, 0.429], [579, 349, 121, 222, 0, 53, 0.21303912243665188, -0.08304230299834939, 0.488], [22, 98, 44, 32, 0, 29, -0.3937307774192723, 0.19968917948359413, 0.816], [222, 123, 153, 148, 2, 0, -0.12154765026294392, 0.16210489551796708, 0.797], [556, 102, 122, 178, 2, 0, 0.3451917594189593, 0.20619928164472323, 0.866], [366, 101, 81, 179, 0, 52, 0.0, 0.0, 0.0], [366, 101, 81, 179, 0, 52, 0.0, 0.0, 0.0]]}, 'HW/g3/rgb/153.jpg': {'poses': [0.99, 0.0, 0.0, -0.0, 0.0, 0.99, 0.0, -0.0, 0.0, 0.0, 0.99, -0.0], 'objects': [[124, 345, 206, 93, 0, 52, -0.0, -0.0, 0.0], [313, 440, 31, 33, 0, 54, -0.0012308244508733275, -0.1676661707569758, 0.523], [124, 345, 206, 93, 0, 52, -0.0, -0.0, 0.0], [401, 358, 113, 222, 0, 41, 0.08142425787255624, -0.10547567076439099, 0.57], [124, 345, 206, 93, 0, 52, -0.0, -0.0, 0.0], [13, 327, 26, 76, 0, 52, -0.2481843920747623, -0.06676827710450887, 0.499], [83, 258, 166, 27, 0, 54, -0.287159584969788, -0.014853424914450407, 0.752], [93, 87, 186, 103, 2, 0, -0.2787703002791482, 0.20059222487655728, 0.763], [590, 293, 99, 173, 1, 0, 0.25690886161973614, -0.04384653933122258, 0.565], [93, 87, 186, 103, 2, 0, -0.2787703002791482, 0.20059222487655728, 0.763], [571, 145, 53, 122, 1, 0, 0.4102312943640431, 0.16185144515983366, 0.969], [93, 87, 186, 103, 2, 0, -0.2787703002791482, 0.20059222487655728, 0.763], [442, 100, 110, 150, 2, 0, 0.17787330955635808, 0.20399252221050923, 0.845], [270, 102, 120, 179, 0, 52, -0.062309116657908246, 0.20238959514782306, 0.85], [615, 47, 50, 75, 1, 0, 0.0, 0.0, 0.0]]}, 'HW/g3/rgb/189.jpg': {'poses': [0.99, 0.0, 0.0, -0.0, 0.0, 0.99, 0.0, -0.0, 0.0, 0.0, 0.99, -0.0], 'objects': [[123, 400, 247, 120, 0, 52, -0.18983174046935322, -0.15293536169527164, 0.601], [295, 375, 110, 210, 0, 52, -0.015962891966096158, -0.1061461455090134, 0.498], [181, 111, 121, 159, 0, 53, -0.18515274756196035, 0.18773560860593738, 0.841], [361, 137, 104, 102, 1, 0, 0.06908655526656243, 0.16204727304148966, 0.899], [51, 145, 103, 163, 0, 52, -0.3394712012515441, 0.13044992638785355, 0.781], [365, 73, 83, 62, 1, 0, 0.06984627816885734, 0.23941582912861842, 0.837], [492, 169, 110, 339, 1, 0, 0.15997944386692817, 0.06953801464817651, 0.546]]}, 'HW/g3/rgb/208.jpg': {'poses': [0.99, 0.0, 0.0, -0.0, 0.0, 0.99, 0.0, -0.0, 0.0, 0.0, 0.99, -0.0], 'objects': [[572, 449, 28, 25, 0, 54, 0.2409780292933356, -0.1902068379242434, 0.567], [572, 449, 28, 25, 0, 54, 0.2409780292933356, -0.1902068379242434, 0.567], [388, 231, 184, 443, 2, 0, 0.058635783051986336, 0.01201571339113549, 0.483], [623, 456, 34, 47, 0, 54, 0.28461879809786883, -0.1939910641926367, 0.559], [146, 401, 113, 157, 0, 52, -0.14562432929613534, -0.13420744975301366, 0.524], [146, 401, 113, 157, 0, 52, -0.14562432929613534, -0.13420744975301366, 0.524], [572, 205, 136, 208, 0, 53, 0.3009037826096677, 0.048040256910577964, 0.708], [66, 130, 75, 94, 0, 29, -0.32383026164273826, 0.15154042786347616, 0.79], [558, 119, 41, 37, 0, 53, 0.2656591193871511, 0.13881368308207948, 0.661], [66, 130, 75, 94, 0, 29, -0.32383026164273826, 0.15154042786347616, 0.79], [14, 97, 29, 28, 1, 0, -0.36930654069583, 0.1835456970363557, 0.745], [388, 231, 184, 443, 2, 0, 0.058635783051986336, 0.01201571339113549, 0.483], [239, 150, 106, 159, 2, 0, -0.10155600517005198, 0.1295519936417023, 0.816]]}, 'HW/g3/rgb/225.jpg': {'poses': [0.99, 0.0, 0.0, -0.0, 0.0, 0.99, 0.0, -0.0, 0.0, 0.0, 0.99, -0.0], 'objects': [[169, 458, 41, 44, 1, 0, -0.13125716255027697, -0.19163498337938314, 0.547], [156, 420, 106, 119, 0, 54, -0.15057140434346403, -0.16561542770962362, 0.576], [370, 348, 58, 41, 0, 53, 0.04474888247074826, -0.08223567246736233, 0.488], [317, 368, 23, 107, 0, 52, 0.0, -0.0, 0.0], [501, 397, 175, 166, 0, 52, 0.20626147515674012, -0.16717127230622572, 0.67], [596, 344, 87, 65, 0, 53, 0.33405182338596506, -0.11640897355925145, 0.719], [529, 95, 221, 103, 1, 0, 0.7109402158861267, 0.501349259343668, 2.008], [529, 95, 221, 103, 1, 0, 0.7109402158861267, 0.501349259343668, 2.008], [625, 242, 30, 55, 0, 29, 0.4940086735537581, 0.006453987540666259, 0.964], [529, 95, 221, 103, 1, 0, 0.7109402158861267, 0.501349259343668, 2.008], [317, 173, 168, 122, 2, 0, 0.0057331018076046975, 0.16300882195646588, 1.35], [74, 198, 148, 86, 0, 53, -0.3352211784407141, 0.0671132716551015, 0.845], [529, 95, 221, 103, 1, 0, 0.7109402158861267, 0.501349259343668, 2.008], [529, 95, 221, 103, 1, 0, 0.7109402158861267, 0.501349259343668, 2.008], [72, 157, 98, 67, 0, 52, -0.32480935524005555, 0.11952167268104084, 0.812], [317, 173, 168, 122, 2, 0, 0.0057331018076046975, 0.16300882195646588, 1.35], [317, 173, 168, 122, 2, 0, 0.0057331018076046975, 0.16300882195646588, 1.35], [529, 95, 221, 103, 1, 0, 0.7109402158861267, 0.501349259343668, 2.008]]}, 'HW/g3/rgb/250.jpg': {'poses': [0.99, 0.0, 0.0, -0.0, 0.0, 0.99, 0.0, -0.0, 0.0, 0.0, 0.99, -0.0], 'objects': [[314, 415, 85, 130, 1, 0, -0.0004487431081583815, -0.17816923711424243, 0.638], [133, 394, 103, 171, 0, 54, -0.18230991347595354, -0.14893129554855603, 0.609], [294, 183, 169, 246, 0, 53, -0.0, 0.0, 0.0], [294, 183, 169, 246, 0, 53, -0.0, 0.0, 0.0], [532, 278, 108, 122, 0, 54, 0.28074112296155274, -0.04129782910501088, 0.782], [451, 184, 130, 69, 0, 53, 0.22264704646581185, 0.10133424958840656, 0.988], [533, 146, 26, 33, 1, 0, 0.24668735466278544, 0.11311747384783849, 0.684], [490, 143, 23, 44, 0, 49, 0.0, 0.0, 0.0], [69, 146, 138, 132, 0, 53, -0.3583910358372743, 0.14635813502242262, 0.885], [572, 100, 136, 44, 0, 52, 0.2758284673921954, 0.1566759135084266, 0.649], [419, 104, 79, 89, 1, 0, 0.14580490405654106, 0.19840561402457424, 0.845], [294, 183, 169, 246, 0, 53, -0.0, 0.0, 0.0], [475, 47, 55, 94, 1, 0, 0.4453844314725403, 0.5530769616428911, 1.681], [433, 30, 49, 60, 1, 0, 0.15397706509515993, 0.28105066032007187, 0.787]]}, 'HW/g3/rgb/278.jpg': {'poses': [0.99, 0.0, 0.0, -0.0, 0.0, 0.99, 0.0, -0.0, 0.0, 0.0, 0.99, -0.0], 'objects': [[455, 457, 25, 45, 0, 54, 0.1447376714261573, -0.21757959388370987, 0.624], [258, 199, 183, 294, 2, 0, -0.09152245864693609, 0.07644895071038016, 0.983], [544, 414, 191, 39, 0, 52, 0.2511473160666596, -0.18405489676392064, 0.663], [111, 401, 103, 158, 0, 52, -0.20978762865459205, -0.16007567957181973, 0.625], [258, 199, 183, 294, 2, 0, -0.09152245864693609, 0.07644895071038016, 0.983], [409, 88, 88, 176, 1, 0, 0.13045767045128384, 0.2184020287553973, 0.836], [587, 223, 105, 41, 0, 52, 0.4236700093680504, 0.03589086385137661, 0.942], [45, 112, 91, 79, 0, 52, -0.37565525494048335, 0.18723179765270423, 0.845], [409, 88, 88, 176, 1, 0, 0.13045767045128384, 0.2184020287553973, 0.836], [532, 118, 102, 39, 0, 52, 0.24878976753498214, 0.1466793428568575, 0.693], [258, 199, 183, 294, 2, 0, -0.09152245864693609, 0.07644895071038016, 0.983], [45, 112, 91, 79, 0, 52, -0.37565525494048335, 0.18723179765270423, 0.845], [409, 88, 88, 176, 1, 0, 0.13045767045128384, 0.2184020287553973, 0.836], [258, 199, 183, 294, 2, 0, -0.09152245864693609, 0.07644895071038016, 0.983]]}, 'HW/g3/rgb/292.jpg': {'poses': [0.99, 0.0, 0.0, -0.0, 0.0, 0.99, 0.0, -0.0, 0.0, 0.0, 0.99, -0.0], 'objects': [[362, 461, 51, 38, 0, 53, 0.04819793153608835, -0.21815234097521544, 0.614], [453, 299, 149, 214, 1, 0, 0.12827339560303877, -0.04909988849976801, 0.561], [590, 406, 99, 51, 0, 52, 0.3010153387473722, -0.17502336278928948, 0.662], [260, 384, 97, 191, 0, 52, -0.05361369270176305, -0.13612868818645357, 0.597], [51, 413, 102, 133, 0, 53, -0.2629706488568299, -0.1669535399053701, 0.605], [624, 254, 31, 74, 0, 54, 0.4229482759141604, -0.010880060072111957, 0.828], [453, 299, 149, 214, 1, 0, 0.12827339560303877, -0.04909988849976801, 0.561], [350, 110, 102, 165, 2, 0, 0.05147801892019876, 0.1972214742969871, 0.877], [350, 110, 102, 165, 2, 0, 0.05147801892019876, 0.1972214742969871, 0.877], [50, 139, 101, 129, 0, 52, -0.37261067280971216, 0.15111268989063556, 0.854], [197, 134, 72, 127, 0, 29, -0.22533974601324094, 0.21540109166717364, 1.163], [161, 82, 110, 81, 0, 52, -0.21796948525272286, 0.23347223359722327, 0.861], [512, 89, 92, 179, 2, 0, 0.28851293731583905, 0.2297402603003787, 0.885], [512, 89, 92, 179, 2, 0, 0.28851293731583905, 0.2297402603003787, 0.885]]}, 'HW/g3/rgb/307.jpg': {'poses': [0.99, 0.0, 0.0, -0.0, 0.0, 0.99, 0.0, -0.0, 0.0, 0.0, 0.99, -0.0], 'objects': [[435, 236, 410, 390, 2, 0, 0.18124410770579044, 0.015134075245707588, 0.911], [541, 452, 70, 56, 0, 52, 0.23627591577174026, -0.21514581258215348, 0.632], [158, 411, 119, 138, 0, 53, -0.15899491031466456, -0.16795264730828127, 0.616], [32, 395, 65, 145, 1, 0, -0.27634563211378144, -0.1459986747997672, 0.593], [376, 382, 80, 166, 0, 52, 0.06360080624450752, -0.14067183439774086, 0.626], [25, 294, 51, 58, 0, 41, -0.2898808056080199, -0.048109257465153404, 0.607], [448, 170, 30, 44, 0, 52, 0.20717709079636887, 0.11816370558490862, 0.94], [571, 128, 138, 117, 0, 53, 0.48770531590028654, 0.22478882600606712, 1.152], [143, 142, 129, 151, 2, 0, -0.24269313058651326, 0.14756583220062536, 0.858], [331, 119, 90, 154, 0, 54, 0.03246114333721336, 0.2492766139461851, 1.187]]}, 'HW/g3/rgb/327.jpg': {'poses': [0.99, 0.0, 0.0, -0.0, 0.0, 0.99, 0.0, -0.0, 0.0, 0.0, 0.99, -0.0], 'objects': [[323, 414, 151, 131, 0, 53, 0.00827596250121104, -0.16240137949757705, 0.585], [502, 395, 233, 170, 0, 52, 0.19591538743061832, -0.15584681475253395, 0.633], [415, 150, 449, 220, 2, 0, 0.1725880493003974, 0.1651152860139343, 1.04], [49, 113, 99, 125, 0, 53, -0.3827790475526749, 0.19221284226016175, 0.874], [415, 150, 449, 220, 2, 0, 0.1725880493003974, 0.1651152860139343, 1.04], [49, 113, 99, 125, 0, 53, -0.3827790475526749, 0.19221284226016175, 0.874], [274, 133, 39, 38, 1, 0, -0.0557651360683636, 0.15621874888709109, 0.836], [49, 113, 99, 125, 0, 53, -0.3827790475526749, 0.19221284226016175, 0.874], [438, 57, 47, 33, 0, 53, 0.16577136921579289, 0.254052190976532, 0.813]]}, 'HW/g3/rgb/340.jpg': {'poses': [0.99, 0.0, 0.0, -0.0, 0.0, 0.99, 0.0, -0.0, 0.0, 0.0, 0.99, -0.0], 'objects': [[406, 368, 467, 217, 2, 0, 0.10833851634333028, -0.14452880937183057, 0.717], [433, 409, 120, 91, 0, 53, 0.11582518746675309, -0.15945196687640048, 0.592], [486, 116, 96, 112, 0, 53, 0.23667364157730494, 0.17971021017067343, 0.836], [386, 142, 35, 23, 1, 0, 0.09861272286382368, 0.14361010476401184, 0.835], [265, 234, 181, 239, 0, 52, -0.07976080150710599, 0.019480253048626387, 0.978], [151, 151, 127, 174, 0, 53, -0.32143335722847505, 0.1872772258758423, 1.192], [486, 116, 96, 112, 0, 53, 0.23667364157730494, 0.17971021017067343, 0.836], [486, 116, 96, 112, 0, 53, 0.23667364157730494, 0.17971021017067343, 0.836]]}, 'HW/g3/rgb/356.jpg': {'poses': [0.99, 0.0, 0.0, -0.0, 0.0, 0.99, 0.0, -0.0, 0.0, 0.0, 0.99, -0.0], 'objects': [[476, 379, 328, 202, 0, 52, 0.1927533217704749, -0.15888401902646737, 0.723], [12, 385, 25, 31, 0, 53, -0.33084598026848094, -0.15227398442931342, 0.663], [345, 182, 166, 169, 2, 0, 0.0447975455748299, 0.09401335278836838, 0.888], [116, 161, 99, 173, 0, 53, -0.3827423334965508, 0.16434088698979338, 1.169], [584, 197, 112, 80, 0, 54, 0.47060448075198996, 0.08577938298967715, 1.058], [345, 182, 166, 169, 2, 0, 0.0447975455748299, 0.09401335278836838, 0.888], [116, 161, 99, 173, 0, 53, -0.3827423334965508, 0.16434088698979338, 1.169], [447, 158, 158, 165, 0, 53, 0.25834508062545786, 0.1718842124267069, 1.181], [447, 158, 158, 165, 0, 53, 0.25834508062545786, 0.1718842124267069, 1.181], [116, 161, 99, 173, 0, 53, -0.3827423334965508, 0.16434088698979338, 1.169]]}, 'HW/g3/rgb/376.jpg': {'poses': [0.99, 0.0, 0.0, -0.0, 0.0, 0.99, 0.0, -0.0, 0.0, 0.0, 0.99, -0.0], 'objects': [[357, 409, 178, 141, 1, 0, 0.05078936993164002, -0.19473610143857695, 0.723], [143, 292, 155, 84, 0, 54, -0.24637029923176348, -0.06615381135173652, 0.871], [589, 397, 86, 163, 0, 53, 0.32710637138206644, -0.18014575911208205, 0.722], [143, 292, 155, 84, 0, 54, -0.24637029923176348, -0.06615381135173652, 0.871], [143, 292, 155, 84, 0, 54, -0.24637029923176348, -0.06615381135173652, 0.871], [172, 121, 241, 143, 0, 53, -0.3019854707601415, 0.2656091262617045, 1.285], [172, 121, 241, 143, 0, 53, -0.3019854707601415, 0.2656091262617045, 1.285], [595, 152, 90, 117, 1, 0, 0.46388203064526756, 0.15576975292892406, 1.002], [172, 121, 241, 143, 0, 53, -0.3019854707601415, 0.2656091262617045, 1.285], [462, 150, 102, 149, 0, 54, 0.23960560648911214, 0.1562244629208763, 0.984], [172, 121, 241, 143, 0, 53, -0.3019854707601415, 0.2656091262617045, 1.285]]}, 'HW/g3/rgb/409.jpg': {'poses': [0.99, 0.0, 0.0, -0.0, 0.0, 0.99, 0.0, -0.0, 0.0, 0.0, 0.99, -0.0], 'objects': [[340, 303, 235, 354, 2, 0, 0.041269172427114614, -0.09206286476299089, 0.978], [623, 377, 33, 104, 1, 0, 0.39001431009475407, -0.1658012617322669, 0.766], [68, 345, 137, 155, 0, 52, -0.35253230587580797, -0.14180385659447906, 0.867], [194, 165, 388, 156, 2, 0, -0.26249248390703495, 0.1769753301701246, 1.321], [539, 184, 109, 134, 2, 0, 0.3775947600149615, 0.10451376551678775, 1.019], [393, 140, 89, 69, 0, 52, 0.1305568505303493, 0.1765210703356417, 1.007]]}, 'HW/g3/rgb/420.jpg': {'poses': [0.99, 0.0, 0.0, -0.0, 0.0, 0.99, 0.0, -0.0, 0.0, 0.0, 0.99, -0.0], 'objects': [[17, 387, 35, 33, 1, 0, -0.2841519948549241, -0.13489544749758553, 0.579], [59, 378, 26, 47, 1, 0, -0.24613378446071874, -0.12737254021277256, 0.584], [233, 347, 274, 265, 0, 52, -0.12011434540370336, -0.14917533502278582, 0.894], [566, 337, 123, 166, 1, 0, 0.2897433879309459, -0.10493276673217256, 0.698], [233, 347, 274, 265, 0, 52, -0.12011434540370336, -0.14917533502278582, 0.894], [582, 169, 116, 146, 1, 0, 0.4445962197066638, 0.12825051419544645, 1.007], [254, 169, 183, 107, 0, 52, -0.0, 0.0, 0.0], [435, 185, 96, 133, 0, 54, 0.20651084939474257, 0.10474675827603208, 1.038], [254, 169, 183, 107, 0, 52, -0.0, 0.0, 0.0]]}, 'HW/g3/rgb/441.jpg': {'poses': [0.99, 0.0, 0.0, -0.0, 0.0, 0.99, 0.0, -0.0, 0.0, 0.0, 0.99, -0.0], 'objects': [[144, 449, 121, 62, 1, 0, -0.19544031951678506, -0.23314594772019254, 0.695], [337, 426, 85, 107, 0, 53, 0.0258124597285622, -0.20612895029069053, 0.693], [509, 416, 127, 121, 1, 0, 0.22537935890791616, -0.19720237110509622, 0.702], [25, 418, 50, 123, 0, 41, -0.39733250455662694, -0.23647180659330372, 0.832], [516, 340, 107, 115, 1, 0, 0.22184650375940607, -0.10357994471799935, 0.667], [391, 224, 99, 149, 0, 53, 0.13051876278891955, 0.037650549828709134, 1.033], [158, 233, 317, 162, 2, 0, -0.3221195585595802, 0.026921095426220534, 1.248], [117, 232, 36, 29, 1, 0, -0.3081689632925907, 0.02197020859481964, 0.946], [409, 202, 34, 25, 1, 0, 0.15558169550230858, 0.0725938276671704, 0.997], [543, 198, 114, 163, 2, 0, 0.3684798141778423, 0.07759723835151972, 0.977]]}, 'HW/g4/rgb/1.jpg': {'poses': [1.0, 0.0, 0.0, -0.0, 0.0, 1.0, 0.0, -0.0, 0.0, 0.0, 1.0, -0.0], 'objects': [[490, 262, 300, 177, 2, 0, 0.16107463280606243, -0.014658172996262039, 0.556], [206, 312, 126, 157, 0, 54, -0.12201457516364883, -0.07434495046300542, 0.682], [565, 141, 112, 53, 0, 54, 0.3592924876131654, 0.15089409924468983, 0.869], [565, 141, 112, 53, 0, 54, 0.3592924876131654, 0.15089409924468983, 0.869], [427, 93, 56, 76, 0, 50, 0.15751638341289093, 0.21452855690229516, 0.848], [259, 144, 102, 149, 0, 54, -0.08121223014989486, 0.1497898704884249, 0.888], [427, 93, 56, 76, 0, 50, 0.15751638341289093, 0.21452855690229516, 0.848], [427, 93, 56, 76, 0, 50, 0.15751638341289093, 0.21452855690229516, 0.848], [568, 74, 93, 54, 0, 54, 0.3464395120234727, 0.23547283816213477, 0.828], [29, 60, 58, 120, 1, 0, -0.6014197146400411, 0.3927139270972904, 1.277]]}, 'HW/g4/rgb/38.jpg': {'poses': [0.99, 0.0, 0.0, -0.0, 0.0, 0.99, 0.0, -0.0, 0.0, 0.0, 0.99, -0.0], 'objects': [[580, 378, 101, 95, 1, 0, 0.2756313302571108, -0.13718720512642796, 0.629], [107, 326, 128, 174, 1, 0, -0.22315374217457606, -0.08616260268901997, 0.652], [581, 209, 118, 67, 1, 0, 0.2388416158970437, 0.03325426729002681, 0.543], [351, 305, 188, 207, 2, 0, 0.032889599409597306, -0.05310462090375115, 0.545], [581, 209, 118, 67, 1, 0, 0.2388416158970437, 0.03325426729002681, 0.543], [487, 170, 103, 54, 1, 0, 0.250866931185013, 0.11074704746840902, 0.881], [364, 130, 44, 42, 0, 54, 0.07051015812084684, 0.16535170736495755, 0.862], [364, 130, 44, 42, 0, 54, 0.07051015812084684, 0.16535170736495755, 0.862], [496, 103, 78, 50, 1, 0, 0.25196593743850393, 0.19885653117249677, 0.841], [181, 147, 111, 144, 2, 0, -0.18691401032117044, 0.13900124499512567, 0.849], [354, 92, 45, 35, 0, 53, 0.053870841756891136, 0.2100736441780626, 0.825], [288, 99, 23, 55, 0, 52, -0.0350142015293025, 0.1951805528442194, 0.803], [288, 99, 23, 55, 0, 52, -0.0350142015293025, 0.1951805528442194, 0.803], [14, 13, 28, 26, 0, 53, -0.6954860088540262, 0.5404584718132519, 1.403]]}, 'HW/g4/rgb/62.jpg': {'poses': [0.99, 0.0, 0.0, -0.0, 0.0, 0.99, 0.0, -0.0, 0.0, 0.0, 0.99, -0.0], 'objects': [[616, 364, 47, 76, 0, 53, 0.3353870011905944, -0.13140480919911215, 0.674], [480, 361, 98, 99, 1, 0, 0.1751226356549488, -0.12179245546371818, 0.641], [615, 305, 50, 40, 1, 0, 0.3506414526258841, -0.06888984766780194, 0.707], [39, 316, 78, 163, 1, 0, -0.3103979791920918, -0.07896976928269496, 0.683], [252, 295, 175, 199, 2, 0, -0.0574770412268742, -0.04514797933068989, 0.558], [436, 138, 97, 146, 2, 0, 0.16569622419833277, 0.14752349681757232, 0.826], [436, 138, 97, 146, 2, 0, 0.16569622419833277, 0.14752349681757232, 0.826], [436, 138, 97, 146, 2, 0, 0.16569622419833277, 0.14752349681757232, 0.826], [436, 138, 97, 146, 2, 0, 0.16569622419833277, 0.14752349681757232, 0.826], [121, 128, 105, 133, 2, 0, -0.2751158067067667, 0.16820136112606762, 0.862], [621, 88, 37, 52, 0, 54, 0.4390838719475534, 0.2267619150235465, 0.868], [264, 100, 104, 77, 0, 52, -0.06972582812376944, 0.202302643328292, 0.838]]}, 'HW/g4/rgb/78.jpg': {'poses': [0.99, 0.0, 0.0, -0.0, 0.0, 0.99, 0.0, -0.0, 0.0, 0.0, 0.99, -0.0], 'objects': [[341, 358, 97, 77, 1, 0, 0.027623957474570204, -0.11657837295011636, 0.63], [516, 333, 106, 117, 1, 0, 0.21120319323421716, -0.09126331190394112, 0.635], [122, 242, 133, 146, 2, 0, -0.17209033048411126, 0.0036286942396692038, 0.542], [346, 150, 168, 204, 2, 0, 0.04542921200214231, 0.1384428167347603, 0.872], [122, 242, 133, 146, 2, 0, -0.17209033048411126, 0.0036286942396692038, 0.542], [286, 181, 34, 50, 0, 54, -0.025328323880350802, 0.05806286506565166, 0.54], [334, 176, 34, 42, 1, 0, 0.01724676645154325, 0.06183104900108322, 0.534], [28, 145, 57, 79, 1, 0, -0.42818738276089396, 0.15132859578411692, 0.906], [152, 98, 98, 44, 0, 52, -0.22110727898118474, 0.20189163366907492, 0.825], [584, 82, 52, 70, 0, 49, 0.3905394462195153, 0.23808202218160515, 0.878], [525, 74, 64, 60, 0, 54, 0.3036745840221063, 0.2485546625044756, 0.874], [160, 58, 49, 37, 0, 53, -0.20486607676080976, 0.2499108482401335, 0.804], [90, 66, 30, 52, 0, 52, -0.2925456221636269, 0.23511264025426734, 0.79], [115, 51, 41, 28, 1, 0, -0.2569959154011272, 0.25179823335892837, 0.781]]}, 'HW/g4/rgb/95.jpg': {'poses': [0.99, 0.0, 0.0, -0.0, 0.0, 0.99, 0.0, -0.0, 0.0, 0.0, 0.99, -0.0], 'objects': [[271, 392, 69, 71, 1, 0, -0.044211017399275326, -0.14884798272049066, 0.617], [271, 392, 69, 71, 1, 0, -0.044211017399275326, -0.14884798272049066, 0.617], [437, 360, 121, 133, 1, 0, 0.1251932386484145, -0.11658920664235493, 0.619], [599, 323, 76, 107, 0, 53, 0.34136739616338957, -0.0924689016046772, 0.727], [49, 311, 98, 216, 1, 0, -0.25358016994622284, -0.06215985346980914, 0.579], [258, 176, 130, 205, 2, 0, -0.08128088138227386, 0.10108334415345628, 0.873], [624, 159, 31, 39, 1, 0, 0.47913705653077593, 0.13496723979521164, 0.938], [258, 176, 130, 205, 2, 0, -0.08128088138227386, 0.10108334415345628, 0.873], [65, 111, 130, 78, 0, 52, -0.3354228322208564, 0.1819316539998085, 0.815], [459, 93, 57, 60, 0, 54, 0.20682417774762743, 0.2193352108894928, 0.867], [516, 98, 53, 71, 0, 49, 0.2883671945418367, 0.21216975320131873, 0.867]]}, 'HW/g4/rgb/116.jpg': {'poses': [0.99, 0.0, 0.0, -0.0, 0.0, 0.99, 0.0, -0.0, 0.0, 0.0, 0.99, -0.0], 'objects': [[134, 405, 83, 74, 1, 0, -0.1795187863550751, -0.15842788622618023, 0.603], [134, 405, 83, 74, 1, 0, -0.1795187863550751, -0.15842788622618023, 0.603], [304, 359, 116, 146, 1, 0, -0.010373828918170453, -0.11257887461036208, 0.603], [468, 306, 172, 115, 0, 52, 0.1859969468736272, -0.07273397045445626, 0.734], [87, 181, 174, 219, 2, 0, -0.0, 0.0, 0.0], [333, 85, 53, 61, 0, 54, 0.026264720437919595, 0.22813789078929594, 0.857], [390, 89, 53, 72, 0, 52, 0.1087377060704201, 0.22636554461235056, 0.872], [557, 117, 142, 184, 2, 0, 0.3065952049520348, 0.1633965590697499, 0.766]]}, 'HW/g4/rgb/134.jpg': {'poses': [0.99, 0.0, 0.0, -0.0, 0.0, 0.99, 0.0, -0.0, 0.0, 0.0, 0.99, -0.0], 'objects': [[32, 413, 65, 73, 1, 0, -0.27494759350275044, -0.16281419594077415, 0.59], [601, 388, 78, 163, 1, 0, 0.251086706331662, -0.12459011179986616, 0.531], [616, 314, 47, 28, 1, 0, 0.24880341334613829, -0.056158027063321785, 0.5], [219, 360, 106, 129, 1, 0, -0.09289937231444019, -0.1111270305637955, 0.59], [400, 311, 166, 119, 0, 52, 0.10053407353889332, -0.07643836903368585, 0.712], [24, 262, 48, 59, 0, 41, -0.24679476718551824, -0.013577264555890197, 0.515], [628, 252, 24, 43, 1, 0, 0.2602558374072234, -0.004946656087663475, 0.503], [317, 195, 45, 31, 1, 0, 0.004042898459881239, 0.08033241072238369, 0.952], [59, 141, 119, 124, 2, 0, -0.34475588302888344, 0.14203840412215912, 0.818], [274, 89, 62, 65, 0, 54, -0.056232069025873826, 0.21883733269290312, 0.843], [337, 92, 55, 73, 0, 52, 0.03154856189046491, 0.21567560802281094, 0.847], [507, 133, 137, 222, 2, 0, 0.235137331267837, 0.13827975379957824, 0.74]]}, 'HW/g4/rgb/152.jpg': {'poses': [0.99, 0.0, 0.0, -0.0, 0.0, 0.99, 0.0, -0.0, 0.0, 0.0, 0.99, -0.0], 'objects': [[148, 388, 92, 118, 1, 0, -0.16394154787746484, -0.1400758884077591, 0.597], [148, 388, 92, 118, 1, 0, -0.16394154787746484, -0.1400758884077591, 0.597], [517, 403, 68, 153, 1, 0, 0.17548308101097598, -0.13619914882708356, 0.525], [562, 315, 34, 37, 0, 52, 0.1907718375176016, -0.05322351624839451, 0.467], [371, 324, 111, 102, 0, 53, 0.06777105701458705, -0.0935417373757918, 0.726], [458, 142, 145, 219, 2, 0, 0.17388569931156614, 0.12623930167279604, 0.734], [622, 258, 35, 95, 1, 0, 0.43239598875833957, -0.016828614397754984, 0.852], [458, 142, 145, 219, 2, 0, 0.17388569931156614, 0.12623930167279604, 0.734], [36, 186, 73, 123, 1, 0, -0.39922966709079033, 0.0862562162236873, 0.869], [214, 118, 57, 72, 0, 54, -0.14283920288385288, 0.18244962993161784, 0.862], [276, 115, 61, 78, 0, 52, -0.05440118177220309, 0.18585764138268762, 0.858], [458, 142, 145, 219, 2, 0, 0.17388569931156614, 0.12623930167279604, 0.734]]}, 'HW/g4/rgb/159.jpg': {'poses': [0.99, 0.0, 0.0, -0.0, 0.0, 0.99, 0.0, -0.0, 0.0, 0.0, 0.99, -0.0], 'objects': [[426, 361, 207, 137, 0, 54, 0.12868619246861926, -0.13281267764296256, 0.699], [563, 420, 44, 119, 1, 0, 0.20589782963764316, -0.14433844567748447, 0.502], [563, 420, 44, 119, 1, 0, 0.20589782963764316, -0.14433844567748447, 0.502], [205, 400, 95, 114, 1, 0, -0.11086201975649515, -0.15624344772195806, 0.614], [545, 147, 189, 191, 2, 0, 0.2811558252615894, 0.12099166083792444, 0.739], [14, 318, 29, 55, 0, 49, -0.281069541710786, -0.0674320511411976, 0.567], [545, 147, 189, 191, 2, 0, 0.2811558252615894, 0.12099166083792444, 0.739], [342, 245, 37, 47, 1, 0, 0.0432682035962759, 0.0016511391092511598, 0.951], [545, 147, 189, 191, 2, 0, 0.2811558252615894, 0.12099166083792444, 0.739], [91, 201, 99, 118, 0, 52, -0.32884550531980783, 0.06642295472184617, 0.892], [277, 140, 53, 62, 0, 54, -0.05409703576033179, 0.15355755473090582, 0.876], [342, 138, 71, 70, 0, 50, 0.039173420921549476, 0.15377449244543556, 0.861]]}, 'HW/g4/rgb/190.jpg': {'poses': [0.99, 0.0, 0.0, -0.0, 0.0, 0.99, 0.0, -0.0, 0.0, 0.0, 0.99, -0.0], 'objects': [[399, 302, 167, 127, 0, 54, 0.09656825936951068, -0.06399676697752955, 0.692], [588, 395, 104, 160, 1, 0, 0.21712622939295798, -0.11842388293202027, 0.481], [196, 345, 90, 112, 1, 0, -0.11958929145835628, -0.10009683994904403, 0.612], [623, 304, 33, 31, 0, 52, 0.21995585112393443, -0.041379871665775336, 0.432], [399, 302, 167, 127, 0, 54, 0.09656825936951068, -0.06399676697752955, 0.692], [536, 244, 120, 101, 1, 0, 0.3041826348855239, 0.0028197686319742753, 0.832], [330, 182, 55, 33, 1, 0, 0.024232441250279218, 0.09983625189125156, 0.943], [74, 138, 121, 123, 1, 0, -0.339981715886026, 0.15306009294510833, 0.857], [274, 78, 62, 64, 0, 54, -0.05603195490122659, 0.23333163843295565, 0.84], [338, 77, 63, 74, 0, 52, 0.032245986351368966, 0.2316463852163525, 0.829], [558, 77, 51, 154, 1, 0, 0.28937150674545953, 0.20118865784773682, 0.72], [473, 104, 42, 208, 0, 54, 0.18524961856062352, 0.16623807660283854, 0.708]]}, 'HW/g4/rgb/210.jpg': {'poses': [0.99, 0.0, 0.0, -0.0, 0.0, 0.99, 0.0, -0.0, 0.0, 0.0, 0.99, -0.0], 'objects': [[76, 408, 59, 64, 1, 0, -0.21008168029508856, -0.14294731825901044, 0.534], [76, 408, 59, 64, 1, 0, -0.21008168029508856, -0.14294731825901044, 0.534], [285, 357, 123, 151, 1, 0, -0.024859820651485363, -0.0938967577665531, 0.512], [516, 307, 247, 166, 0, 52, 0.19922946889337967, -0.06034657499475136, 0.599], [40, 240, 80, 99, 0, 54, -0.20014316943038588, 0.004420384829148493, 0.442], [391, 165, 71, 47, 1, 0, 0.10562796291533083, 0.11199952764740666, 0.836], [589, 141, 102, 146, 1, 0, 0.3203105326414417, 0.12276424414959232, 0.707], [107, 111, 132, 138, 1, 0, -0.25601073488739706, 0.16697530943786107, 0.748], [338, 40, 68, 77, 0, 54, 0.02874521581865098, 0.2516939066919005, 0.739], [594, 27, 45, 55, 0, 54, 0.2753997325543477, 0.21615893156506796, 0.597], [412, 40, 64, 80, 2, 0, 0.11752996074120192, 0.24862862230729008, 0.73]]}, 'HW/g4/rgb/229.jpg': {'poses': [0.99, 0.0, 0.0, -0.0, 0.0, 0.99, 0.0, -0.0, 0.0, 0.0, 0.99, -0.0], 'objects': [[495, 429, 290, 94, 0, 54, 0.15314771125296012, -0.1554352278183192, 0.514], [197, 419, 76, 85, 1, 0, -0.09745992454398986, -0.14379454795947616, 0.503], [467, 331, 249, 108, 0, 54, 0.15558261317243355, -0.08677701890631105, 0.618], [614, 259, 51, 40, 0, 54, 0.30053850961589784, -0.013014134359393739, 0.608], [117, 228, 216, 118, 0, 29, -0.13909952148619054, 0.01273999234469996, 0.427], [37, 99, 74, 84, 0, 50, -0.338286636559728, 0.17962444402475483, 0.739], [207, 107, 123, 132, 2, 0, -0.12496616242479225, 0.1620377280284162, 0.705], [459, 33, 52, 51, 0, 29, 0.16961013884494014, 0.2503841060414421, 0.711], [525, 46, 63, 86, 0, 52, 0.24530235276842907, 0.23345271313700133, 0.706]]}, 'HW/g4/rgb/250.jpg': {'poses': [0.99, 0.0, 0.0, -0.0, 0.0, 0.99, 0.0, -0.0, 0.0, 0.0, 0.99, -0.0], 'objects': [[326, 430, 115, 99, 1, 0, 0.009453037586809558, -0.15050776869694546, 0.495], [51, 327, 103, 218, 1, 0, -0.2047259101017635, -0.06302176055355446, 0.471], [553, 402, 173, 156, 1, 0, 0.1826557816541306, -0.11960714469112307, 0.464], [22, 146, 45, 74, 1, 0, -0.6277496831157761, 0.21515472730414897, 1.301], [22, 146, 45, 74, 1, 0, -0.6277496831157761, 0.21515472730414897, 1.301], [281, 184, 209, 236, 2, 0, -0.02195147990421264, 0.04082088191921641, 0.398], [281, 184, 209, 236, 2, 0, -0.02195147990421264, 0.04082088191921641, 0.398], [566, 78, 69, 76, 0, 54, 0.2968001753160836, 0.19860966842805153, 0.715], [625, 80, 30, 83, 0, 53, 0.3612822768209538, 0.19350127753115967, 0.705]]}, 'HW/g4/rgb/270.jpg': {'poses': [0.99, 0.0, 0.0, -0.0, 0.0, 0.99, 0.0, -0.0, 0.0, 0.0, 0.99, -0.0], 'objects': [[534, 433, 94, 94, 1, 0, 0.19129654421463974, -0.16315986330628454, 0.528], [443, 424, 88, 112, 1, 0, 0.10331753299815681, -0.14324545431249747, 0.487], [627, 386, 26, 58, 0, 54, 0.2821191871408553, -0.1265359324933286, 0.547], [171, 322, 206, 239, 2, 0, -0.10128970197272892, -0.05373090833444057, 0.428], [425, 148, 127, 178, 2, 0, 0.1253434142766993, 0.11134247535357589, 0.687], [425, 148, 127, 178, 2, 0, 0.1253434142766993, 0.11134247535357589, 0.687], [96, 120, 122, 108, 2, 0, -0.28075994446444097, 0.16230670700327793, 0.779], [235, 104, 139, 87, 0, 52, -0.09514667313359573, 0.1704644683808768, 0.726], [425, 148, 127, 178, 2, 0, 0.1253434142766993, 0.11134247535357589, 0.687]]}, 'HW/g4/rgb/297.jpg': {'poses': [0.99, 0.0, 0.0, -0.0, 0.0, 0.99, 0.0, -0.0, 0.0, 0.0, 0.99, -0.0], 'objects': [[567, 463, 34, 34, 1, 0, 0.1942079110979875, -0.16710892115858145, 0.466], [541, 445, 89, 69, 1, 0, 0.1973950688725931, -0.17363283675778873, 0.528], [612, 409, 56, 22, 0, 52, 0.21898898453435794, -0.12012766423458551, 0.446], [278, 418, 142, 82, 1, 0, -0.03125437811836132, -0.14779487912081482, 0.52], [35, 337, 71, 199, 1, 0, -0.25588983688393385, -0.0834350795649796, 0.555], [214, 369, 64, 103, 1, 0, -0.08948163521726284, -0.1097427322823135, 0.54], [258, 329, 24, 53, 1, 0, -0.039755940836461556, -0.058545980831282055, 0.427], [335, 276, 124, 134, 1, 0, 0.014699202194996038, -0.021435517918678478, 0.433], [335, 276, 124, 134, 1, 0, 0.014699202194996038, -0.021435517918678478, 0.433], [561, 168, 157, 175, 2, 0, 0.2892738848525413, 0.09172748408079953, 0.711], [335, 276, 124, 134, 1, 0, 0.014699202194996038, -0.021435517918678478, 0.433], [561, 168, 157, 175, 2, 0, 0.2892738848525413, 0.09172748408079953, 0.711], [341, 138, 104, 47, 0, 52, 0.03218410283545163, 0.13109230831004612, 0.734], [353, 95, 51, 41, 0, 53, 0.04538099282803334, 0.178018935215157, 0.713], [275, 111, 33, 76, 0, 54, -0.04696947498029608, 0.1611713548317322, 0.722], [177, 147, 114, 150, 2, 0, -0.17664446627391084, 0.12754060053145216, 0.779], [306, 90, 43, 39, 1, 0, -0.009885480166461654, 0.1833957545469486, 0.711], [54, 52, 108, 104, 1, 0, -0.6398413590863744, 0.47759969353578113, 1.489]]}}\n"
          ],
          "name": "stdout"
        }
      ]
    }
  ]
}